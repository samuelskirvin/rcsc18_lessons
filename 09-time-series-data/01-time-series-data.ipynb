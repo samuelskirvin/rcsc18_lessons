{
 "cells": [
  {
   "cell_type": "markdown",
   "metadata": {},
   "source": [
    "# Handling Data over time\n",
    "\n",
    "There's a widespread trend in solar physics at the moment for correlation over actual science, so being able to handle data over time spans is a skill we all need to have. Python has ample support for this so lets have a look at what we can use."
   ]
  },
  {
   "cell_type": "markdown",
   "metadata": {},
   "source": [
    "\n",
    "<section class=\"objectives panel panel-warning\">\n",
    "<div class=\"panel-heading\">\n",
    "<h2><span class=\"fa fa-certificate\"></span> Learning Objectives</h2>\n",
    "</div>\n",
    "\n",
    "\n",
    "<div class=\"panel-body\">\n",
    "\n",
    "<ul>\n",
    "<li>Understand and use Sunpy Time Series data.</li>\n",
    "<li>Create a pandas dataframe.</li>\n",
    "<li>Utilise the datetime package.</li>\n",
    "<li>Use the pandas dataframe to plot the data within it.</li>\n",
    "</ul>\n",
    "\n",
    "</div>\n",
    "\n",
    "</section>\n"
   ]
  },
  {
   "cell_type": "markdown",
   "metadata": {},
   "source": [
    "## Sunpy Time Series\n",
    "\n",
    "SunPy provides a timeseries object to handle this type of time series data. The module has a number of instruments associated with it, including:\n",
    "\n",
    "* GOES XRS TimeSeries\n",
    "* SDO EVE TimeSeries for level 0CS data\n",
    "* Proba-2 LYRA TimeSeries\n",
    "* NOAA Solar Cycle monthly indices.\n",
    "* Nobeyama Radioheliograph Correlation TimeSeries.\n",
    "* RHESSI X-ray Summary TimeSeries.\n",
    "\n",
    "We're going to examine the data created by a solar flare on June 7th 2011.\n",
    "\n",
    "Lets begin with the import statements:"
   ]
  },
  {
   "cell_type": "code",
   "execution_count": 1,
   "metadata": {},
   "outputs": [],
   "source": [
    "import numpy as np\n",
    "import sunpy\n",
    "import sunpy.data.sample\n",
    "import sunpy.timeseries as ts\n",
    "import matplotlib.pyplot as plt\n",
    "%matplotlib inline"
   ]
  },
  {
   "cell_type": "markdown",
   "metadata": {},
   "source": [
    "Now lets look at some test series data, in this case we can utilitse the sunpy sample data. Do this with `import sunpy.data.sample`"
   ]
  },
  {
   "cell_type": "code",
   "execution_count": 2,
   "metadata": {},
   "outputs": [],
   "source": [
    "goes_ts = ts.TimeSeries(sunpy.data.sample.GOES_XRS_TIMESERIES, source='XRS')"
   ]
  },
  {
   "cell_type": "markdown",
   "metadata": {},
   "source": [
    "Now goes data is a sunpy time seris object so we can inspect the object"
   ]
  },
  {
   "cell_type": "code",
   "execution_count": 3,
   "metadata": {},
   "outputs": [
    {
     "data": {
      "text/plain": [
       "|-------------------------------------------------------------------------------------------------|\n",
       "|TimeRange                  | Columns         | Meta                                              |\n",
       "|-------------------------------------------------------------------------------------------------|\n",
       "|2011-06-06 23:59:59.961999 | xrsa            | simple: True                                      |\n",
       "|            to             | xrsb            | bitpix: 8                                         |\n",
       "|2011-06-07 23:59:57.631999 |                 | naxis: 0                                          |\n",
       "|                           |                 | extend: True                                      |\n",
       "|                           |                 | date: 26/06/2012                                  |\n",
       "|                           |                 | numext: 3                                         |\n",
       "|                           |                 | telescop: GOES 15                                 |\n",
       "|                           |                 | instrume: X-ray Detector                          |\n",
       "|                           |                 | object: Sun                                       |\n",
       "|                           |                 | origin: SDAC/GSFC                                 |\n",
       "|                           |                 | ...                                               |\n",
       "|-------------------------------------------------------------------------------------------------|"
      ]
     },
     "execution_count": 3,
     "metadata": {},
     "output_type": "execute_result"
    }
   ],
   "source": [
    "goes_ts.meta"
   ]
  },
  {
   "cell_type": "markdown",
   "metadata": {},
   "source": [
    "NB: not all sources provide meta data so this may be empty.\n",
    "\n",
    "The actual data is accessible tthrough the attributes of the timeseries object. Part of the advantage of using these inbuilt functions we can get a quicklook at our data using short commands:"
   ]
  },
  {
   "cell_type": "code",
   "execution_count": 4,
   "metadata": {},
   "outputs": [
    {
     "name": "stderr",
     "output_type": "stream",
     "text": [
      "C:\\Users\\User\\Anaconda3\\lib\\site-packages\\matplotlib\\figure.py:459: UserWarning: matplotlib is currently using a non-GUI backend, so cannot show the figure\n",
      "  \"matplotlib is currently using a non-GUI backend, \"\n"
     ]
    },
    {
     "data": {
      "image/png": "[encoded data removed]",
      "text/plain": [
       "<Figure size 432x288 with 2 Axes>"
      ]
     },
     "metadata": {},
     "output_type": "display_data"
    }
   ],
   "source": [
    "goes_ts.peek()"
   ]
  },
  {
   "cell_type": "markdown",
   "metadata": {},
   "source": [
    "### Accessing and using the data\n",
    "\n",
    "More custom plots can be made easily by accessing the data in the timeseries functionality. Both the time information and the data are contained within the timeseries.data code, which is a pandas dataframe. We can see what data is contained in the dataframe by finding which columns it contains and also asking what's in the meta data: "
   ]
  },
  {
   "cell_type": "code",
   "execution_count": 5,
   "metadata": {},
   "outputs": [
    {
     "data": {
      "text/plain": [
       "Index(['xrsa', 'xrsb'], dtype='object')"
      ]
     },
     "execution_count": 5,
     "metadata": {},
     "output_type": "execute_result"
    }
   ],
   "source": [
    "goes_data = goes_ts.data\n",
    "goes_data.columns "
   ]
  },
  {
   "cell_type": "markdown",
   "metadata": {},
   "source": [
    "\n",
    "<section class=\"callout panel panel-warning\">\n",
    "<div class=\"panel-heading\">\n",
    "<h2><span class=\"fa fa-thumb-tack\"></span> On Dictionaries</h2>\n",
    "</div>\n",
    "\n",
    "\n",
    "<div class=\"panel-body\">\n",
    "\n",
    "<p>We can create keyword-data pairs to form a dictionary (shock horror) of values. In this case we have defined some strings and number to represent temperatures across europe</p>\n",
    "<div class=\"codehilite\"><pre><span></span>temps = {&#39;Brussles&#39;: 9, &#39;London&#39;: 3, &#39;Barcelona&#39;: 13, &#39;Rome&#39;: 16}\n",
    "temps[&#39;Rome&#39;]\n",
    "16\n",
    "</pre></div>\n",
    "\n",
    "\n",
    "<p>We can also find out what keywords are associated with a given dictionary, In this case:</p>\n",
    "<div class=\"codehilite\"><pre><span></span>temps.keys()\n",
    "dict_keys([&#39;London&#39;, &#39;Barcelona&#39;, &#39;Rome&#39;, &#39;Brussles&#39;])\n",
    "</pre></div>\n",
    "\n",
    "\n",
    "<p>Dictionaries will crop up more and more often, typically as a part of differnt file structure such as <code>ynl</code> and <code>json</code>.</p>\n",
    "\n",
    "</div>\n",
    "\n",
    "</section>\n"
   ]
  },
  {
   "cell_type": "markdown",
   "metadata": {},
   "source": [
    "## Pandas\n",
    "\n",
    "In its own words Pandas is a Python package providing fast, flexible, and expressive data structures designed to make working with “relational” or “labeled” data both easy and intuitive. Pandas has two forms of structures, 1D series and 2D dataframe. It also has its own functions associated with it.\n",
    "\n",
    "It is also amazing.\n",
    "\n",
    "Timeseries uses these in built Pandas functions, so we can find out things like the maximum of curves:\n"
   ]
  },
  {
   "cell_type": "code",
   "execution_count": 6,
   "metadata": {},
   "outputs": [
    {
     "data": {
      "text/plain": [
       "pandas.core.frame.DataFrame"
      ]
     },
     "execution_count": 6,
     "metadata": {},
     "output_type": "execute_result"
    }
   ],
   "source": [
    "type(goes_data)"
   ]
  },
  {
   "cell_type": "code",
   "execution_count": null,
   "metadata": {},
   "outputs": [],
   "source": []
  },
  {
   "cell_type": "code",
   "execution_count": 7,
   "metadata": {},
   "outputs": [
    {
     "name": "stdout",
     "output_type": "stream",
     "text": [
      "GOES long index : 2011-06-07 06:41:24.118999\n",
      "GOES short index : 2011-06-07 06:39:00.761999\n"
     ]
    }
   ],
   "source": [
    "max_t_goes_long = goes_data['xrsb'].idxmax()\n",
    "max_t_goes_short = goes_data.xrsa.idxmax()\n",
    "\n",
    "print('GOES long index : {}'.format(max_t_goes_long))\n",
    "print('GOES short index : {}'.format(max_t_goes_short))"
   ]
  },
  {
   "cell_type": "markdown",
   "metadata": {},
   "source": [
    "So lets plot them on the graph"
   ]
  },
  {
   "cell_type": "code",
   "execution_count": 8,
   "metadata": {},
   "outputs": [
    {
     "data": {
      "text/plain": [
       "<matplotlib.lines.Line2D at 0x2679fef9c88>"
      ]
     },
     "execution_count": 8,
     "metadata": {},
     "output_type": "execute_result"
    },
    {
     "data": {
      "image/png": "[encoded data removed]",
      "text/plain": [
       "<Figure size 1152x720 with 1 Axes>"
      ]
     },
     "metadata": {},
     "output_type": "display_data"
    }
   ],
   "source": [
    "fig, ax = plt.subplots(figsize=(16,10))\n",
    "goes_data.xrsa.plot(kind='line')\n",
    "goes_data.xrsb.plot(kind='line')\n",
    "plt.legend()\n",
    "plt.ylabel('Flux (Wm^2)')\n",
    "\n",
    "plt.axvline(max_t_goes_long, color='green', linestyle='dashed', linewidth=2)\n",
    "plt.axvline(max_t_goes_short, color='black', linestyle='dashed', linewidth=2)"
   ]
  },
  {
   "cell_type": "markdown",
   "metadata": {},
   "source": [
    "## Reading in Tablulated data\n",
    "\n",
    "Now we have seen a little of what Pandas can do, lets read in some of our own data. In this case we are going to use data from Bennett et al. 2015, ApJ, a truly ground breaking work. Now the data we are reading in here is a structured Array.\n"
   ]
  },
  {
   "cell_type": "code",
   "execution_count": 9,
   "metadata": {},
   "outputs": [
    {
     "name": "stderr",
     "output_type": "stream",
     "text": [
      "C:\\Users\\User\\Anaconda3\\lib\\site-packages\\ipykernel_launcher.py:1: VisibleDeprecationWarning: Reading unicode strings without specifying the encoding argument is deprecated. Set the encoding, use None for the system default.\n",
      "  \"\"\"Entry point for launching an IPython kernel.\n"
     ]
    }
   ],
   "source": [
    "data = np.genfromtxt('data/macrospicules.csv', skip_header=1, dtype=None, delimiter=',')"
   ]
  },
  {
   "cell_type": "markdown",
   "metadata": {},
   "source": [
    "Now, the above line imports information on some solar features over a sample time period. Specifically we have, maximum length, lifetime and time at which they occured. Now if we type `data[0]` what will happen?"
   ]
  },
  {
   "cell_type": "code",
   "execution_count": 10,
   "metadata": {},
   "outputs": [
    {
     "data": {
      "text/plain": [
       "(27.02261709, 13.6, b'2010-06-01T13:00:14.120000')"
      ]
     },
     "execution_count": 10,
     "metadata": {},
     "output_type": "execute_result"
    }
   ],
   "source": [
    "data[0]"
   ]
  },
  {
   "cell_type": "markdown",
   "metadata": {},
   "source": [
    "This is the first row of the array, containing the first element of our three properties. This particular example is a stuctured array, so the columns and rows can have properties and assign properties to the header. We can ask what the title of these columns is by using a `dtype` command:"
   ]
  },
  {
   "cell_type": "code",
   "execution_count": 11,
   "metadata": {},
   "outputs": [
    {
     "data": {
      "text/plain": [
       "('f0', 'f1', 'f2')"
      ]
     },
     "execution_count": 11,
     "metadata": {},
     "output_type": "execute_result"
    }
   ],
   "source": [
    "data.dtype.names"
   ]
  },
  {
   "cell_type": "markdown",
   "metadata": {},
   "source": [
    "Unhelpful, so lets give them something more recognisable. We can use the docs to look up syntax and change the names of the column lables."
   ]
  },
  {
   "cell_type": "markdown",
   "metadata": {},
   "source": [
    "\n",
    "<section class=\"callout panel panel-warning\">\n",
    "<div class=\"panel-heading\">\n",
    "<h2><span class=\"fa fa-thumb-tack\"></span> Google your troubles away</h2>\n",
    "</div>\n",
    "\n",
    "\n",
    "<div class=\"panel-body\">\n",
    "\n",
    "<p>So the docs are <a href=\"http://docs.scipy.org/doc/numpy-1.10.0/reference/generated/numpy.genfromtxt.html\">here</a>. Find the syntax to change to names to better to represent maximum length, lifetime and point in time which they occured.</p>\n",
    "\n",
    "</div>\n",
    "\n",
    "</section>\n"
   ]
  },
  {
   "cell_type": "code",
   "execution_count": 12,
   "metadata": {},
   "outputs": [
    {
     "name": "stderr",
     "output_type": "stream",
     "text": [
      "C:\\Users\\User\\Anaconda3\\lib\\site-packages\\ipykernel_launcher.py:1: VisibleDeprecationWarning: Reading unicode strings without specifying the encoding argument is deprecated. Set the encoding, use None for the system default.\n",
      "  \"\"\"Entry point for launching an IPython kernel.\n"
     ]
    }
   ],
   "source": [
    "data = np.genfromtxt('data/macrospicules.csv', skip_header=1, dtype=None, delimiter=',', names=['max_length', 'lifetime', 'time'])"
   ]
  },
  {
   "cell_type": "code",
   "execution_count": 13,
   "metadata": {},
   "outputs": [
    {
     "data": {
      "text/plain": [
       "(27.02261709, 13.6, b'2010-06-01T13:00:14.120000')"
      ]
     },
     "execution_count": 13,
     "metadata": {},
     "output_type": "execute_result"
    }
   ],
   "source": [
    "data[0]"
   ]
  },
  {
   "cell_type": "code",
   "execution_count": 14,
   "metadata": {},
   "outputs": [
    {
     "data": {
      "text/plain": [
       "('max_length', 'lifetime', 'time')"
      ]
     },
     "execution_count": 14,
     "metadata": {},
     "output_type": "execute_result"
    }
   ],
   "source": [
    "data.dtype.names"
   ]
  },
  {
   "cell_type": "markdown",
   "metadata": {},
   "source": [
    "## DataFrame\n",
    "\n",
    "Now a pandas DataFrame takes two arguments as a minimum, index and data. In this case the index will be our time within the sample and the maximum length and lifetime will be our data. So lets import pandas and use the dataframe:\n",
    "\n",
    "Pandas reads a dictionary when we want to input multiple data columns. Therefore we need to make a dictionary of our data and read that into a pandas data frame. First we need to import pandas."
   ]
  },
  {
   "cell_type": "markdown",
   "metadata": {},
   "source": [
    "\n",
    "<section class=\"callout panel panel-warning\">\n",
    "<div class=\"panel-heading\">\n",
    "<h2><span class=\"fa fa-thumb-tack\"></span> Dictionaries</h2>\n",
    "</div>\n",
    "\n",
    "\n",
    "<div class=\"panel-body\">\n",
    "\n",
    "<p>So we covered dictionaries earlier. We can create keyword data pairs to form a dictionary (shock horror) of values. In this case </p>\n",
    "<div class=\"codehilite\"><pre><span></span>temps = {&#39;Brussles&#39;: 9, &#39;London&#39;: 3, &#39;Barcelona&#39;: 13, &#39;Rome&#39;: 16}\n",
    "temps[&#39;Rome&#39;]\n",
    "16\n",
    "</pre></div>\n",
    "\n",
    "\n",
    "<p>We can also find out what keywords are associated with a given dictionary, In this case:</p>\n",
    "<div class=\"codehilite\"><pre><span></span>temps.keys()\n",
    "dict_keys([&#39;London&#39;, &#39;Barcelona&#39;, &#39;Rome&#39;, &#39;Brussles&#39;])\n",
    "</pre></div>\n",
    "\n",
    "</div>\n",
    "\n",
    "</section>\n"
   ]
  },
  {
   "cell_type": "markdown",
   "metadata": {},
   "source": [
    "First, let's import Pandas:"
   ]
  },
  {
   "cell_type": "code",
   "execution_count": 15,
   "metadata": {},
   "outputs": [
    {
     "name": "stdout",
     "output_type": "stream",
     "text": [
      "                               max_length   lifetime\n",
      "b'2010-06-01T13:00:14.120000'   27.022617  13.600000\n",
      "b'2010-06-01T12:58:02.120000'   36.208097   8.400000\n",
      "b'2010-06-15T12:55:02.110000'   62.932898  24.199833\n",
      "b'2010-07-07T12:23:50.110000'   38.970549  22.999667\n",
      "b'2010-07-07T13:28:50.120000'   53.589420  21.799833\n"
     ]
    }
   ],
   "source": [
    "import pandas as pd\n",
    "\n",
    "adict = {'max_length' : data['max_length'], 'lifetime' : data['lifetime']}\n",
    "\n",
    "df = pd.DataFrame(data=adict, index=data['time'])\n",
    "print(df.head())"
   ]
  },
  {
   "cell_type": "markdown",
   "metadata": {},
   "source": [
    "## Datetime Objects\n",
    "\n",
    "Notice that the time for the sample is in a strange format. It is a string containing the date in YYYY-MM-DD and time in HH-MM-SS-mmmmmm. These datetime objects have their own set of methods associated with them. Python appreciates that these are built this way and can use them for the indexing easily. \n",
    "\n",
    "We can use this module to create date objects (representing just year, month, day). We can also get information about universal time, such as the time and date today.\n",
    "\n",
    "NOTE: Datetime objects are NOT strings. They are objects which print out as strings.\n",
    "\n"
   ]
  },
  {
   "cell_type": "code",
   "execution_count": 16,
   "metadata": {},
   "outputs": [
    {
     "name": "stdout",
     "output_type": "stream",
     "text": [
      "2018-09-06 11:13:12.025955\n",
      "2018-09-06 10:13:12.027915\n",
      "2018-02-13 12:30:00\n"
     ]
    }
   ],
   "source": [
    "import datetime\n",
    "print(datetime.datetime.now())\n",
    "print(datetime.datetime.utcnow())\n",
    "lunchtime = datetime.time(12, 30)\n",
    "the_date = datetime.date(2018, 2, 13)\n",
    "dinner = datetime.datetime.combine(the_date, lunchtime)\n",
    "print(dinner)"
   ]
  },
  {
   "cell_type": "markdown",
   "metadata": {},
   "source": [
    "Looking back at when we discussed the first element of data, and the format of the time index was awkward to use so lets do something about that. "
   ]
  },
  {
   "cell_type": "code",
   "execution_count": 17,
   "metadata": {},
   "outputs": [
    {
     "name": "stdout",
     "output_type": "stream",
     "text": [
      "b'2010-06-01T13:00:14.120000'\n"
     ]
    }
   ],
   "source": [
    "print(df.index[0])"
   ]
  },
  {
   "cell_type": "markdown",
   "metadata": {},
   "source": [
    "So this is a byte rather than a string so we'll need to convert that using the string handling functionality in pandas"
   ]
  },
  {
   "cell_type": "code",
   "execution_count": 18,
   "metadata": {},
   "outputs": [
    {
     "data": {
      "text/plain": [
       "'2010-06-01T13:00:14.120000'"
      ]
     },
     "execution_count": 18,
     "metadata": {},
     "output_type": "execute_result"
    }
   ],
   "source": [
    "df['time'] = df.index.astype(str)\n",
    "df.iloc[0].time"
   ]
  },
  {
   "cell_type": "markdown",
   "metadata": {},
   "source": [
    "This is a string and python will just treat it as such. We need to use datetime to pick this string appart and change it into an oject we can use.\n",
    "\n",
    "[To the Docs!](https://docs.python.org/2/library/datetime.html#strftime-strptime-behavior)\n",
    "\n",
    "So we use the formatting commands to match up with the string we have."
   ]
  },
  {
   "cell_type": "code",
   "execution_count": 19,
   "metadata": {},
   "outputs": [],
   "source": [
    "dt_obj = datetime.datetime.strptime(df.iloc[0].time, '%Y-%m-%dT%H:%M:%S.%f')"
   ]
  },
  {
   "cell_type": "markdown",
   "metadata": {},
   "source": [
    "We can now get attributes from this such as the hour, month, second and so on"
   ]
  },
  {
   "cell_type": "code",
   "execution_count": 20,
   "metadata": {},
   "outputs": [
    {
     "name": "stdout",
     "output_type": "stream",
     "text": [
      "13\n",
      "6\n",
      "1\n"
     ]
    }
   ],
   "source": [
    "print(dt_obj.hour)\n",
    "print(dt_obj.month)\n",
    "print(dt_obj.day)"
   ]
  },
  {
   "cell_type": "markdown",
   "metadata": {},
   "source": [
    "Now the next logical step would be to make a for loop and iterate over the index and reassign it.\n",
    "\n",
    "*HOWEVER* there is almost always a better way. And Pandas has a `to_dateime()` method that we can feed the time columns:"
   ]
  },
  {
   "cell_type": "code",
   "execution_count": 21,
   "metadata": {},
   "outputs": [
    {
     "data": {
      "text/plain": [
       "<bound method NDFrame.head of                                max_length   lifetime  \\\n",
       "b'2010-06-01T13:00:14.120000'   27.022617  13.600000   \n",
       "b'2010-06-01T12:58:02.120000'   36.208097   8.400000   \n",
       "b'2010-06-15T12:55:02.110000'   62.932898  24.199833   \n",
       "b'2010-07-07T12:23:50.110000'   38.970549  22.999667   \n",
       "b'2010-07-07T13:28:50.120000'   53.589420  21.799833   \n",
       "b'2010-07-15T12:12:02.130000'   30.640111  17.400167   \n",
       "b'2010-07-15T12:19:02.110000'   34.623238  12.800000   \n",
       "b'2010-07-24T12:09:50.120000'   25.765785  14.200000   \n",
       "b'2010-08-01T13:27:14.120000'   42.552299  24.400000   \n",
       "b'2010-08-07T12:37:44.120000'   43.780962  15.400000   \n",
       "b'2010-08-15T13:10:32.120000'   32.074781  15.199833   \n",
       "b'2010-08-24T12:51:44.120000'   46.328952  18.599833   \n",
       "b'2010-08-24T13:22:20.120000'   41.819481  15.200000   \n",
       "b'2010-09-01T12:43:44.120000'   36.156397  18.800167   \n",
       "b'2010-09-15T12:21:20.120000'   27.764497  17.200000   \n",
       "b'2010-09-15T12:26:08.120000'   28.363382  20.200000   \n",
       "b'2010-09-15T12:33:44.120000'   46.242649  18.800167   \n",
       "b'2010-09-15T13:06:32.130000'   31.669638  18.999833   \n",
       "b'2010-09-24T12:36:56.120000'   37.985091  18.400000   \n",
       "b'2010-10-15T12:32:08.120000'   41.107638  17.799833   \n",
       "b'2010-10-24T12:37:08.130000'   36.311537  20.399500   \n",
       "b'2010-11-01T12:43:08.130000'   63.945153  26.599833   \n",
       "b'2010-11-01T12:55:20.130000'   33.206030  15.999833   \n",
       "b'2010-11-07T12:25:20.120000'   45.125476  20.000000   \n",
       "b'2010-11-07T13:18:08.120000'   45.599843  12.000000   \n",
       "b'2010-11-15T12:10:08.130000'   44.137475  15.000000   \n",
       "b'2010-11-15T12:14:44.140000'   39.051354  15.199833   \n",
       "b'2010-12-01T13:45:20.140000'   42.709973  22.400000   \n",
       "b'2010-12-07T12:09:08.120000'   22.009439  12.800000   \n",
       "b'2010-12-15T12:17:08.130000'   45.701033  25.400000   \n",
       "...                                   ...        ...   \n",
       "b'2014-08-01T12:55:31.130000'   34.688787  15.399833   \n",
       "b'2014-08-07T12:13:31.130000'   31.375940  18.800167   \n",
       "b'2014-08-15T12:09:31.120000'   26.978443  16.600000   \n",
       "b'2014-08-15T12:39:07.120000'   38.239756  22.000000   \n",
       "b'2014-08-15T13:28:55.120000'   38.902873  21.400000   \n",
       "b'2014-08-24T12:36:43.130000'   24.010761  17.600333   \n",
       "b'2014-08-24T13:04:55.130000'   37.267798  25.800000   \n",
       "b'2014-08-24T13:31:19.120000'   35.070513  16.200167   \n",
       "b'2014-09-01T12:31:07.130000'   29.185019  15.200167   \n",
       "b'2014-09-01T12:49:31.130000'   40.493888  35.600333   \n",
       "b'2014-09-07T13:13:43.120000'   33.446662  14.600000   \n",
       "b'2014-09-07T13:26:55.120000'   28.944983  13.200000   \n",
       "b'2014-09-07T13:48:19.130000'   22.759861  18.799833   \n",
       "b'2014-09-15T12:44:43.120000'   32.273711  15.000333   \n",
       "b'2014-09-15T13:24:55.140000'   27.518082  18.400000   \n",
       "b'2014-09-24T12:48:19.130000'   45.919581  19.200000   \n",
       "b'2014-10-01T12:41:07.130000'   37.405100  21.000000   \n",
       "b'2014-10-01T12:58:19.120000'   36.544993  13.200000   \n",
       "b'2014-10-07T12:39:55.130000'   44.124281  21.800000   \n",
       "b'2014-10-24T12:10:43.130000'   41.542897  18.399833   \n",
       "b'2014-11-01T12:29:31.130000'   40.402550  21.600000   \n",
       "b'2014-11-15T13:28:19.140000'   33.472644  10.799833   \n",
       "b'2014-12-01T13:05:55.120000'   34.016417  14.400000   \n",
       "b'2014-12-01T13:46:55.140000'   37.527005  15.400000   \n",
       "b'2014-12-07T12:20:55.140000'   44.025893  19.399667   \n",
       "b'2014-12-07T13:11:07.120000'   40.085009  13.200000   \n",
       "b'2014-12-15T12:07:19.130000'   29.292703  13.400000   \n",
       "b'2014-12-15T12:41:19.130000'   41.573915  13.200000   \n",
       "b'2014-12-15T13:13:19.130000'   44.247037  17.800167   \n",
       "b'2014-12-24T13:14:55.120000'   55.549170  16.999667   \n",
       "\n",
       "                                                     time  \\\n",
       "b'2010-06-01T13:00:14.120000'  2010-06-01T13:00:14.120000   \n",
       "b'2010-06-01T12:58:02.120000'  2010-06-01T12:58:02.120000   \n",
       "b'2010-06-15T12:55:02.110000'  2010-06-15T12:55:02.110000   \n",
       "b'2010-07-07T12:23:50.110000'  2010-07-07T12:23:50.110000   \n",
       "b'2010-07-07T13:28:50.120000'  2010-07-07T13:28:50.120000   \n",
       "b'2010-07-15T12:12:02.130000'  2010-07-15T12:12:02.130000   \n",
       "b'2010-07-15T12:19:02.110000'  2010-07-15T12:19:02.110000   \n",
       "b'2010-07-24T12:09:50.120000'  2010-07-24T12:09:50.120000   \n",
       "b'2010-08-01T13:27:14.120000'  2010-08-01T13:27:14.120000   \n",
       "b'2010-08-07T12:37:44.120000'  2010-08-07T12:37:44.120000   \n",
       "b'2010-08-15T13:10:32.120000'  2010-08-15T13:10:32.120000   \n",
       "b'2010-08-24T12:51:44.120000'  2010-08-24T12:51:44.120000   \n",
       "b'2010-08-24T13:22:20.120000'  2010-08-24T13:22:20.120000   \n",
       "b'2010-09-01T12:43:44.120000'  2010-09-01T12:43:44.120000   \n",
       "b'2010-09-15T12:21:20.120000'  2010-09-15T12:21:20.120000   \n",
       "b'2010-09-15T12:26:08.120000'  2010-09-15T12:26:08.120000   \n",
       "b'2010-09-15T12:33:44.120000'  2010-09-15T12:33:44.120000   \n",
       "b'2010-09-15T13:06:32.130000'  2010-09-15T13:06:32.130000   \n",
       "b'2010-09-24T12:36:56.120000'  2010-09-24T12:36:56.120000   \n",
       "b'2010-10-15T12:32:08.120000'  2010-10-15T12:32:08.120000   \n",
       "b'2010-10-24T12:37:08.130000'  2010-10-24T12:37:08.130000   \n",
       "b'2010-11-01T12:43:08.130000'  2010-11-01T12:43:08.130000   \n",
       "b'2010-11-01T12:55:20.130000'  2010-11-01T12:55:20.130000   \n",
       "b'2010-11-07T12:25:20.120000'  2010-11-07T12:25:20.120000   \n",
       "b'2010-11-07T13:18:08.120000'  2010-11-07T13:18:08.120000   \n",
       "b'2010-11-15T12:10:08.130000'  2010-11-15T12:10:08.130000   \n",
       "b'2010-11-15T12:14:44.140000'  2010-11-15T12:14:44.140000   \n",
       "b'2010-12-01T13:45:20.140000'  2010-12-01T13:45:20.140000   \n",
       "b'2010-12-07T12:09:08.120000'  2010-12-07T12:09:08.120000   \n",
       "b'2010-12-15T12:17:08.130000'  2010-12-15T12:17:08.130000   \n",
       "...                                                   ...   \n",
       "b'2014-08-01T12:55:31.130000'  2014-08-01T12:55:31.130000   \n",
       "b'2014-08-07T12:13:31.130000'  2014-08-07T12:13:31.130000   \n",
       "b'2014-08-15T12:09:31.120000'  2014-08-15T12:09:31.120000   \n",
       "b'2014-08-15T12:39:07.120000'  2014-08-15T12:39:07.120000   \n",
       "b'2014-08-15T13:28:55.120000'  2014-08-15T13:28:55.120000   \n",
       "b'2014-08-24T12:36:43.130000'  2014-08-24T12:36:43.130000   \n",
       "b'2014-08-24T13:04:55.130000'  2014-08-24T13:04:55.130000   \n",
       "b'2014-08-24T13:31:19.120000'  2014-08-24T13:31:19.120000   \n",
       "b'2014-09-01T12:31:07.130000'  2014-09-01T12:31:07.130000   \n",
       "b'2014-09-01T12:49:31.130000'  2014-09-01T12:49:31.130000   \n",
       "b'2014-09-07T13:13:43.120000'  2014-09-07T13:13:43.120000   \n",
       "b'2014-09-07T13:26:55.120000'  2014-09-07T13:26:55.120000   \n",
       "b'2014-09-07T13:48:19.130000'  2014-09-07T13:48:19.130000   \n",
       "b'2014-09-15T12:44:43.120000'  2014-09-15T12:44:43.120000   \n",
       "b'2014-09-15T13:24:55.140000'  2014-09-15T13:24:55.140000   \n",
       "b'2014-09-24T12:48:19.130000'  2014-09-24T12:48:19.130000   \n",
       "b'2014-10-01T12:41:07.130000'  2014-10-01T12:41:07.130000   \n",
       "b'2014-10-01T12:58:19.120000'  2014-10-01T12:58:19.120000   \n",
       "b'2014-10-07T12:39:55.130000'  2014-10-07T12:39:55.130000   \n",
       "b'2014-10-24T12:10:43.130000'  2014-10-24T12:10:43.130000   \n",
       "b'2014-11-01T12:29:31.130000'  2014-11-01T12:29:31.130000   \n",
       "b'2014-11-15T13:28:19.140000'  2014-11-15T13:28:19.140000   \n",
       "b'2014-12-01T13:05:55.120000'  2014-12-01T13:05:55.120000   \n",
       "b'2014-12-01T13:46:55.140000'  2014-12-01T13:46:55.140000   \n",
       "b'2014-12-07T12:20:55.140000'  2014-12-07T12:20:55.140000   \n",
       "b'2014-12-07T13:11:07.120000'  2014-12-07T13:11:07.120000   \n",
       "b'2014-12-15T12:07:19.130000'  2014-12-15T12:07:19.130000   \n",
       "b'2014-12-15T12:41:19.130000'  2014-12-15T12:41:19.130000   \n",
       "b'2014-12-15T13:13:19.130000'  2014-12-15T13:13:19.130000   \n",
       "b'2014-12-24T13:14:55.120000'  2014-12-24T13:14:55.120000   \n",
       "\n",
       "                                             datetime  \n",
       "b'2010-06-01T13:00:14.120000' 2010-06-01 13:00:14.120  \n",
       "b'2010-06-01T12:58:02.120000' 2010-06-01 12:58:02.120  \n",
       "b'2010-06-15T12:55:02.110000' 2010-06-15 12:55:02.110  \n",
       "b'2010-07-07T12:23:50.110000' 2010-07-07 12:23:50.110  \n",
       "b'2010-07-07T13:28:50.120000' 2010-07-07 13:28:50.120  \n",
       "b'2010-07-15T12:12:02.130000' 2010-07-15 12:12:02.130  \n",
       "b'2010-07-15T12:19:02.110000' 2010-07-15 12:19:02.110  \n",
       "b'2010-07-24T12:09:50.120000' 2010-07-24 12:09:50.120  \n",
       "b'2010-08-01T13:27:14.120000' 2010-08-01 13:27:14.120  \n",
       "b'2010-08-07T12:37:44.120000' 2010-08-07 12:37:44.120  \n",
       "b'2010-08-15T13:10:32.120000' 2010-08-15 13:10:32.120  \n",
       "b'2010-08-24T12:51:44.120000' 2010-08-24 12:51:44.120  \n",
       "b'2010-08-24T13:22:20.120000' 2010-08-24 13:22:20.120  \n",
       "b'2010-09-01T12:43:44.120000' 2010-09-01 12:43:44.120  \n",
       "b'2010-09-15T12:21:20.120000' 2010-09-15 12:21:20.120  \n",
       "b'2010-09-15T12:26:08.120000' 2010-09-15 12:26:08.120  \n",
       "b'2010-09-15T12:33:44.120000' 2010-09-15 12:33:44.120  \n",
       "b'2010-09-15T13:06:32.130000' 2010-09-15 13:06:32.130  \n",
       "b'2010-09-24T12:36:56.120000' 2010-09-24 12:36:56.120  \n",
       "b'2010-10-15T12:32:08.120000' 2010-10-15 12:32:08.120  \n",
       "b'2010-10-24T12:37:08.130000' 2010-10-24 12:37:08.130  \n",
       "b'2010-11-01T12:43:08.130000' 2010-11-01 12:43:08.130  \n",
       "b'2010-11-01T12:55:20.130000' 2010-11-01 12:55:20.130  \n",
       "b'2010-11-07T12:25:20.120000' 2010-11-07 12:25:20.120  \n",
       "b'2010-11-07T13:18:08.120000' 2010-11-07 13:18:08.120  \n",
       "b'2010-11-15T12:10:08.130000' 2010-11-15 12:10:08.130  \n",
       "b'2010-11-15T12:14:44.140000' 2010-11-15 12:14:44.140  \n",
       "b'2010-12-01T13:45:20.140000' 2010-12-01 13:45:20.140  \n",
       "b'2010-12-07T12:09:08.120000' 2010-12-07 12:09:08.120  \n",
       "b'2010-12-15T12:17:08.130000' 2010-12-15 12:17:08.130  \n",
       "...                                               ...  \n",
       "b'2014-08-01T12:55:31.130000' 2014-08-01 12:55:31.130  \n",
       "b'2014-08-07T12:13:31.130000' 2014-08-07 12:13:31.130  \n",
       "b'2014-08-15T12:09:31.120000' 2014-08-15 12:09:31.120  \n",
       "b'2014-08-15T12:39:07.120000' 2014-08-15 12:39:07.120  \n",
       "b'2014-08-15T13:28:55.120000' 2014-08-15 13:28:55.120  \n",
       "b'2014-08-24T12:36:43.130000' 2014-08-24 12:36:43.130  \n",
       "b'2014-08-24T13:04:55.130000' 2014-08-24 13:04:55.130  \n",
       "b'2014-08-24T13:31:19.120000' 2014-08-24 13:31:19.120  \n",
       "b'2014-09-01T12:31:07.130000' 2014-09-01 12:31:07.130  \n",
       "b'2014-09-01T12:49:31.130000' 2014-09-01 12:49:31.130  \n",
       "b'2014-09-07T13:13:43.120000' 2014-09-07 13:13:43.120  \n",
       "b'2014-09-07T13:26:55.120000' 2014-09-07 13:26:55.120  \n",
       "b'2014-09-07T13:48:19.130000' 2014-09-07 13:48:19.130  \n",
       "b'2014-09-15T12:44:43.120000' 2014-09-15 12:44:43.120  \n",
       "b'2014-09-15T13:24:55.140000' 2014-09-15 13:24:55.140  \n",
       "b'2014-09-24T12:48:19.130000' 2014-09-24 12:48:19.130  \n",
       "b'2014-10-01T12:41:07.130000' 2014-10-01 12:41:07.130  \n",
       "b'2014-10-01T12:58:19.120000' 2014-10-01 12:58:19.120  \n",
       "b'2014-10-07T12:39:55.130000' 2014-10-07 12:39:55.130  \n",
       "b'2014-10-24T12:10:43.130000' 2014-10-24 12:10:43.130  \n",
       "b'2014-11-01T12:29:31.130000' 2014-11-01 12:29:31.130  \n",
       "b'2014-11-15T13:28:19.140000' 2014-11-15 13:28:19.140  \n",
       "b'2014-12-01T13:05:55.120000' 2014-12-01 13:05:55.120  \n",
       "b'2014-12-01T13:46:55.140000' 2014-12-01 13:46:55.140  \n",
       "b'2014-12-07T12:20:55.140000' 2014-12-07 12:20:55.140  \n",
       "b'2014-12-07T13:11:07.120000' 2014-12-07 13:11:07.120  \n",
       "b'2014-12-15T12:07:19.130000' 2014-12-15 12:07:19.130  \n",
       "b'2014-12-15T12:41:19.130000' 2014-12-15 12:41:19.130  \n",
       "b'2014-12-15T13:13:19.130000' 2014-12-15 13:13:19.130  \n",
       "b'2014-12-24T13:14:55.120000' 2014-12-24 13:14:55.120  \n",
       "\n",
       "[259 rows x 4 columns]>"
      ]
     },
     "execution_count": 21,
     "metadata": {},
     "output_type": "execute_result"
    }
   ],
   "source": [
    "df['datetime'] = pd.to_datetime(df.time)\n",
    "df.head"
   ]
  },
  {
   "cell_type": "markdown",
   "metadata": {},
   "source": [
    "There is also one of the most powerful featues of python, Apply. \n",
    "Apply will take a function and apply it to all rows in a dataframe or column. The easiest way to do this is with a lambda function"
   ]
  },
  {
   "cell_type": "code",
   "execution_count": 22,
   "metadata": {},
   "outputs": [],
   "source": [
    "df['other_datetime'] = df.time.apply(lambda x: datetime.datetime.strptime(x, '%Y-%m-%dT%H:%M:%S.%f'))"
   ]
  },
  {
   "cell_type": "code",
   "execution_count": 23,
   "metadata": {},
   "outputs": [
    {
     "data": {
      "text/html": [
       "<div>\n",
       "<style scoped>\n",
       "    .dataframe tbody tr th:only-of-type {\n",
       "        vertical-align: middle;\n",
       "    }\n",
       "\n",
       "    .dataframe tbody tr th {\n",
       "        vertical-align: top;\n",
       "    }\n",
       "\n",
       "    .dataframe thead th {\n",
       "        text-align: right;\n",
       "    }\n",
       "</style>\n",
       "<table border=\"1\" class=\"dataframe\">\n",
       "  <thead>\n",
       "    <tr style=\"text-align: right;\">\n",
       "      <th></th>\n",
       "      <th>max_length</th>\n",
       "      <th>lifetime</th>\n",
       "      <th>time</th>\n",
       "      <th>datetime</th>\n",
       "      <th>other_datetime</th>\n",
       "    </tr>\n",
       "  </thead>\n",
       "  <tbody>\n",
       "    <tr>\n",
       "      <th>b'2010-06-01T13:00:14.120000'</th>\n",
       "      <td>27.022617</td>\n",
       "      <td>13.600000</td>\n",
       "      <td>2010-06-01T13:00:14.120000</td>\n",
       "      <td>2010-06-01 13:00:14.120</td>\n",
       "      <td>2010-06-01 13:00:14.120</td>\n",
       "    </tr>\n",
       "    <tr>\n",
       "      <th>b'2010-06-01T12:58:02.120000'</th>\n",
       "      <td>36.208097</td>\n",
       "      <td>8.400000</td>\n",
       "      <td>2010-06-01T12:58:02.120000</td>\n",
       "      <td>2010-06-01 12:58:02.120</td>\n",
       "      <td>2010-06-01 12:58:02.120</td>\n",
       "    </tr>\n",
       "    <tr>\n",
       "      <th>b'2010-06-15T12:55:02.110000'</th>\n",
       "      <td>62.932898</td>\n",
       "      <td>24.199833</td>\n",
       "      <td>2010-06-15T12:55:02.110000</td>\n",
       "      <td>2010-06-15 12:55:02.110</td>\n",
       "      <td>2010-06-15 12:55:02.110</td>\n",
       "    </tr>\n",
       "    <tr>\n",
       "      <th>b'2010-07-07T12:23:50.110000'</th>\n",
       "      <td>38.970549</td>\n",
       "      <td>22.999667</td>\n",
       "      <td>2010-07-07T12:23:50.110000</td>\n",
       "      <td>2010-07-07 12:23:50.110</td>\n",
       "      <td>2010-07-07 12:23:50.110</td>\n",
       "    </tr>\n",
       "    <tr>\n",
       "      <th>b'2010-07-07T13:28:50.120000'</th>\n",
       "      <td>53.589420</td>\n",
       "      <td>21.799833</td>\n",
       "      <td>2010-07-07T13:28:50.120000</td>\n",
       "      <td>2010-07-07 13:28:50.120</td>\n",
       "      <td>2010-07-07 13:28:50.120</td>\n",
       "    </tr>\n",
       "  </tbody>\n",
       "</table>\n",
       "</div>"
      ],
      "text/plain": [
       "                               max_length   lifetime  \\\n",
       "b'2010-06-01T13:00:14.120000'   27.022617  13.600000   \n",
       "b'2010-06-01T12:58:02.120000'   36.208097   8.400000   \n",
       "b'2010-06-15T12:55:02.110000'   62.932898  24.199833   \n",
       "b'2010-07-07T12:23:50.110000'   38.970549  22.999667   \n",
       "b'2010-07-07T13:28:50.120000'   53.589420  21.799833   \n",
       "\n",
       "                                                     time  \\\n",
       "b'2010-06-01T13:00:14.120000'  2010-06-01T13:00:14.120000   \n",
       "b'2010-06-01T12:58:02.120000'  2010-06-01T12:58:02.120000   \n",
       "b'2010-06-15T12:55:02.110000'  2010-06-15T12:55:02.110000   \n",
       "b'2010-07-07T12:23:50.110000'  2010-07-07T12:23:50.110000   \n",
       "b'2010-07-07T13:28:50.120000'  2010-07-07T13:28:50.120000   \n",
       "\n",
       "                                             datetime          other_datetime  \n",
       "b'2010-06-01T13:00:14.120000' 2010-06-01 13:00:14.120 2010-06-01 13:00:14.120  \n",
       "b'2010-06-01T12:58:02.120000' 2010-06-01 12:58:02.120 2010-06-01 12:58:02.120  \n",
       "b'2010-06-15T12:55:02.110000' 2010-06-15 12:55:02.110 2010-06-15 12:55:02.110  \n",
       "b'2010-07-07T12:23:50.110000' 2010-07-07 12:23:50.110 2010-07-07 12:23:50.110  \n",
       "b'2010-07-07T13:28:50.120000' 2010-07-07 13:28:50.120 2010-07-07 13:28:50.120  "
      ]
     },
     "execution_count": 23,
     "metadata": {},
     "output_type": "execute_result"
    }
   ],
   "source": [
    "df.head()"
   ]
  },
  {
   "cell_type": "markdown",
   "metadata": {},
   "source": [
    "Both these are much cleaner and faster due to pandas' optimisation. We can now set one of these as the index"
   ]
  },
  {
   "cell_type": "code",
   "execution_count": 24,
   "metadata": {},
   "outputs": [],
   "source": [
    "df.set_index('datetime', inplace=True)"
   ]
  },
  {
   "cell_type": "markdown",
   "metadata": {},
   "source": [
    "Now that there are official datetime objects on the index we can start operating based on the time of the frame"
   ]
  },
  {
   "cell_type": "code",
   "execution_count": 25,
   "metadata": {},
   "outputs": [
    {
     "data": {
      "text/plain": [
       "54"
      ]
     },
     "execution_count": 25,
     "metadata": {},
     "output_type": "execute_result"
    }
   ],
   "source": [
    "l_bins = df.groupby([df.index.year, df.index.month])\n",
    "len(l_bins)"
   ]
  },
  {
   "cell_type": "markdown",
   "metadata": {},
   "source": [
    "Here we have used the groupby command to take the `'max_len'` column, called as a dictionary key, and create bins for our data to sit in according to year and then month. \n",
    "\n",
    "The object `l_bins` has `mean`, `max`, `std` etc. attributes in the same way as the numpy arrays we handled the other day."
   ]
  },
  {
   "cell_type": "code",
   "execution_count": 27,
   "metadata": {},
   "outputs": [
    {
     "ename": "ValueError",
     "evalue": "Duplicated level name: \"datetime\", assigned to level 1, is already used for level 0.",
     "output_type": "error",
     "traceback": [
      "\u001b[1;31m---------------------------------------------------------------------------\u001b[0m",
      "\u001b[1;31mValueError\u001b[0m                                Traceback (most recent call last)",
      "\u001b[1;32m~\\Anaconda3\\lib\\site-packages\\pandas\\core\\groupby\\groupby.py\u001b[0m in \u001b[0;36mmean\u001b[1;34m(self, *args, **kwargs)\u001b[0m\n\u001b[0;32m   1305\u001b[0m         \u001b[1;32mtry\u001b[0m\u001b[1;33m:\u001b[0m\u001b[1;33m\u001b[0m\u001b[0m\n\u001b[1;32m-> 1306\u001b[1;33m             \u001b[1;32mreturn\u001b[0m \u001b[0mself\u001b[0m\u001b[1;33m.\u001b[0m\u001b[0m_cython_agg_general\u001b[0m\u001b[1;33m(\u001b[0m\u001b[1;34m'mean'\u001b[0m\u001b[1;33m,\u001b[0m \u001b[1;33m**\u001b[0m\u001b[0mkwargs\u001b[0m\u001b[1;33m)\u001b[0m\u001b[1;33m\u001b[0m\u001b[0m\n\u001b[0m\u001b[0;32m   1307\u001b[0m         \u001b[1;32mexcept\u001b[0m \u001b[0mGroupByError\u001b[0m\u001b[1;33m:\u001b[0m\u001b[1;33m\u001b[0m\u001b[0m\n",
      "\u001b[1;32m~\\Anaconda3\\lib\\site-packages\\pandas\\core\\groupby\\groupby.py\u001b[0m in \u001b[0;36m_cython_agg_general\u001b[1;34m(self, how, alt, numeric_only, min_count)\u001b[0m\n\u001b[0;32m   1049\u001b[0m                 result, names = self.grouper.aggregate(obj.values, how,\n\u001b[1;32m-> 1050\u001b[1;33m                                                        min_count=min_count)\n\u001b[0m\u001b[0;32m   1051\u001b[0m             \u001b[1;32mexcept\u001b[0m \u001b[0mAssertionError\u001b[0m \u001b[1;32mas\u001b[0m \u001b[0me\u001b[0m\u001b[1;33m:\u001b[0m\u001b[1;33m\u001b[0m\u001b[0m\n",
      "\u001b[1;32m~\\Anaconda3\\lib\\site-packages\\pandas\\core\\groupby\\groupby.py\u001b[0m in \u001b[0;36maggregate\u001b[1;34m(self, values, how, axis, min_count)\u001b[0m\n\u001b[0;32m   2626\u001b[0m         return self._cython_operation('aggregate', values, how, axis,\n\u001b[1;32m-> 2627\u001b[1;33m                                       min_count=min_count)\n\u001b[0m\u001b[0;32m   2628\u001b[0m \u001b[1;33m\u001b[0m\u001b[0m\n",
      "\u001b[1;32m~\\Anaconda3\\lib\\site-packages\\pandas\\core\\groupby\\groupby.py\u001b[0m in \u001b[0;36m_cython_operation\u001b[1;34m(self, kind, values, how, axis, min_count, **kwargs)\u001b[0m\n\u001b[0;32m   2524\u001b[0m             \u001b[0mvalues\u001b[0m \u001b[1;33m=\u001b[0m \u001b[0mvalues\u001b[0m\u001b[1;33m[\u001b[0m\u001b[1;33m:\u001b[0m\u001b[1;33m,\u001b[0m \u001b[1;32mNone\u001b[0m\u001b[1;33m]\u001b[0m\u001b[1;33m\u001b[0m\u001b[0m\n\u001b[1;32m-> 2525\u001b[1;33m             \u001b[0mout_shape\u001b[0m \u001b[1;33m=\u001b[0m \u001b[1;33m(\u001b[0m\u001b[0mself\u001b[0m\u001b[1;33m.\u001b[0m\u001b[0mngroups\u001b[0m\u001b[1;33m,\u001b[0m \u001b[0marity\u001b[0m\u001b[1;33m)\u001b[0m\u001b[1;33m\u001b[0m\u001b[0m\n\u001b[0m\u001b[0;32m   2526\u001b[0m         \u001b[1;32melse\u001b[0m\u001b[1;33m:\u001b[0m\u001b[1;33m\u001b[0m\u001b[0m\n",
      "\u001b[1;32mpandas\\_libs\\properties.pyx\u001b[0m in \u001b[0;36mpandas._libs.properties.CachedProperty.__get__\u001b[1;34m()\u001b[0m\n",
      "\u001b[1;32m~\\Anaconda3\\lib\\site-packages\\pandas\\core\\groupby\\groupby.py\u001b[0m in \u001b[0;36mngroups\u001b[1;34m(self)\u001b[0m\n\u001b[0;32m   2361\u001b[0m     \u001b[1;32mdef\u001b[0m \u001b[0mngroups\u001b[0m\u001b[1;33m(\u001b[0m\u001b[0mself\u001b[0m\u001b[1;33m)\u001b[0m\u001b[1;33m:\u001b[0m\u001b[1;33m\u001b[0m\u001b[0m\n\u001b[1;32m-> 2362\u001b[1;33m         \u001b[1;32mreturn\u001b[0m \u001b[0mlen\u001b[0m\u001b[1;33m(\u001b[0m\u001b[0mself\u001b[0m\u001b[1;33m.\u001b[0m\u001b[0mresult_index\u001b[0m\u001b[1;33m)\u001b[0m\u001b[1;33m\u001b[0m\u001b[0m\n\u001b[0m\u001b[0;32m   2363\u001b[0m \u001b[1;33m\u001b[0m\u001b[0m\n",
      "\u001b[1;32mpandas\\_libs\\properties.pyx\u001b[0m in \u001b[0;36mpandas._libs.properties.CachedProperty.__get__\u001b[1;34m()\u001b[0m\n",
      "\u001b[1;32m~\\Anaconda3\\lib\\site-packages\\pandas\\core\\groupby\\groupby.py\u001b[0m in \u001b[0;36mresult_index\u001b[1;34m(self)\u001b[0m\n\u001b[0;32m   2380\u001b[0m                             \u001b[0mverify_integrity\u001b[0m\u001b[1;33m=\u001b[0m\u001b[1;32mFalse\u001b[0m\u001b[1;33m,\u001b[0m\u001b[1;33m\u001b[0m\u001b[0m\n\u001b[1;32m-> 2381\u001b[1;33m                             names=self.names)\n\u001b[0m\u001b[0;32m   2382\u001b[0m         \u001b[1;32mreturn\u001b[0m \u001b[0mresult\u001b[0m\u001b[1;33m\u001b[0m\u001b[0m\n",
      "\u001b[1;32m~\\Anaconda3\\lib\\site-packages\\pandas\\core\\indexes\\multi.py\u001b[0m in \u001b[0;36m__new__\u001b[1;34m(cls, levels, labels, sortorder, names, dtype, copy, name, verify_integrity, _set_identity)\u001b[0m\n\u001b[0;32m    231\u001b[0m             \u001b[1;31m# handles name validation\u001b[0m\u001b[1;33m\u001b[0m\u001b[1;33m\u001b[0m\u001b[0m\n\u001b[1;32m--> 232\u001b[1;33m             \u001b[0mresult\u001b[0m\u001b[1;33m.\u001b[0m\u001b[0m_set_names\u001b[0m\u001b[1;33m(\u001b[0m\u001b[0mnames\u001b[0m\u001b[1;33m)\u001b[0m\u001b[1;33m\u001b[0m\u001b[0m\n\u001b[0m\u001b[0;32m    233\u001b[0m \u001b[1;33m\u001b[0m\u001b[0m\n",
      "\u001b[1;32m~\\Anaconda3\\lib\\site-packages\\pandas\\core\\indexes\\multi.py\u001b[0m in \u001b[0;36m_set_names\u001b[1;34m(self, names, level, validate)\u001b[0m\n\u001b[0;32m    694\u001b[0m                         \u001b[1;34m'level {}, is already used for level '\u001b[0m\u001b[1;33m\u001b[0m\u001b[0m\n\u001b[1;32m--> 695\u001b[1;33m                         '{}.'.format(name, l, used[name]))\n\u001b[0m\u001b[0;32m    696\u001b[0m \u001b[1;33m\u001b[0m\u001b[0m\n",
      "\u001b[1;31mValueError\u001b[0m: Duplicated level name: \"datetime\", assigned to level 1, is already used for level 0.",
      "\nDuring handling of the above exception, another exception occurred:\n",
      "\u001b[1;31mValueError\u001b[0m                                Traceback (most recent call last)",
      "\u001b[1;32m<ipython-input-27-b8d494b919b5>\u001b[0m in \u001b[0;36m<module>\u001b[1;34m()\u001b[0m\n\u001b[1;32m----> 1\u001b[1;33m \u001b[0magg_spicules\u001b[0m \u001b[1;33m=\u001b[0m \u001b[0mdf\u001b[0m\u001b[1;33m.\u001b[0m\u001b[0mgroupby\u001b[0m\u001b[1;33m(\u001b[0m\u001b[1;33m[\u001b[0m\u001b[0mdf\u001b[0m\u001b[1;33m.\u001b[0m\u001b[0mindex\u001b[0m\u001b[1;33m.\u001b[0m\u001b[0myear\u001b[0m\u001b[1;33m,\u001b[0m \u001b[0mdf\u001b[0m\u001b[1;33m.\u001b[0m\u001b[0mindex\u001b[0m\u001b[1;33m.\u001b[0m\u001b[0mmonth\u001b[0m\u001b[1;33m]\u001b[0m\u001b[1;33m)\u001b[0m\u001b[1;33m.\u001b[0m\u001b[0magg\u001b[0m\u001b[1;33m(\u001b[0m\u001b[1;33m{\u001b[0m\u001b[1;34m'max_length'\u001b[0m \u001b[1;33m:\u001b[0m \u001b[1;33m[\u001b[0m\u001b[0mnp\u001b[0m\u001b[1;33m.\u001b[0m\u001b[0mmean\u001b[0m\u001b[1;33m,\u001b[0m \u001b[0mnp\u001b[0m\u001b[1;33m.\u001b[0m\u001b[0mstd\u001b[0m\u001b[1;33m]\u001b[0m\u001b[1;33m}\u001b[0m\u001b[1;33m)\u001b[0m\u001b[1;33m\u001b[0m\u001b[0m\n\u001b[0m",
      "\u001b[1;32m~\\Anaconda3\\lib\\site-packages\\pandas\\core\\groupby\\groupby.py\u001b[0m in \u001b[0;36maggregate\u001b[1;34m(self, arg, *args, **kwargs)\u001b[0m\n\u001b[0;32m   4656\u001b[0m         axis=''))\n\u001b[0;32m   4657\u001b[0m     \u001b[1;32mdef\u001b[0m \u001b[0maggregate\u001b[0m\u001b[1;33m(\u001b[0m\u001b[0mself\u001b[0m\u001b[1;33m,\u001b[0m \u001b[0marg\u001b[0m\u001b[1;33m,\u001b[0m \u001b[1;33m*\u001b[0m\u001b[0margs\u001b[0m\u001b[1;33m,\u001b[0m \u001b[1;33m**\u001b[0m\u001b[0mkwargs\u001b[0m\u001b[1;33m)\u001b[0m\u001b[1;33m:\u001b[0m\u001b[1;33m\u001b[0m\u001b[0m\n\u001b[1;32m-> 4658\u001b[1;33m         \u001b[1;32mreturn\u001b[0m \u001b[0msuper\u001b[0m\u001b[1;33m(\u001b[0m\u001b[0mDataFrameGroupBy\u001b[0m\u001b[1;33m,\u001b[0m \u001b[0mself\u001b[0m\u001b[1;33m)\u001b[0m\u001b[1;33m.\u001b[0m\u001b[0maggregate\u001b[0m\u001b[1;33m(\u001b[0m\u001b[0marg\u001b[0m\u001b[1;33m,\u001b[0m \u001b[1;33m*\u001b[0m\u001b[0margs\u001b[0m\u001b[1;33m,\u001b[0m \u001b[1;33m**\u001b[0m\u001b[0mkwargs\u001b[0m\u001b[1;33m)\u001b[0m\u001b[1;33m\u001b[0m\u001b[0m\n\u001b[0m\u001b[0;32m   4659\u001b[0m \u001b[1;33m\u001b[0m\u001b[0m\n\u001b[0;32m   4660\u001b[0m     \u001b[0magg\u001b[0m \u001b[1;33m=\u001b[0m \u001b[0maggregate\u001b[0m\u001b[1;33m\u001b[0m\u001b[0m\n",
      "\u001b[1;32m~\\Anaconda3\\lib\\site-packages\\pandas\\core\\groupby\\groupby.py\u001b[0m in \u001b[0;36maggregate\u001b[1;34m(self, arg, *args, **kwargs)\u001b[0m\n\u001b[0;32m   4087\u001b[0m \u001b[1;33m\u001b[0m\u001b[0m\n\u001b[0;32m   4088\u001b[0m         \u001b[0m_level\u001b[0m \u001b[1;33m=\u001b[0m \u001b[0mkwargs\u001b[0m\u001b[1;33m.\u001b[0m\u001b[0mpop\u001b[0m\u001b[1;33m(\u001b[0m\u001b[1;34m'_level'\u001b[0m\u001b[1;33m,\u001b[0m \u001b[1;32mNone\u001b[0m\u001b[1;33m)\u001b[0m\u001b[1;33m\u001b[0m\u001b[0m\n\u001b[1;32m-> 4089\u001b[1;33m         \u001b[0mresult\u001b[0m\u001b[1;33m,\u001b[0m \u001b[0mhow\u001b[0m \u001b[1;33m=\u001b[0m \u001b[0mself\u001b[0m\u001b[1;33m.\u001b[0m\u001b[0m_aggregate\u001b[0m\u001b[1;33m(\u001b[0m\u001b[0marg\u001b[0m\u001b[1;33m,\u001b[0m \u001b[0m_level\u001b[0m\u001b[1;33m=\u001b[0m\u001b[0m_level\u001b[0m\u001b[1;33m,\u001b[0m \u001b[1;33m*\u001b[0m\u001b[0margs\u001b[0m\u001b[1;33m,\u001b[0m \u001b[1;33m**\u001b[0m\u001b[0mkwargs\u001b[0m\u001b[1;33m)\u001b[0m\u001b[1;33m\u001b[0m\u001b[0m\n\u001b[0m\u001b[0;32m   4090\u001b[0m         \u001b[1;32mif\u001b[0m \u001b[0mhow\u001b[0m \u001b[1;32mis\u001b[0m \u001b[1;32mNone\u001b[0m\u001b[1;33m:\u001b[0m\u001b[1;33m\u001b[0m\u001b[0m\n\u001b[0;32m   4091\u001b[0m             \u001b[1;32mreturn\u001b[0m \u001b[0mresult\u001b[0m\u001b[1;33m\u001b[0m\u001b[0m\n",
      "\u001b[1;32m~\\Anaconda3\\lib\\site-packages\\pandas\\core\\base.py\u001b[0m in \u001b[0;36m_aggregate\u001b[1;34m(self, arg, *args, **kwargs)\u001b[0m\n\u001b[0;32m    488\u001b[0m \u001b[1;33m\u001b[0m\u001b[0m\n\u001b[0;32m    489\u001b[0m                 \u001b[1;32mtry\u001b[0m\u001b[1;33m:\u001b[0m\u001b[1;33m\u001b[0m\u001b[0m\n\u001b[1;32m--> 490\u001b[1;33m                     \u001b[0mresult\u001b[0m \u001b[1;33m=\u001b[0m \u001b[0m_agg\u001b[0m\u001b[1;33m(\u001b[0m\u001b[0marg\u001b[0m\u001b[1;33m,\u001b[0m \u001b[0m_agg_1dim\u001b[0m\u001b[1;33m)\u001b[0m\u001b[1;33m\u001b[0m\u001b[0m\n\u001b[0m\u001b[0;32m    491\u001b[0m                 \u001b[1;32mexcept\u001b[0m \u001b[0mSpecificationError\u001b[0m\u001b[1;33m:\u001b[0m\u001b[1;33m\u001b[0m\u001b[0m\n\u001b[0;32m    492\u001b[0m \u001b[1;33m\u001b[0m\u001b[0m\n",
      "\u001b[1;32m~\\Anaconda3\\lib\\site-packages\\pandas\\core\\base.py\u001b[0m in \u001b[0;36m_agg\u001b[1;34m(arg, func)\u001b[0m\n\u001b[0;32m    439\u001b[0m                 \u001b[0mresult\u001b[0m \u001b[1;33m=\u001b[0m \u001b[0mcompat\u001b[0m\u001b[1;33m.\u001b[0m\u001b[0mOrderedDict\u001b[0m\u001b[1;33m(\u001b[0m\u001b[1;33m)\u001b[0m\u001b[1;33m\u001b[0m\u001b[0m\n\u001b[0;32m    440\u001b[0m                 \u001b[1;32mfor\u001b[0m \u001b[0mfname\u001b[0m\u001b[1;33m,\u001b[0m \u001b[0magg_how\u001b[0m \u001b[1;32min\u001b[0m \u001b[0mcompat\u001b[0m\u001b[1;33m.\u001b[0m\u001b[0miteritems\u001b[0m\u001b[1;33m(\u001b[0m\u001b[0marg\u001b[0m\u001b[1;33m)\u001b[0m\u001b[1;33m:\u001b[0m\u001b[1;33m\u001b[0m\u001b[0m\n\u001b[1;32m--> 441\u001b[1;33m                     \u001b[0mresult\u001b[0m\u001b[1;33m[\u001b[0m\u001b[0mfname\u001b[0m\u001b[1;33m]\u001b[0m \u001b[1;33m=\u001b[0m \u001b[0mfunc\u001b[0m\u001b[1;33m(\u001b[0m\u001b[0mfname\u001b[0m\u001b[1;33m,\u001b[0m \u001b[0magg_how\u001b[0m\u001b[1;33m)\u001b[0m\u001b[1;33m\u001b[0m\u001b[0m\n\u001b[0m\u001b[0;32m    442\u001b[0m                 \u001b[1;32mreturn\u001b[0m \u001b[0mresult\u001b[0m\u001b[1;33m\u001b[0m\u001b[0m\n\u001b[0;32m    443\u001b[0m \u001b[1;33m\u001b[0m\u001b[0m\n",
      "\u001b[1;32m~\\Anaconda3\\lib\\site-packages\\pandas\\core\\base.py\u001b[0m in \u001b[0;36m_agg_1dim\u001b[1;34m(name, how, subset)\u001b[0m\n\u001b[0;32m    422\u001b[0m                     raise SpecificationError(\"nested dictionary is ambiguous \"\n\u001b[0;32m    423\u001b[0m                                              \"in aggregation\")\n\u001b[1;32m--> 424\u001b[1;33m                 \u001b[1;32mreturn\u001b[0m \u001b[0mcolg\u001b[0m\u001b[1;33m.\u001b[0m\u001b[0maggregate\u001b[0m\u001b[1;33m(\u001b[0m\u001b[0mhow\u001b[0m\u001b[1;33m,\u001b[0m \u001b[0m_level\u001b[0m\u001b[1;33m=\u001b[0m\u001b[1;33m(\u001b[0m\u001b[0m_level\u001b[0m \u001b[1;32mor\u001b[0m \u001b[1;36m0\u001b[0m\u001b[1;33m)\u001b[0m \u001b[1;33m+\u001b[0m \u001b[1;36m1\u001b[0m\u001b[1;33m)\u001b[0m\u001b[1;33m\u001b[0m\u001b[0m\n\u001b[0m\u001b[0;32m    425\u001b[0m \u001b[1;33m\u001b[0m\u001b[0m\n\u001b[0;32m    426\u001b[0m             \u001b[1;32mdef\u001b[0m \u001b[0m_agg_2dim\u001b[0m\u001b[1;33m(\u001b[0m\u001b[0mname\u001b[0m\u001b[1;33m,\u001b[0m \u001b[0mhow\u001b[0m\u001b[1;33m)\u001b[0m\u001b[1;33m:\u001b[0m\u001b[1;33m\u001b[0m\u001b[0m\n",
      "\u001b[1;32m~\\Anaconda3\\lib\\site-packages\\pandas\\core\\groupby\\groupby.py\u001b[0m in \u001b[0;36maggregate\u001b[1;34m(self, func_or_funcs, *args, **kwargs)\u001b[0m\n\u001b[0;32m   3483\u001b[0m             \u001b[1;31m# but not the class list / tuple itself.\u001b[0m\u001b[1;33m\u001b[0m\u001b[1;33m\u001b[0m\u001b[0m\n\u001b[0;32m   3484\u001b[0m             ret = self._aggregate_multiple_funcs(func_or_funcs,\n\u001b[1;32m-> 3485\u001b[1;33m                                                  (_level or 0) + 1)\n\u001b[0m\u001b[0;32m   3486\u001b[0m         \u001b[1;32melse\u001b[0m\u001b[1;33m:\u001b[0m\u001b[1;33m\u001b[0m\u001b[0m\n\u001b[0;32m   3487\u001b[0m             \u001b[0mcyfunc\u001b[0m \u001b[1;33m=\u001b[0m \u001b[0mself\u001b[0m\u001b[1;33m.\u001b[0m\u001b[0m_is_cython_func\u001b[0m\u001b[1;33m(\u001b[0m\u001b[0mfunc_or_funcs\u001b[0m\u001b[1;33m)\u001b[0m\u001b[1;33m\u001b[0m\u001b[0m\n",
      "\u001b[1;32m~\\Anaconda3\\lib\\site-packages\\pandas\\core\\groupby\\groupby.py\u001b[0m in \u001b[0;36m_aggregate_multiple_funcs\u001b[1;34m(self, arg, _level)\u001b[0m\n\u001b[0;32m   3556\u001b[0m                 \u001b[0mobj\u001b[0m\u001b[1;33m.\u001b[0m\u001b[0m_reset_cache\u001b[0m\u001b[1;33m(\u001b[0m\u001b[1;33m)\u001b[0m\u001b[1;33m\u001b[0m\u001b[0m\n\u001b[0;32m   3557\u001b[0m                 \u001b[0mobj\u001b[0m\u001b[1;33m.\u001b[0m\u001b[0m_selection\u001b[0m \u001b[1;33m=\u001b[0m \u001b[0mname\u001b[0m\u001b[1;33m\u001b[0m\u001b[0m\n\u001b[1;32m-> 3558\u001b[1;33m             \u001b[0mresults\u001b[0m\u001b[1;33m[\u001b[0m\u001b[0mname\u001b[0m\u001b[1;33m]\u001b[0m \u001b[1;33m=\u001b[0m \u001b[0mobj\u001b[0m\u001b[1;33m.\u001b[0m\u001b[0maggregate\u001b[0m\u001b[1;33m(\u001b[0m\u001b[0mfunc\u001b[0m\u001b[1;33m)\u001b[0m\u001b[1;33m\u001b[0m\u001b[0m\n\u001b[0m\u001b[0;32m   3559\u001b[0m \u001b[1;33m\u001b[0m\u001b[0m\n\u001b[0;32m   3560\u001b[0m         if isinstance(list(compat.itervalues(results))[0],\n",
      "\u001b[1;32m~\\Anaconda3\\lib\\site-packages\\pandas\\core\\groupby\\groupby.py\u001b[0m in \u001b[0;36maggregate\u001b[1;34m(self, func_or_funcs, *args, **kwargs)\u001b[0m\n\u001b[0;32m   3487\u001b[0m             \u001b[0mcyfunc\u001b[0m \u001b[1;33m=\u001b[0m \u001b[0mself\u001b[0m\u001b[1;33m.\u001b[0m\u001b[0m_is_cython_func\u001b[0m\u001b[1;33m(\u001b[0m\u001b[0mfunc_or_funcs\u001b[0m\u001b[1;33m)\u001b[0m\u001b[1;33m\u001b[0m\u001b[0m\n\u001b[0;32m   3488\u001b[0m             \u001b[1;32mif\u001b[0m \u001b[0mcyfunc\u001b[0m \u001b[1;32mand\u001b[0m \u001b[1;32mnot\u001b[0m \u001b[0margs\u001b[0m \u001b[1;32mand\u001b[0m \u001b[1;32mnot\u001b[0m \u001b[0mkwargs\u001b[0m\u001b[1;33m:\u001b[0m\u001b[1;33m\u001b[0m\u001b[0m\n\u001b[1;32m-> 3489\u001b[1;33m                 \u001b[1;32mreturn\u001b[0m \u001b[0mgetattr\u001b[0m\u001b[1;33m(\u001b[0m\u001b[0mself\u001b[0m\u001b[1;33m,\u001b[0m \u001b[0mcyfunc\u001b[0m\u001b[1;33m)\u001b[0m\u001b[1;33m(\u001b[0m\u001b[1;33m)\u001b[0m\u001b[1;33m\u001b[0m\u001b[0m\n\u001b[0m\u001b[0;32m   3490\u001b[0m \u001b[1;33m\u001b[0m\u001b[0m\n\u001b[0;32m   3491\u001b[0m             \u001b[1;32mif\u001b[0m \u001b[0mself\u001b[0m\u001b[1;33m.\u001b[0m\u001b[0mgrouper\u001b[0m\u001b[1;33m.\u001b[0m\u001b[0mnkeys\u001b[0m \u001b[1;33m>\u001b[0m \u001b[1;36m1\u001b[0m\u001b[1;33m:\u001b[0m\u001b[1;33m\u001b[0m\u001b[0m\n",
      "\u001b[1;32m~\\Anaconda3\\lib\\site-packages\\pandas\\core\\groupby\\groupby.py\u001b[0m in \u001b[0;36mmean\u001b[1;34m(self, *args, **kwargs)\u001b[0m\n\u001b[0;32m   1310\u001b[0m             \u001b[1;32mwith\u001b[0m \u001b[0m_group_selection_context\u001b[0m\u001b[1;33m(\u001b[0m\u001b[0mself\u001b[0m\u001b[1;33m)\u001b[0m\u001b[1;33m:\u001b[0m\u001b[1;33m\u001b[0m\u001b[0m\n\u001b[0;32m   1311\u001b[0m                 \u001b[0mf\u001b[0m \u001b[1;33m=\u001b[0m \u001b[1;32mlambda\u001b[0m \u001b[0mx\u001b[0m\u001b[1;33m:\u001b[0m \u001b[0mx\u001b[0m\u001b[1;33m.\u001b[0m\u001b[0mmean\u001b[0m\u001b[1;33m(\u001b[0m\u001b[0maxis\u001b[0m\u001b[1;33m=\u001b[0m\u001b[0mself\u001b[0m\u001b[1;33m.\u001b[0m\u001b[0maxis\u001b[0m\u001b[1;33m,\u001b[0m \u001b[1;33m**\u001b[0m\u001b[0mkwargs\u001b[0m\u001b[1;33m)\u001b[0m\u001b[1;33m\u001b[0m\u001b[0m\n\u001b[1;32m-> 1312\u001b[1;33m                 \u001b[1;32mreturn\u001b[0m \u001b[0mself\u001b[0m\u001b[1;33m.\u001b[0m\u001b[0m_python_agg_general\u001b[0m\u001b[1;33m(\u001b[0m\u001b[0mf\u001b[0m\u001b[1;33m)\u001b[0m\u001b[1;33m\u001b[0m\u001b[0m\n\u001b[0m\u001b[0;32m   1313\u001b[0m \u001b[1;33m\u001b[0m\u001b[0m\n\u001b[0;32m   1314\u001b[0m     \u001b[1;33m@\u001b[0m\u001b[0mSubstitution\u001b[0m\u001b[1;33m(\u001b[0m\u001b[0mname\u001b[0m\u001b[1;33m=\u001b[0m\u001b[1;34m'groupby'\u001b[0m\u001b[1;33m)\u001b[0m\u001b[1;33m\u001b[0m\u001b[0m\n",
      "\u001b[1;32m~\\Anaconda3\\lib\\site-packages\\pandas\\core\\groupby\\groupby.py\u001b[0m in \u001b[0;36m_python_agg_general\u001b[1;34m(self, func, *args, **kwargs)\u001b[0m\n\u001b[0;32m   1086\u001b[0m                 \u001b[0moutput\u001b[0m\u001b[1;33m[\u001b[0m\u001b[0mname\u001b[0m\u001b[1;33m]\u001b[0m \u001b[1;33m=\u001b[0m \u001b[0mself\u001b[0m\u001b[1;33m.\u001b[0m\u001b[0m_try_cast\u001b[0m\u001b[1;33m(\u001b[0m\u001b[0mvalues\u001b[0m\u001b[1;33m[\u001b[0m\u001b[0mmask\u001b[0m\u001b[1;33m]\u001b[0m\u001b[1;33m,\u001b[0m \u001b[0mresult\u001b[0m\u001b[1;33m)\u001b[0m\u001b[1;33m\u001b[0m\u001b[0m\n\u001b[0;32m   1087\u001b[0m \u001b[1;33m\u001b[0m\u001b[0m\n\u001b[1;32m-> 1088\u001b[1;33m         \u001b[1;32mreturn\u001b[0m \u001b[0mself\u001b[0m\u001b[1;33m.\u001b[0m\u001b[0m_wrap_aggregated_output\u001b[0m\u001b[1;33m(\u001b[0m\u001b[0moutput\u001b[0m\u001b[1;33m)\u001b[0m\u001b[1;33m\u001b[0m\u001b[0m\n\u001b[0m\u001b[0;32m   1089\u001b[0m \u001b[1;33m\u001b[0m\u001b[0m\n\u001b[0;32m   1090\u001b[0m     \u001b[1;32mdef\u001b[0m \u001b[0m_wrap_applied_output\u001b[0m\u001b[1;33m(\u001b[0m\u001b[0mself\u001b[0m\u001b[1;33m,\u001b[0m \u001b[1;33m*\u001b[0m\u001b[0margs\u001b[0m\u001b[1;33m,\u001b[0m \u001b[1;33m**\u001b[0m\u001b[0mkwargs\u001b[0m\u001b[1;33m)\u001b[0m\u001b[1;33m:\u001b[0m\u001b[1;33m\u001b[0m\u001b[0m\n",
      "\u001b[1;32m~\\Anaconda3\\lib\\site-packages\\pandas\\core\\groupby\\groupby.py\u001b[0m in \u001b[0;36m_wrap_aggregated_output\u001b[1;34m(self, output, names)\u001b[0m\n\u001b[0;32m   3581\u001b[0m     \u001b[1;32mdef\u001b[0m \u001b[0m_wrap_aggregated_output\u001b[0m\u001b[1;33m(\u001b[0m\u001b[0mself\u001b[0m\u001b[1;33m,\u001b[0m \u001b[0moutput\u001b[0m\u001b[1;33m,\u001b[0m \u001b[0mnames\u001b[0m\u001b[1;33m=\u001b[0m\u001b[1;32mNone\u001b[0m\u001b[1;33m)\u001b[0m\u001b[1;33m:\u001b[0m\u001b[1;33m\u001b[0m\u001b[0m\n\u001b[0;32m   3582\u001b[0m         return self._wrap_output(output=output,\n\u001b[1;32m-> 3583\u001b[1;33m                                  \u001b[0mindex\u001b[0m\u001b[1;33m=\u001b[0m\u001b[0mself\u001b[0m\u001b[1;33m.\u001b[0m\u001b[0mgrouper\u001b[0m\u001b[1;33m.\u001b[0m\u001b[0mresult_index\u001b[0m\u001b[1;33m,\u001b[0m\u001b[1;33m\u001b[0m\u001b[0m\n\u001b[0m\u001b[0;32m   3584\u001b[0m                                  names=names)\n\u001b[0;32m   3585\u001b[0m \u001b[1;33m\u001b[0m\u001b[0m\n",
      "\u001b[1;32mpandas\\_libs\\properties.pyx\u001b[0m in \u001b[0;36mpandas._libs.properties.CachedProperty.__get__\u001b[1;34m()\u001b[0m\n",
      "\u001b[1;32m~\\Anaconda3\\lib\\site-packages\\pandas\\core\\groupby\\groupby.py\u001b[0m in \u001b[0;36mresult_index\u001b[1;34m(self)\u001b[0m\n\u001b[0;32m   2379\u001b[0m                             \u001b[0mlabels\u001b[0m\u001b[1;33m=\u001b[0m\u001b[0mlabels\u001b[0m\u001b[1;33m,\u001b[0m\u001b[1;33m\u001b[0m\u001b[0m\n\u001b[0;32m   2380\u001b[0m                             \u001b[0mverify_integrity\u001b[0m\u001b[1;33m=\u001b[0m\u001b[1;32mFalse\u001b[0m\u001b[1;33m,\u001b[0m\u001b[1;33m\u001b[0m\u001b[0m\n\u001b[1;32m-> 2381\u001b[1;33m                             names=self.names)\n\u001b[0m\u001b[0;32m   2382\u001b[0m         \u001b[1;32mreturn\u001b[0m \u001b[0mresult\u001b[0m\u001b[1;33m\u001b[0m\u001b[0m\n\u001b[0;32m   2383\u001b[0m \u001b[1;33m\u001b[0m\u001b[0m\n",
      "\u001b[1;32m~\\Anaconda3\\lib\\site-packages\\pandas\\core\\indexes\\multi.py\u001b[0m in \u001b[0;36m__new__\u001b[1;34m(cls, levels, labels, sortorder, names, dtype, copy, name, verify_integrity, _set_identity)\u001b[0m\n\u001b[0;32m    230\u001b[0m         \u001b[1;32mif\u001b[0m \u001b[0mnames\u001b[0m \u001b[1;32mis\u001b[0m \u001b[1;32mnot\u001b[0m \u001b[1;32mNone\u001b[0m\u001b[1;33m:\u001b[0m\u001b[1;33m\u001b[0m\u001b[0m\n\u001b[0;32m    231\u001b[0m             \u001b[1;31m# handles name validation\u001b[0m\u001b[1;33m\u001b[0m\u001b[1;33m\u001b[0m\u001b[0m\n\u001b[1;32m--> 232\u001b[1;33m             \u001b[0mresult\u001b[0m\u001b[1;33m.\u001b[0m\u001b[0m_set_names\u001b[0m\u001b[1;33m(\u001b[0m\u001b[0mnames\u001b[0m\u001b[1;33m)\u001b[0m\u001b[1;33m\u001b[0m\u001b[0m\n\u001b[0m\u001b[0;32m    233\u001b[0m \u001b[1;33m\u001b[0m\u001b[0m\n\u001b[0;32m    234\u001b[0m         \u001b[1;32mif\u001b[0m \u001b[0msortorder\u001b[0m \u001b[1;32mis\u001b[0m \u001b[1;32mnot\u001b[0m \u001b[1;32mNone\u001b[0m\u001b[1;33m:\u001b[0m\u001b[1;33m\u001b[0m\u001b[0m\n",
      "\u001b[1;32m~\\Anaconda3\\lib\\site-packages\\pandas\\core\\indexes\\multi.py\u001b[0m in \u001b[0;36m_set_names\u001b[1;34m(self, names, level, validate)\u001b[0m\n\u001b[0;32m    693\u001b[0m                         \u001b[1;34m'Duplicated level name: \"{}\", assigned to '\u001b[0m\u001b[1;33m\u001b[0m\u001b[0m\n\u001b[0;32m    694\u001b[0m                         \u001b[1;34m'level {}, is already used for level '\u001b[0m\u001b[1;33m\u001b[0m\u001b[0m\n\u001b[1;32m--> 695\u001b[1;33m                         '{}.'.format(name, l, used[name]))\n\u001b[0m\u001b[0;32m    696\u001b[0m \u001b[1;33m\u001b[0m\u001b[0m\n\u001b[0;32m    697\u001b[0m             \u001b[0mself\u001b[0m\u001b[1;33m.\u001b[0m\u001b[0mlevels\u001b[0m\u001b[1;33m[\u001b[0m\u001b[0ml\u001b[0m\u001b[1;33m]\u001b[0m\u001b[1;33m.\u001b[0m\u001b[0mrename\u001b[0m\u001b[1;33m(\u001b[0m\u001b[0mname\u001b[0m\u001b[1;33m,\u001b[0m \u001b[0minplace\u001b[0m\u001b[1;33m=\u001b[0m\u001b[1;32mTrue\u001b[0m\u001b[1;33m)\u001b[0m\u001b[1;33m\u001b[0m\u001b[0m\n",
      "\u001b[1;31mValueError\u001b[0m: Duplicated level name: \"datetime\", assigned to level 1, is already used for level 0."
     ]
    }
   ],
   "source": [
    "agg_spicules = df.groupby([df.index.year, df.index.month]).agg({'max_length' : [np.mean, np.std]})"
   ]
  },
  {
   "cell_type": "code",
   "execution_count": null,
   "metadata": {},
   "outputs": [],
   "source": []
  },
  {
   "cell_type": "markdown",
   "metadata": {},
   "source": [
    "Now we have all this data we can build a lovely bargraph with error bars and wonderful things like that.\n",
    "\n",
    "Remember, these pandas objects have functions associated with them, and one of them is a plot command."
   ]
  },
  {
   "cell_type": "code",
   "execution_count": null,
   "metadata": {},
   "outputs": [],
   "source": []
  },
  {
   "cell_type": "code",
   "execution_count": null,
   "metadata": {},
   "outputs": [],
   "source": []
  },
  {
   "cell_type": "markdown",
   "metadata": {},
   "source": [
    "Note that the date on the x-axis is a little messed up we can fix with `fig.autofmt_xdate()`\n",
    "\n"
   ]
  },
  {
   "cell_type": "markdown",
   "metadata": {},
   "source": [
    "\n",
    "<section class=\"challenge panel panel-success\">\n",
    "<div class=\"panel-heading\">\n",
    "<h2><span class=\"fa fa-pencil\"></span> How do the lifetimes change?</h2>\n",
    "</div>\n",
    "\n",
    "\n",
    "<div class=\"panel-body\">\n",
    "\n",
    "<p>Now that we have the plot for the maximum length, now make a bar graph of the lifetimes of the features.</p>\n",
    "\n",
    "</div>\n",
    "\n",
    "</section>\n"
   ]
  },
  {
   "cell_type": "code",
   "execution_count": null,
   "metadata": {},
   "outputs": [],
   "source": []
  },
  {
   "cell_type": "markdown",
   "metadata": {},
   "source": [
    "\n",
    "<section class=\"challenge panel panel-success\">\n",
    "<div class=\"panel-heading\">\n",
    "<h2><span class=\"fa fa-pencil\"></span> Exoplanet Data</h2>\n",
    "</div>\n",
    "\n",
    "\n",
    "<div class=\"panel-body\">\n",
    "\n",
    "<p>Now, to all the astronomers out there, let us process some real data. We have some txt files containing the timeseries data from a recent paper. Can you process the data and show us the planet?</p>\n",
    "<p>HINT: You'll need to treat this data slightly differently. The date here is in Julian Day so you will need to use <a href=\"http://docs.astropy.org/en/v1.1.1/api/astropy.time.Time.html\">these</a> docs to convert it to a sensible datetime object, before you make the DataFrame.</p>\n",
    "\n",
    "</div>\n",
    "\n",
    "</section>\n"
   ]
  },
  {
   "cell_type": "code",
   "execution_count": null,
   "metadata": {},
   "outputs": [],
   "source": []
  },
  {
   "cell_type": "code",
   "execution_count": null,
   "metadata": {},
   "outputs": [],
   "source": []
  },
  {
   "cell_type": "code",
   "execution_count": null,
   "metadata": {},
   "outputs": [],
   "source": []
  },
  {
   "cell_type": "code",
   "execution_count": null,
   "metadata": {},
   "outputs": [],
   "source": []
  },
  {
   "cell_type": "code",
   "execution_count": null,
   "metadata": {},
   "outputs": [],
   "source": []
  },
  {
   "cell_type": "code",
   "execution_count": null,
   "metadata": {},
   "outputs": [],
   "source": []
  }
 ],
 "metadata": {
  "kernelspec": {
   "display_name": "Python 3",
   "language": "python",
   "name": "python3"
  },
  "language_info": {
   "codemirror_mode": {
    "name": "ipython",
    "version": 3
   },
   "file_extension": ".py",
   "mimetype": "text/x-python",
   "name": "python",
   "nbconvert_exporter": "python",
   "pygments_lexer": "ipython3",
   "version": "3.6.5"
  }
 },
 "nbformat": 4,
 "nbformat_minor": 1
}
