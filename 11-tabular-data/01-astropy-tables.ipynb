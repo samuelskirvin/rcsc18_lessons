{
 "cells": [
  {
   "cell_type": "markdown",
   "metadata": {},
   "source": [
    "# Astropy: Tables"
   ]
  },
  {
   "cell_type": "markdown",
   "metadata": {},
   "source": [
    "\n",
    "<section class=\"objectives panel panel-warning\">\n",
    "<div class=\"panel-heading\">\n",
    "<h2><span class=\"fa fa-certificate\"></span> Objectives</h2>\n",
    "</div>\n",
    "\n",
    "\n",
    "<div class=\"panel-body\">\n",
    "\n",
    "<ul>\n",
    "<li>Create tables</li>\n",
    "<li>Access data in tables</li>\n",
    "<li>Combining tables</li>\n",
    "<li>Aggregation</li>\n",
    "<li>Masking</li>\n",
    "<li>Reading/writing</li>\n",
    "</ul>\n",
    "\n",
    "</div>\n",
    "\n",
    "</section>\n"
   ]
  },
  {
   "cell_type": "markdown",
   "metadata": {},
   "source": [
    "## Documentation"
   ]
  },
  {
   "cell_type": "markdown",
   "metadata": {},
   "source": [
    "For more information about the features presented below, you can read the\n",
    "[astropy.table](http://docs.astropy.org/en/stable/table/index.html) docs."
   ]
  },
  {
   "cell_type": "markdown",
   "metadata": {},
   "source": [
    "## Creating tables"
   ]
  },
  {
   "cell_type": "code",
   "execution_count": 1,
   "metadata": {},
   "outputs": [],
   "source": [
    "from astropy.table import Table\n",
    "import numpy as np"
   ]
  },
  {
   "cell_type": "code",
   "execution_count": 2,
   "metadata": {},
   "outputs": [],
   "source": [
    "t1=Table()\n",
    "t1['name']=['source 1','source 2','source 3']\n",
    "t1['flux']=[1.2, 2.2, 3.1]"
   ]
  },
  {
   "cell_type": "code",
   "execution_count": 3,
   "metadata": {},
   "outputs": [
    {
     "data": {
      "text/html": [
       "<i>Table length=3</i>\n",
       "<table id=\"table2071152393632\" class=\"table-striped table-bordered table-condensed\">\n",
       "<thead><tr><th>name</th><th>flux</th></tr></thead>\n",
       "<thead><tr><th>str8</th><th>float64</th></tr></thead>\n",
       "<tr><td>source 1</td><td>1.2</td></tr>\n",
       "<tr><td>source 2</td><td>2.2</td></tr>\n",
       "<tr><td>source 3</td><td>3.1</td></tr>\n",
       "</table>"
      ],
      "text/plain": [
       "<Table length=3>\n",
       "  name     flux \n",
       "  str8   float64\n",
       "-------- -------\n",
       "source 1     1.2\n",
       "source 2     2.2\n",
       "source 3     3.1"
      ]
     },
     "execution_count": 3,
     "metadata": {},
     "output_type": "execute_result"
    }
   ],
   "source": [
    "t1"
   ]
  },
  {
   "cell_type": "code",
   "execution_count": 4,
   "metadata": {},
   "outputs": [
    {
     "data": {
      "text/html": [
       "<i>Table length=3</i>\n",
       "<table id=\"table2071152393632\" class=\"table-striped table-bordered table-condensed\">\n",
       "<thead><tr><th>name</th><th>flux</th><th>size</th></tr></thead>\n",
       "<thead><tr><th>str8</th><th>float64</th><th>int32</th></tr></thead>\n",
       "<tr><td>source 1</td><td>1.2</td><td>1</td></tr>\n",
       "<tr><td>source 2</td><td>2.2</td><td>5</td></tr>\n",
       "<tr><td>source 3</td><td>3.1</td><td>4</td></tr>\n",
       "</table>"
      ],
      "text/plain": [
       "<Table length=3>\n",
       "  name     flux   size\n",
       "  str8   float64 int32\n",
       "-------- ------- -----\n",
       "source 1     1.2     1\n",
       "source 2     2.2     5\n",
       "source 3     3.1     4"
      ]
     },
     "execution_count": 4,
     "metadata": {},
     "output_type": "execute_result"
    }
   ],
   "source": [
    "t1['size']=[1, 5, 4]\n",
    "t1"
   ]
  },
  {
   "cell_type": "code",
   "execution_count": 5,
   "metadata": {},
   "outputs": [
    {
     "data": {
      "text/html": [
       "&lt;Column name=&apos;size&apos; dtype=&apos;int32&apos; length=3&gt;\n",
       "<table>\n",
       "<tr><td>1</td></tr>\n",
       "<tr><td>5</td></tr>\n",
       "<tr><td>4</td></tr>\n",
       "</table>"
      ],
      "text/plain": [
       "<Column name='size' dtype='int32' length=3>\n",
       "1\n",
       "5\n",
       "4"
      ]
     },
     "execution_count": 5,
     "metadata": {},
     "output_type": "execute_result"
    }
   ],
   "source": [
    "t1['size']"
   ]
  },
  {
   "cell_type": "code",
   "execution_count": 6,
   "metadata": {},
   "outputs": [
    {
     "data": {
      "text/plain": [
       "array([1, 5, 4])"
      ]
     },
     "execution_count": 6,
     "metadata": {},
     "output_type": "execute_result"
    }
   ],
   "source": [
    "np.array(t1['size'])"
   ]
  },
  {
   "cell_type": "code",
   "execution_count": 7,
   "metadata": {},
   "outputs": [
    {
     "data": {
      "text/plain": [
       "1"
      ]
     },
     "execution_count": 7,
     "metadata": {},
     "output_type": "execute_result"
    }
   ],
   "source": [
    "t1['size'][0]"
   ]
  },
  {
   "cell_type": "code",
   "execution_count": 8,
   "metadata": {},
   "outputs": [
    {
     "data": {
      "text/html": [
       "<i>Row index=0</i>\n",
       "<table id=\"table2071152393632\">\n",
       "<thead><tr><th>name</th><th>flux</th><th>size</th></tr></thead>\n",
       "<thead><tr><th>str8</th><th>float64</th><th>int32</th></tr></thead>\n",
       "<tr><td>source 1</td><td>1.2</td><td>1</td></tr>\n",
       "</table>"
      ],
      "text/plain": [
       "<Row index=0>\n",
       "  name     flux   size\n",
       "  str8   float64 int32\n",
       "-------- ------- -----\n",
       "source 1     1.2     1"
      ]
     },
     "execution_count": 8,
     "metadata": {},
     "output_type": "execute_result"
    }
   ],
   "source": [
    "t1[0]"
   ]
  },
  {
   "cell_type": "code",
   "execution_count": 9,
   "metadata": {},
   "outputs": [
    {
     "data": {
      "text/plain": [
       "1"
      ]
     },
     "execution_count": 9,
     "metadata": {},
     "output_type": "execute_result"
    }
   ],
   "source": [
    "t1[0]['size']"
   ]
  },
  {
   "cell_type": "markdown",
   "metadata": {},
   "source": [
    "## Units in tables"
   ]
  },
  {
   "cell_type": "code",
   "execution_count": 10,
   "metadata": {},
   "outputs": [
    {
     "data": {
      "text/html": [
       "<i>Table length=3</i>\n",
       "<table id=\"table2071152393632\" class=\"table-striped table-bordered table-condensed\">\n",
       "<thead><tr><th>name</th><th>flux</th><th>size</th></tr></thead>\n",
       "<thead><tr><th></th><th></th><th>cm</th></tr></thead>\n",
       "<thead><tr><th>str8</th><th>float64</th><th>int32</th></tr></thead>\n",
       "<tr><td>source 1</td><td>1.2</td><td>1</td></tr>\n",
       "<tr><td>source 2</td><td>2.2</td><td>5</td></tr>\n",
       "<tr><td>source 3</td><td>3.1</td><td>4</td></tr>\n",
       "</table>"
      ],
      "text/plain": [
       "<Table length=3>\n",
       "  name     flux   size\n",
       "                   cm \n",
       "  str8   float64 int32\n",
       "-------- ------- -----\n",
       "source 1     1.2     1\n",
       "source 2     2.2     5\n",
       "source 3     3.1     4"
      ]
     },
     "execution_count": 10,
     "metadata": {},
     "output_type": "execute_result"
    }
   ],
   "source": [
    "t1['size'].unit = 'cm'\n",
    "t1"
   ]
  },
  {
   "cell_type": "markdown",
   "metadata": {},
   "source": [
    "Some unitful operations will then work:"
   ]
  },
  {
   "cell_type": "code",
   "execution_count": 11,
   "metadata": {},
   "outputs": [
    {
     "data": {
      "text/latex": [
       "$[0.01,~0.05,~0.04] \\; \\mathrm{m}$"
      ],
      "text/plain": [
       "<Quantity [0.01, 0.05, 0.04] m>"
      ]
     },
     "execution_count": 11,
     "metadata": {},
     "output_type": "execute_result"
    }
   ],
   "source": [
    "t1['size'].to('m')"
   ]
  },
  {
   "cell_type": "markdown",
   "metadata": {},
   "source": [
    "However, you may run into unexpected behavior, so if you are planning on using table columns as Quantities, we recommend that you use the ``QTable`` class:"
   ]
  },
  {
   "cell_type": "code",
   "execution_count": 12,
   "metadata": {},
   "outputs": [
    {
     "data": {
      "text/plain": [
       "astropy.table.column.Column"
      ]
     },
     "execution_count": 12,
     "metadata": {},
     "output_type": "execute_result"
    }
   ],
   "source": [
    "type(t1['size'])"
   ]
  },
  {
   "cell_type": "code",
   "execution_count": 13,
   "metadata": {},
   "outputs": [],
   "source": [
    "from astropy.table import QTable\n",
    "qt1=QTable(t1)"
   ]
  },
  {
   "cell_type": "code",
   "execution_count": 14,
   "metadata": {},
   "outputs": [
    {
     "data": {
      "text/plain": [
       "astropy.units.quantity.Quantity"
      ]
     },
     "execution_count": 14,
     "metadata": {},
     "output_type": "execute_result"
    }
   ],
   "source": [
    "type(qt1['size'])"
   ]
  },
  {
   "cell_type": "markdown",
   "metadata": {},
   "source": [
    "\n",
    "<section class=\"challenge panel panel-success\">\n",
    "<div class=\"panel-heading\">\n",
    "<h2><span class=\"fa fa-pencil\"></span> Challenge</h2>\n",
    "</div>\n",
    "\n",
    "\n",
    "<div class=\"panel-body\">\n",
    "\n",
    "<ol>\n",
    "<li>Make a table that contains three columns: <code>spectral type</code>, <code>temperature</code>, and <code>radius</code>, and incude 5 rows with fake data (or real data if you like, for example from <a href=\"http://www.atlasoftheuniverse.com/startype.html\">here</a>). Try including units on the columns that can have them.</li>\n",
    "<li>Find the mean temperature and the maximum radius</li>\n",
    "<li>Try and find out how to add and remove rows</li>\n",
    "<li>Add a new column which gives the luminosity (using $L=4\\pi R^2 \\sigma T^4$)</li>\n",
    "</ol>\n",
    "\n",
    "</div>\n",
    "\n",
    "</section>\n"
   ]
  },
  {
   "cell_type": "code",
   "execution_count": 15,
   "metadata": {},
   "outputs": [
    {
     "data": {
      "text/html": [
       "<i>QTable length=5</i>\n",
       "<table id=\"table2071165125688\" class=\"table-striped table-bordered table-condensed\">\n",
       "<thead><tr><th>Spectral_Type</th><th>Temperature</th><th>Radius</th></tr></thead>\n",
       "<thead><tr><th></th><th>K</th><th>solRad</th></tr></thead>\n",
       "<thead><tr><th>str1</th><th>float64</th><th>float64</th></tr></thead>\n",
       "<tr><td>O</td><td>40000.0</td><td>10.0</td></tr>\n",
       "<tr><td>B</td><td>20000.0</td><td>5.0</td></tr>\n",
       "<tr><td>A</td><td>8500.0</td><td>1.7</td></tr>\n",
       "<tr><td>F</td><td>6500.0</td><td>1.3</td></tr>\n",
       "<tr><td>G</td><td>5700.0</td><td>1.0</td></tr>\n",
       "</table>"
      ],
      "text/plain": [
       "<QTable length=5>\n",
       "Spectral_Type Temperature  Radius\n",
       "                   K       solRad\n",
       "     str1       float64   float64\n",
       "------------- ----------- -------\n",
       "            O     40000.0    10.0\n",
       "            B     20000.0     5.0\n",
       "            A      8500.0     1.7\n",
       "            F      6500.0     1.3\n",
       "            G      5700.0     1.0"
      ]
     },
     "execution_count": 15,
     "metadata": {},
     "output_type": "execute_result"
    }
   ],
   "source": [
    "import astropy.units as u\n",
    "t2=QTable()\n",
    "\n",
    "t2['Spectral_Type']=['O','B','A','F','G']\n",
    "t2['Temperature']=([40000, 20000, 8500, 6500, 5700] * u.K)\n",
    "t2['Radius']=([10, 5, 1.7, 1.3, 1] * u.R_sun)\n",
    "t2"
   ]
  },
  {
   "cell_type": "code",
   "execution_count": 16,
   "metadata": {},
   "outputs": [
    {
     "data": {
      "text/latex": [
       "$16140 \\; \\mathrm{K}$"
      ],
      "text/plain": [
       "<Quantity 16140. K>"
      ]
     },
     "execution_count": 16,
     "metadata": {},
     "output_type": "execute_result"
    }
   ],
   "source": [
    "np.mean(t2['Temperature'])"
   ]
  },
  {
   "cell_type": "code",
   "execution_count": 17,
   "metadata": {},
   "outputs": [
    {
     "data": {
      "text/latex": [
       "$10 \\; \\mathrm{R_{\\odot}}$"
      ],
      "text/plain": [
       "<Quantity 10. solRad>"
      ]
     },
     "execution_count": 17,
     "metadata": {},
     "output_type": "execute_result"
    }
   ],
   "source": [
    "np.max(t2['Radius'])"
   ]
  },
  {
   "cell_type": "code",
   "execution_count": 18,
   "metadata": {},
   "outputs": [
    {
     "data": {
      "text/html": [
       "<i>QTable length=5</i>\n",
       "<table id=\"table2071165125688\" class=\"table-striped table-bordered table-condensed\">\n",
       "<thead><tr><th>Spectral_Type</th><th>Temperature</th><th>Radius</th><th>lifetime</th></tr></thead>\n",
       "<thead><tr><th></th><th>K</th><th>solRad</th><th>Million_yrs</th></tr></thead>\n",
       "<thead><tr><th>str1</th><th>float64</th><th>float64</th><th>float64</th></tr></thead>\n",
       "<tr><td>O</td><td>40000.0</td><td>10.0</td><td>10.0</td></tr>\n",
       "<tr><td>B</td><td>20000.0</td><td>5.0</td><td>100.0</td></tr>\n",
       "<tr><td>A</td><td>8500.0</td><td>1.7</td><td>1000.0</td></tr>\n",
       "<tr><td>F</td><td>6500.0</td><td>1.3</td><td>3000.0</td></tr>\n",
       "<tr><td>G</td><td>5700.0</td><td>1.0</td><td>10000.0</td></tr>\n",
       "</table>"
      ],
      "text/plain": [
       "<QTable length=5>\n",
       "Spectral_Type Temperature  Radius   lifetime \n",
       "                   K       solRad Million_yrs\n",
       "     str1       float64   float64   float64  \n",
       "------------- ----------- ------- -----------\n",
       "            O     40000.0    10.0        10.0\n",
       "            B     20000.0     5.0       100.0\n",
       "            A      8500.0     1.7      1000.0\n",
       "            F      6500.0     1.3      3000.0\n",
       "            G      5700.0     1.0     10000.0"
      ]
     },
     "execution_count": 18,
     "metadata": {},
     "output_type": "execute_result"
    }
   ],
   "source": [
    "t2['lifetime']=[10, 100, 1000, 3000, 10000]\n",
    "t2['lifetime'].unit='Million_yrs'\n",
    "t2"
   ]
  },
  {
   "cell_type": "code",
   "execution_count": 19,
   "metadata": {},
   "outputs": [
    {
     "data": {
      "text/html": [
       "<i>QTable length=6</i>\n",
       "<table id=\"table2071165125688\" class=\"table-striped table-bordered table-condensed\">\n",
       "<thead><tr><th>Spectral_Type</th><th>Temperature</th><th>Radius</th><th>lifetime</th></tr></thead>\n",
       "<thead><tr><th></th><th>K</th><th>solRad</th><th>Million_yrs</th></tr></thead>\n",
       "<thead><tr><th>str1</th><th>float64</th><th>float64</th><th>float64</th></tr></thead>\n",
       "<tr><td>O</td><td>40000.0</td><td>10.0</td><td>10.0</td></tr>\n",
       "<tr><td>B</td><td>20000.0</td><td>5.0</td><td>100.0</td></tr>\n",
       "<tr><td>A</td><td>8500.0</td><td>1.7</td><td>1000.0</td></tr>\n",
       "<tr><td>F</td><td>6500.0</td><td>1.3</td><td>3000.0</td></tr>\n",
       "<tr><td>G</td><td>5700.0</td><td>1.0</td><td>10000.0</td></tr>\n",
       "<tr><td></td><td>0.0</td><td>0.0</td><td>0.0</td></tr>\n",
       "</table>"
      ],
      "text/plain": [
       "<QTable length=6>\n",
       "Spectral_Type Temperature  Radius   lifetime \n",
       "                   K       solRad Million_yrs\n",
       "     str1       float64   float64   float64  \n",
       "------------- ----------- ------- -----------\n",
       "            O     40000.0    10.0        10.0\n",
       "            B     20000.0     5.0       100.0\n",
       "            A      8500.0     1.7      1000.0\n",
       "            F      6500.0     1.3      3000.0\n",
       "            G      5700.0     1.0     10000.0\n",
       "                      0.0     0.0         0.0"
      ]
     },
     "execution_count": 19,
     "metadata": {},
     "output_type": "execute_result"
    }
   ],
   "source": [
    "t2.add_row(vals=None)\n",
    "t2"
   ]
  },
  {
   "cell_type": "code",
   "execution_count": 20,
   "metadata": {},
   "outputs": [
    {
     "data": {
      "text/html": [
       "<i>QTable length=5</i>\n",
       "<table id=\"table2071165125688\" class=\"table-striped table-bordered table-condensed\">\n",
       "<thead><tr><th>Spectral_Type</th><th>Temperature</th><th>Radius</th><th>lifetime</th></tr></thead>\n",
       "<thead><tr><th></th><th>K</th><th>solRad</th><th>Million_yrs</th></tr></thead>\n",
       "<thead><tr><th>str1</th><th>float64</th><th>float64</th><th>float64</th></tr></thead>\n",
       "<tr><td>O</td><td>40000.0</td><td>10.0</td><td>10.0</td></tr>\n",
       "<tr><td>B</td><td>20000.0</td><td>5.0</td><td>100.0</td></tr>\n",
       "<tr><td>A</td><td>8500.0</td><td>1.7</td><td>1000.0</td></tr>\n",
       "<tr><td>F</td><td>6500.0</td><td>1.3</td><td>3000.0</td></tr>\n",
       "<tr><td>G</td><td>5700.0</td><td>1.0</td><td>10000.0</td></tr>\n",
       "</table>"
      ],
      "text/plain": [
       "<QTable length=5>\n",
       "Spectral_Type Temperature  Radius   lifetime \n",
       "                   K       solRad Million_yrs\n",
       "     str1       float64   float64   float64  \n",
       "------------- ----------- ------- -----------\n",
       "            O     40000.0    10.0        10.0\n",
       "            B     20000.0     5.0       100.0\n",
       "            A      8500.0     1.7      1000.0\n",
       "            F      6500.0     1.3      3000.0\n",
       "            G      5700.0     1.0     10000.0"
      ]
     },
     "execution_count": 20,
     "metadata": {},
     "output_type": "execute_result"
    }
   ],
   "source": [
    "t2.remove_row(5)\n",
    "t2"
   ]
  },
  {
   "cell_type": "code",
   "execution_count": 21,
   "metadata": {},
   "outputs": [
    {
     "data": {
      "text/latex": [
       "$5.670367 \\times 10^{-8} \\; \\mathrm{\\frac{W}{m^{2}\\,K^{4}}}$"
      ],
      "text/plain": [
       "<<class 'astropy.constants.codata2014.CODATA2014'> name='Stefan-Boltzmann constant' value=5.670367e-08 uncertainty=1.3e-13 unit='W / (K4 m2)' reference='CODATA 2014'>"
      ]
     },
     "execution_count": 21,
     "metadata": {},
     "output_type": "execute_result"
    }
   ],
   "source": [
    "from astropy.constants import sigma_sb\n",
    "sigma_sb"
   ]
  },
  {
   "cell_type": "code",
   "execution_count": 23,
   "metadata": {},
   "outputs": [
    {
     "data": {
      "text/html": [
       "<i>QTable length=5</i>\n",
       "<table id=\"table2071165125688\" class=\"table-striped table-bordered table-condensed\">\n",
       "<thead><tr><th>Spectral_Type</th><th>Temperature</th><th>Radius</th><th>lifetime</th><th>Luminosity</th></tr></thead>\n",
       "<thead><tr><th></th><th>K</th><th>solRad</th><th>Million_yrs</th><th>solLum</th></tr></thead>\n",
       "<thead><tr><th>str1</th><th>float64</th><th>float64</th><th>float64</th><th>float64</th></tr></thead>\n",
       "<tr><td>O</td><td>40000.0</td><td>10.0</td><td>10.0</td><td>230639.1747035746</td></tr>\n",
       "<tr><td>B</td><td>20000.0</td><td>5.0</td><td>100.0</td><td>3603.737104743353</td></tr>\n",
       "<tr><td>A</td><td>8500.0</td><td>1.7</td><td>1000.0</td><td>13.59147703493795</td></tr>\n",
       "<tr><td>F</td><td>6500.0</td><td>1.3</td><td>3000.0</td><td>2.7178985454389313</td></tr>\n",
       "<tr><td>G</td><td>5700.0</td><td>1.0</td><td>10000.0</td><td>0.9510263120351983</td></tr>\n",
       "</table>"
      ],
      "text/plain": [
       "<QTable length=5>\n",
       "Spectral_Type Temperature  Radius   lifetime      Luminosity    \n",
       "                   K       solRad Million_yrs       solLum      \n",
       "     str1       float64   float64   float64        float64      \n",
       "------------- ----------- ------- ----------- ------------------\n",
       "            O     40000.0    10.0        10.0  230639.1747035746\n",
       "            B     20000.0     5.0       100.0  3603.737104743353\n",
       "            A      8500.0     1.7      1000.0  13.59147703493795\n",
       "            F      6500.0     1.3      3000.0 2.7178985454389313\n",
       "            G      5700.0     1.0     10000.0 0.9510263120351983"
      ]
     },
     "execution_count": 23,
     "metadata": {},
     "output_type": "execute_result"
    }
   ],
   "source": [
    "t2['Luminosity']=(4*np.pi*sigma_sb*(t2['Radius']**2) * (t2['Temperature']**4)).to(u.L_sun)\n",
    "t2"
   ]
  },
  {
   "cell_type": "markdown",
   "metadata": {},
   "source": [
    "## Iterating over tables"
   ]
  },
  {
   "cell_type": "markdown",
   "metadata": {},
   "source": [
    "It is possible to iterate over rows or over columns. To iterate over rows, simply iterate over the table itself:"
   ]
  },
  {
   "cell_type": "code",
   "execution_count": 24,
   "metadata": {},
   "outputs": [
    {
     "name": "stdout",
     "output_type": "stream",
     "text": [
      "  name   flux size\n",
      "               cm \n",
      "-------- ---- ----\n",
      "source 1  1.2    1\n",
      "  name   flux size\n",
      "               cm \n",
      "-------- ---- ----\n",
      "source 2  2.2    5\n",
      "  name   flux size\n",
      "               cm \n",
      "-------- ---- ----\n",
      "source 3  3.1    4\n"
     ]
    }
   ],
   "source": [
    "for row in t1:\n",
    "    print(row)"
   ]
  },
  {
   "cell_type": "code",
   "execution_count": 25,
   "metadata": {},
   "outputs": [
    {
     "data": {
      "text/html": [
       "<i>Row index=2</i>\n",
       "<table id=\"table2071152393632\">\n",
       "<thead><tr><th>name</th><th>flux</th><th>size</th></tr></thead>\n",
       "<thead><tr><th></th><th></th><th>cm</th></tr></thead>\n",
       "<thead><tr><th>str8</th><th>float64</th><th>int32</th></tr></thead>\n",
       "<tr><td>source 3</td><td>3.1</td><td>4</td></tr>\n",
       "</table>"
      ],
      "text/plain": [
       "<Row index=2>\n",
       "  name     flux   size\n",
       "                   cm \n",
       "  str8   float64 int32\n",
       "-------- ------- -----\n",
       "source 3     3.1     4"
      ]
     },
     "execution_count": 25,
     "metadata": {},
     "output_type": "execute_result"
    }
   ],
   "source": [
    "row"
   ]
  },
  {
   "cell_type": "markdown",
   "metadata": {},
   "source": [
    "Rows can act like dictionaries, so you can access specific columns from a row:"
   ]
  },
  {
   "cell_type": "code",
   "execution_count": 27,
   "metadata": {},
   "outputs": [
    {
     "name": "stdout",
     "output_type": "stream",
     "text": [
      "source 1\n",
      "source 2\n",
      "source 3\n"
     ]
    }
   ],
   "source": [
    "for row in t1:\n",
    "    print(row['name'])"
   ]
  },
  {
   "cell_type": "markdown",
   "metadata": {},
   "source": [
    "Iterating over columns is also easy:"
   ]
  },
  {
   "cell_type": "code",
   "execution_count": 28,
   "metadata": {},
   "outputs": [
    {
     "data": {
      "text/plain": [
       "['name', 'flux', 'size']"
      ]
     },
     "execution_count": 28,
     "metadata": {},
     "output_type": "execute_result"
    }
   ],
   "source": [
    "t1.colnames"
   ]
  },
  {
   "cell_type": "code",
   "execution_count": 32,
   "metadata": {},
   "outputs": [
    {
     "name": "stdout",
     "output_type": "stream",
     "text": [
      "  name  \n",
      "--------\n",
      "source 1\n",
      "source 2\n",
      "source 3\n",
      "flux\n",
      "----\n",
      " 1.2\n",
      " 2.2\n",
      " 3.1\n",
      "size\n",
      " cm \n",
      "----\n",
      "   1\n",
      "   5\n",
      "   4\n"
     ]
    }
   ],
   "source": [
    "for colname in t1.colnames:\n",
    "    print(t1[colname])"
   ]
  },
  {
   "cell_type": "markdown",
   "metadata": {},
   "source": [
    "Accessing specific rows from a column object can also be done with the item notation:"
   ]
  },
  {
   "cell_type": "code",
   "execution_count": 34,
   "metadata": {},
   "outputs": [
    {
     "name": "stdout",
     "output_type": "stream",
     "text": [
      "source 1\n",
      "1.2\n",
      "1\n"
     ]
    }
   ],
   "source": [
    "for colname in t1.colnames:\n",
    "    print(t1[colname][0])"
   ]
  },
  {
   "cell_type": "markdown",
   "metadata": {},
   "source": [
    "## Joining tables"
   ]
  },
  {
   "cell_type": "code",
   "execution_count": 35,
   "metadata": {},
   "outputs": [],
   "source": [
    "from astropy.table import join"
   ]
  },
  {
   "cell_type": "code",
   "execution_count": 36,
   "metadata": {},
   "outputs": [],
   "source": [
    "t = Table()\n",
    "t['name']=['source 1', 'source 3']\n",
    "t['flux2']=[1,9]"
   ]
  },
  {
   "cell_type": "code",
   "execution_count": 37,
   "metadata": {},
   "outputs": [
    {
     "data": {
      "text/html": [
       "<i>Table length=3</i>\n",
       "<table id=\"table2071152393632\" class=\"table-striped table-bordered table-condensed\">\n",
       "<thead><tr><th>name</th><th>flux</th><th>size</th></tr></thead>\n",
       "<thead><tr><th></th><th></th><th>cm</th></tr></thead>\n",
       "<thead><tr><th>str8</th><th>float64</th><th>int32</th></tr></thead>\n",
       "<tr><td>source 1</td><td>1.2</td><td>1</td></tr>\n",
       "<tr><td>source 2</td><td>2.2</td><td>5</td></tr>\n",
       "<tr><td>source 3</td><td>3.1</td><td>4</td></tr>\n",
       "</table>"
      ],
      "text/plain": [
       "<Table length=3>\n",
       "  name     flux   size\n",
       "                   cm \n",
       "  str8   float64 int32\n",
       "-------- ------- -----\n",
       "source 1     1.2     1\n",
       "source 2     2.2     5\n",
       "source 3     3.1     4"
      ]
     },
     "execution_count": 37,
     "metadata": {},
     "output_type": "execute_result"
    }
   ],
   "source": [
    "t1"
   ]
  },
  {
   "cell_type": "code",
   "execution_count": 38,
   "metadata": {},
   "outputs": [
    {
     "data": {
      "text/html": [
       "<i>Table length=2</i>\n",
       "<table id=\"table2071165124960\" class=\"table-striped table-bordered table-condensed\">\n",
       "<thead><tr><th>name</th><th>flux2</th></tr></thead>\n",
       "<thead><tr><th>str8</th><th>int32</th></tr></thead>\n",
       "<tr><td>source 1</td><td>1</td></tr>\n",
       "<tr><td>source 3</td><td>9</td></tr>\n",
       "</table>"
      ],
      "text/plain": [
       "<Table length=2>\n",
       "  name   flux2\n",
       "  str8   int32\n",
       "-------- -----\n",
       "source 1     1\n",
       "source 3     9"
      ]
     },
     "execution_count": 38,
     "metadata": {},
     "output_type": "execute_result"
    }
   ],
   "source": [
    "t"
   ]
  },
  {
   "cell_type": "code",
   "execution_count": 41,
   "metadata": {},
   "outputs": [
    {
     "data": {
      "text/html": [
       "<i>Table masked=True length=3</i>\n",
       "<table id=\"table2071165362528\" class=\"table-striped table-bordered table-condensed\">\n",
       "<thead><tr><th>name</th><th>flux</th><th>size</th><th>flux2</th></tr></thead>\n",
       "<thead><tr><th></th><th></th><th>cm</th><th></th></tr></thead>\n",
       "<thead><tr><th>str8</th><th>float64</th><th>int32</th><th>int32</th></tr></thead>\n",
       "<tr><td>source 1</td><td>1.2</td><td>1</td><td>1</td></tr>\n",
       "<tr><td>source 2</td><td>2.2</td><td>5</td><td>--</td></tr>\n",
       "<tr><td>source 3</td><td>3.1</td><td>4</td><td>9</td></tr>\n",
       "</table>"
      ],
      "text/plain": [
       "<Table masked=True length=3>\n",
       "  name     flux   size flux2\n",
       "                   cm       \n",
       "  str8   float64 int32 int32\n",
       "-------- ------- ----- -----\n",
       "source 1     1.2     1     1\n",
       "source 2     2.2     5    --\n",
       "source 3     3.1     4     9"
      ]
     },
     "execution_count": 41,
     "metadata": {},
     "output_type": "execute_result"
    }
   ],
   "source": [
    "t3 = join(t1,t, join_type='outer')\n",
    "t3"
   ]
  },
  {
   "cell_type": "markdown",
   "metadata": {},
   "source": [
    "## Masked tables"
   ]
  },
  {
   "cell_type": "code",
   "execution_count": 43,
   "metadata": {},
   "outputs": [
    {
     "data": {
      "text/plain": [
       "array([False,  True, False])"
      ]
     },
     "execution_count": 43,
     "metadata": {},
     "output_type": "execute_result"
    }
   ],
   "source": [
    "t3['flux2'].mask"
   ]
  },
  {
   "cell_type": "code",
   "execution_count": null,
   "metadata": {},
   "outputs": [],
   "source": []
  },
  {
   "cell_type": "markdown",
   "metadata": {},
   "source": [
    "## Slicing\n",
    "\n",
    "Tables can be sliced like Numpy arrays:"
   ]
  },
  {
   "cell_type": "code",
   "execution_count": 47,
   "metadata": {},
   "outputs": [],
   "source": [
    "obs=Table()\n",
    "obs['name']=['M31', 'M32', 'M31', 'M40', 'M50']\n",
    "obs['mag']=[4, 6, 8, 7, 6]"
   ]
  },
  {
   "cell_type": "code",
   "execution_count": 48,
   "metadata": {},
   "outputs": [
    {
     "data": {
      "text/html": [
       "<i>Table length=5</i>\n",
       "<table id=\"table2071165538144\" class=\"table-striped table-bordered table-condensed\">\n",
       "<thead><tr><th>name</th><th>mag</th></tr></thead>\n",
       "<thead><tr><th>str3</th><th>int32</th></tr></thead>\n",
       "<tr><td>M31</td><td>4</td></tr>\n",
       "<tr><td>M32</td><td>6</td></tr>\n",
       "<tr><td>M31</td><td>8</td></tr>\n",
       "<tr><td>M40</td><td>7</td></tr>\n",
       "<tr><td>M50</td><td>6</td></tr>\n",
       "</table>"
      ],
      "text/plain": [
       "<Table length=5>\n",
       "name  mag \n",
       "str3 int32\n",
       "---- -----\n",
       " M31     4\n",
       " M32     6\n",
       " M31     8\n",
       " M40     7\n",
       " M50     6"
      ]
     },
     "execution_count": 48,
     "metadata": {},
     "output_type": "execute_result"
    }
   ],
   "source": [
    "obs"
   ]
  },
  {
   "cell_type": "code",
   "execution_count": 49,
   "metadata": {},
   "outputs": [
    {
     "data": {
      "text/html": [
       "<i>Table length=3</i>\n",
       "<table id=\"table2071165534952\" class=\"table-striped table-bordered table-condensed\">\n",
       "<thead><tr><th>name</th><th>mag</th></tr></thead>\n",
       "<thead><tr><th>str3</th><th>int32</th></tr></thead>\n",
       "<tr><td>M31</td><td>4</td></tr>\n",
       "<tr><td>M32</td><td>6</td></tr>\n",
       "<tr><td>M31</td><td>8</td></tr>\n",
       "</table>"
      ],
      "text/plain": [
       "<Table length=3>\n",
       "name  mag \n",
       "str3 int32\n",
       "---- -----\n",
       " M31     4\n",
       " M32     6\n",
       " M31     8"
      ]
     },
     "execution_count": 49,
     "metadata": {},
     "output_type": "execute_result"
    }
   ],
   "source": [
    "obs[0:3]"
   ]
  },
  {
   "cell_type": "code",
   "execution_count": 52,
   "metadata": {},
   "outputs": [
    {
     "data": {
      "text/html": [
       "<i>Table length=2</i>\n",
       "<table id=\"table2071165608904\" class=\"table-striped table-bordered table-condensed\">\n",
       "<thead><tr><th>name</th><th>mag</th></tr></thead>\n",
       "<thead><tr><th>str3</th><th>int32</th></tr></thead>\n",
       "<tr><td>M31</td><td>8</td></tr>\n",
       "<tr><td>M40</td><td>7</td></tr>\n",
       "</table>"
      ],
      "text/plain": [
       "<Table length=2>\n",
       "name  mag \n",
       "str3 int32\n",
       "---- -----\n",
       " M31     8\n",
       " M40     7"
      ]
     },
     "execution_count": 52,
     "metadata": {},
     "output_type": "execute_result"
    }
   ],
   "source": [
    "obs[obs['mag']>6]"
   ]
  },
  {
   "cell_type": "code",
   "execution_count": 53,
   "metadata": {},
   "outputs": [
    {
     "data": {
      "text/html": [
       "<i>Table length=5</i>\n",
       "<table id=\"table2071165608176\" class=\"table-striped table-bordered table-condensed\">\n",
       "<thead><tr><th>mag</th><th>name</th></tr></thead>\n",
       "<thead><tr><th>int32</th><th>str3</th></tr></thead>\n",
       "<tr><td>4</td><td>M31</td></tr>\n",
       "<tr><td>6</td><td>M32</td></tr>\n",
       "<tr><td>8</td><td>M31</td></tr>\n",
       "<tr><td>7</td><td>M40</td></tr>\n",
       "<tr><td>6</td><td>M50</td></tr>\n",
       "</table>"
      ],
      "text/plain": [
       "<Table length=5>\n",
       " mag  name\n",
       "int32 str3\n",
       "----- ----\n",
       "    4  M31\n",
       "    6  M32\n",
       "    8  M31\n",
       "    7  M40\n",
       "    6  M50"
      ]
     },
     "execution_count": 53,
     "metadata": {},
     "output_type": "execute_result"
    }
   ],
   "source": [
    "obs['mag', 'name']"
   ]
  },
  {
   "cell_type": "markdown",
   "metadata": {},
   "source": [
    "\n",
    "<section class=\"challenge panel panel-success\">\n",
    "<div class=\"panel-heading\">\n",
    "<h2><span class=\"fa fa-pencil\"></span> Challenge</h2>\n",
    "</div>\n",
    "\n",
    "\n",
    "<div class=\"panel-body\">\n",
    "\n",
    "<p>Starting from the <code>obs</code> table:</p>\n",
    "<ol>\n",
    "<li>Make a new table that shows every other row, starting with the second row? (that is, the second, fourth, sixth, etc. rows).</li>\n",
    "<li>Make a new table the only contains rows where <code>name</code> is <code>M31</code></li>\n",
    "</ol>\n",
    "\n",
    "</div>\n",
    "\n",
    "</section>\n"
   ]
  },
  {
   "cell_type": "code",
   "execution_count": 59,
   "metadata": {},
   "outputs": [
    {
     "data": {
      "text/html": [
       "<i>Table length=2</i>\n",
       "<table id=\"table2071165776784\" class=\"table-striped table-bordered table-condensed\">\n",
       "<thead><tr><th>name</th><th>mag</th></tr></thead>\n",
       "<thead><tr><th>str3</th><th>int32</th></tr></thead>\n",
       "<tr><td>M32</td><td>6</td></tr>\n",
       "<tr><td>M40</td><td>7</td></tr>\n",
       "</table>"
      ],
      "text/plain": [
       "<Table length=2>\n",
       "name  mag \n",
       "str3 int32\n",
       "---- -----\n",
       " M32     6\n",
       " M40     7"
      ]
     },
     "execution_count": 59,
     "metadata": {},
     "output_type": "execute_result"
    }
   ],
   "source": [
    "obs[1::2]"
   ]
  },
  {
   "cell_type": "code",
   "execution_count": 60,
   "metadata": {},
   "outputs": [
    {
     "data": {
      "text/html": [
       "<i>Table length=2</i>\n",
       "<table id=\"table2071165776952\" class=\"table-striped table-bordered table-condensed\">\n",
       "<thead><tr><th>name</th><th>mag</th></tr></thead>\n",
       "<thead><tr><th>str3</th><th>int32</th></tr></thead>\n",
       "<tr><td>M31</td><td>4</td></tr>\n",
       "<tr><td>M31</td><td>8</td></tr>\n",
       "</table>"
      ],
      "text/plain": [
       "<Table length=2>\n",
       "name  mag \n",
       "str3 int32\n",
       "---- -----\n",
       " M31     4\n",
       " M31     8"
      ]
     },
     "execution_count": 60,
     "metadata": {},
     "output_type": "execute_result"
    }
   ],
   "source": [
    "obs[obs['name']=='M31']"
   ]
  },
  {
   "cell_type": "markdown",
   "metadata": {},
   "source": [
    "## Grouping and Aggregation"
   ]
  },
  {
   "cell_type": "code",
   "execution_count": 61,
   "metadata": {},
   "outputs": [],
   "source": [
    "obs_by_name=obs.group_by('name')"
   ]
  },
  {
   "cell_type": "code",
   "execution_count": 63,
   "metadata": {},
   "outputs": [
    {
     "data": {
      "text/plain": [
       "<TableGroups indices=[0 2 3 4 5]>"
      ]
     },
     "execution_count": 63,
     "metadata": {},
     "output_type": "execute_result"
    }
   ],
   "source": [
    "obs_by_name.groups"
   ]
  },
  {
   "cell_type": "code",
   "execution_count": 64,
   "metadata": {},
   "outputs": [
    {
     "name": "stdout",
     "output_type": "stream",
     "text": [
      "name mag\n",
      "---- ---\n",
      " M31   4\n",
      " M31   8\n",
      "\n",
      "name mag\n",
      "---- ---\n",
      " M32   6\n",
      "\n",
      "name mag\n",
      "---- ---\n",
      " M40   7\n",
      "\n",
      "name mag\n",
      "---- ---\n",
      " M50   6\n",
      "\n"
     ]
    }
   ],
   "source": [
    "for group in obs_by_name.groups:\n",
    "    print(group)\n",
    "    print('')"
   ]
  },
  {
   "cell_type": "code",
   "execution_count": 65,
   "metadata": {},
   "outputs": [
    {
     "data": {
      "text/html": [
       "<i>Table length=4</i>\n",
       "<table id=\"table2071165611984\" class=\"table-striped table-bordered table-condensed\">\n",
       "<thead><tr><th>name</th><th>mag</th></tr></thead>\n",
       "<thead><tr><th>str3</th><th>float64</th></tr></thead>\n",
       "<tr><td>M31</td><td>6.0</td></tr>\n",
       "<tr><td>M32</td><td>6.0</td></tr>\n",
       "<tr><td>M40</td><td>7.0</td></tr>\n",
       "<tr><td>M50</td><td>6.0</td></tr>\n",
       "</table>"
      ],
      "text/plain": [
       "<Table length=4>\n",
       "name   mag  \n",
       "str3 float64\n",
       "---- -------\n",
       " M31     6.0\n",
       " M32     6.0\n",
       " M40     7.0\n",
       " M50     6.0"
      ]
     },
     "execution_count": 65,
     "metadata": {},
     "output_type": "execute_result"
    }
   ],
   "source": [
    "obs_by_name.groups.aggregate(np.mean)"
   ]
  },
  {
   "cell_type": "markdown",
   "metadata": {},
   "source": [
    "## Writing data"
   ]
  },
  {
   "cell_type": "code",
   "execution_count": 66,
   "metadata": {},
   "outputs": [],
   "source": [
    "obs.write('obstable.fits')"
   ]
  },
  {
   "cell_type": "code",
   "execution_count": 72,
   "metadata": {},
   "outputs": [],
   "source": [
    "obs.write('obstable.vot', format='votable')"
   ]
  },
  {
   "cell_type": "code",
   "execution_count": 73,
   "metadata": {},
   "outputs": [
    {
     "name": "stdout",
     "output_type": "stream",
     "text": [
      "<?xml version=\"1.0\" encoding=\"utf-8\"?>\n",
      "<!-- Produced with astropy.io.votable version 3.0.2\n",
      "     http://www.astropy.org/ -->\n",
      "<VOTABLE version=\"1.3\" xmlns=\"http://www.ivoa.net/xml/VOTable/v1.3\" xmlns:xsi=\"http://www.w3.org/2001/XMLSchema-instance\" xsi:noNamespaceSchemaLocation=\"http://www.ivoa.net/xml/VOTable/v1.3\">\n",
      " <RESOURCE type=\"results\">\n",
      "  <TABLE>\n",
      "   <FIELD ID=\"name\" arraysize=\"3\" datatype=\"unicodeChar\" name=\"name\"/>\n",
      "   <FIELD ID=\"mag\" datatype=\"int\" name=\"mag\"/>\n",
      "   <DATA>\n",
      "    <TABLEDATA>\n",
      "     <TR>\n",
      "      <TD>M31</TD>\n",
      "      <TD>4</TD>\n",
      "     </TR>\n",
      "     <TR>\n",
      "      <TD>M32</TD>\n",
      "      <TD>6</TD>\n",
      "     </TR>\n",
      "     <TR>\n",
      "      <TD>M31</TD>\n",
      "      <TD>8</TD>\n",
      "     </TR>\n",
      "     <TR>\n",
      "      <TD>M40</TD>\n",
      "      <TD>7</TD>\n",
      "     </TR>\n",
      "     <TR>\n",
      "      <TD>M50</TD>\n",
      "      <TD>6</TD>\n",
      "     </TR>\n",
      "    </TABLEDATA>\n",
      "   </DATA>\n",
      "  </TABLE>\n",
      " </RESOURCE>\n",
      "</VOTABLE>\n"
     ]
    }
   ],
   "source": [
    "!cat obstable.vot"
   ]
  },
  {
   "cell_type": "markdown",
   "metadata": {},
   "source": [
    "## Reading data"
   ]
  },
  {
   "cell_type": "code",
   "execution_count": 74,
   "metadata": {},
   "outputs": [
    {
     "ename": "SyntaxError",
     "evalue": "invalid syntax (<ipython-input-74-fcadc2776fc9>, line 1)",
     "output_type": "error",
     "traceback": [
      "\u001b[1;36m  File \u001b[1;32m\"<ipython-input-74-fcadc2776fc9>\"\u001b[1;36m, line \u001b[1;32m1\u001b[0m\n\u001b[1;33m    t4=Table.read(2mass.tbl, format='ascii.ipac')\u001b[0m\n\u001b[1;37m                      ^\u001b[0m\n\u001b[1;31mSyntaxError\u001b[0m\u001b[1;31m:\u001b[0m invalid syntax\n"
     ]
    }
   ],
   "source": [
    "t4=Table.read(2mass.tbl, format='ascii.ipac')"
   ]
  },
  {
   "cell_type": "code",
   "execution_count": null,
   "metadata": {},
   "outputs": [],
   "source": []
  },
  {
   "cell_type": "markdown",
   "metadata": {},
   "source": [
    "\n",
    "<section class=\"challenge panel panel-success\">\n",
    "<div class=\"panel-heading\">\n",
    "<h2><span class=\"fa fa-pencil\"></span> Challenge</h2>\n",
    "</div>\n",
    "\n",
    "\n",
    "<div class=\"panel-body\">\n",
    "\n",
    "<p>Using the <code>t4</code> table above:</p>\n",
    "<ol>\n",
    "<li>\n",
    "<p>Make a plot that shows <code>j_m</code>-<code>h_m</code> on the x-axis, and <code>h_m</code>-<code>k_m</code> on the y-axis</p>\n",
    "</li>\n",
    "<li>\n",
    "<p>Make a new table that contains the subset of rows where the <code>j_snr</code>, <code>h_snr</code>, and <code>k_snr</code> columns, which give the signal-to-noise-ratio in the J, H, and K band, are greater than 10, and try and show these points in red in the plot you just made.</p>\n",
    "</li>\n",
    "<li>\n",
    "<p>Make a new table (based on the full table) that contains only the RA, Dec, and the <code>j_m</code>, <code>h_m</code> and <code>k_m</code> columns, then try and write out this catalog into a format that you can read into another software package. For example, try and write out the catalog into CSV format, then read it into a spreadsheet software package (e.g. Excel, Google Docs, Numbers, OpenOffice). You may run into an issue at this point - if so, take a look at https://github.com/astropy/astropy/issues/7357 to see how to fix it.</p>\n",
    "</li>\n",
    "</ol>\n",
    "\n",
    "</div>\n",
    "\n",
    "</section>\n"
   ]
  },
  {
   "cell_type": "code",
   "execution_count": null,
   "metadata": {},
   "outputs": [],
   "source": []
  },
  {
   "cell_type": "code",
   "execution_count": null,
   "metadata": {},
   "outputs": [],
   "source": []
  },
  {
   "cell_type": "code",
   "execution_count": null,
   "metadata": {},
   "outputs": [],
   "source": []
  },
  {
   "cell_type": "code",
   "execution_count": null,
   "metadata": {},
   "outputs": [],
   "source": []
  },
  {
   "cell_type": "code",
   "execution_count": null,
   "metadata": {},
   "outputs": [],
   "source": []
  }
 ],
 "metadata": {
  "kernelspec": {
   "display_name": "Python 3",
   "language": "python",
   "name": "python3"
  },
  "language_info": {
   "codemirror_mode": {
    "name": "ipython",
    "version": 3
   },
   "file_extension": ".py",
   "mimetype": "text/x-python",
   "name": "python",
   "nbconvert_exporter": "python",
   "pygments_lexer": "ipython3",
   "version": "3.6.5"
  }
 },
 "nbformat": 4,
 "nbformat_minor": 1
}
