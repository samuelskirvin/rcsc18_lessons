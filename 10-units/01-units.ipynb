{
 "cells": [
  {
   "cell_type": "markdown",
   "metadata": {},
   "source": [
    "# Units and Quantities\n",
    "\n",
    "## Objectives\n",
    "\n",
    "- Use units\n",
    "- Create functions that accept quantities as arguments\n",
    "- Create new units"
   ]
  },
  {
   "cell_type": "markdown",
   "metadata": {},
   "source": [
    "## Basics\n",
    "\n",
    "How do we define a Quantity and which parts does it have?"
   ]
  },
  {
   "cell_type": "code",
   "execution_count": 1,
   "metadata": {},
   "outputs": [],
   "source": [
    "import astropy.units as u"
   ]
  },
  {
   "cell_type": "code",
   "execution_count": 2,
   "metadata": {},
   "outputs": [
    {
     "name": "stdout",
     "output_type": "stream",
     "text": [
      "26.2 m\n"
     ]
    }
   ],
   "source": [
    "length = 26.2 * u.m\n",
    "print(length)"
   ]
  },
  {
   "cell_type": "code",
   "execution_count": 3,
   "metadata": {},
   "outputs": [
    {
     "data": {
      "text/plain": [
       "astropy.units.quantity.Quantity"
      ]
     },
     "execution_count": 3,
     "metadata": {},
     "output_type": "execute_result"
    }
   ],
   "source": [
    "type(length)"
   ]
  },
  {
   "cell_type": "code",
   "execution_count": 4,
   "metadata": {},
   "outputs": [
    {
     "data": {
      "text/plain": [
       "26.2"
      ]
     },
     "execution_count": 4,
     "metadata": {},
     "output_type": "execute_result"
    }
   ],
   "source": [
    "length.value"
   ]
  },
  {
   "cell_type": "code",
   "execution_count": 5,
   "metadata": {},
   "outputs": [
    {
     "data": {
      "text/latex": [
       "$\\mathrm{m}$"
      ],
      "text/plain": [
       "Unit(\"m\")"
      ]
     },
     "execution_count": 5,
     "metadata": {},
     "output_type": "execute_result"
    }
   ],
   "source": [
    "length.unit"
   ]
  },
  {
   "cell_type": "code",
   "execution_count": 6,
   "metadata": {},
   "outputs": [
    {
     "data": {
      "text/plain": [
       "dtype = float64\n",
       "unit = m\n",
       "class = Quantity\n",
       "n_bad = 0"
      ]
     },
     "execution_count": 6,
     "metadata": {},
     "output_type": "execute_result"
    }
   ],
   "source": [
    "length.info"
   ]
  },
  {
   "cell_type": "code",
   "execution_count": null,
   "metadata": {},
   "outputs": [],
   "source": []
  },
  {
   "cell_type": "code",
   "execution_count": null,
   "metadata": {},
   "outputs": [],
   "source": []
  },
  {
   "cell_type": "markdown",
   "metadata": {},
   "source": [
    "Quantities can be converted to other units systems or factors by using `to()`"
   ]
  },
  {
   "cell_type": "code",
   "execution_count": 8,
   "metadata": {},
   "outputs": [
    {
     "name": "stdout",
     "output_type": "stream",
     "text": [
      "22999.99 m\n"
     ]
    }
   ],
   "source": [
    "print(length.to(u.m))"
   ]
  },
  {
   "cell_type": "markdown",
   "metadata": {},
   "source": [
    "We can do arithmetic operations when the quantities have the compatible units:"
   ]
  },
  {
   "cell_type": "code",
   "execution_count": 7,
   "metadata": {},
   "outputs": [
    {
     "name": "stdout",
     "output_type": "stream",
     "text": [
      "22.99999 km\n"
     ]
    }
   ],
   "source": [
    "distance_start = 10*u.mm\n",
    "distance_end = 23*u.km\n",
    "length = distance_end - distance_start\n",
    "print(length)"
   ]
  },
  {
   "cell_type": "markdown",
   "metadata": {},
   "source": [
    "Quantities can also be combined, for example to measure speed"
   ]
  },
  {
   "cell_type": "code",
   "execution_count": 9,
   "metadata": {},
   "outputs": [
    {
     "name": "stdout",
     "output_type": "stream",
     "text": [
      "1.5333326666666667 km / min\n"
     ]
    }
   ],
   "source": [
    "time = 15 * u.minute\n",
    "speed = length/time\n",
    "print(speed)"
   ]
  },
  {
   "cell_type": "code",
   "execution_count": 17,
   "metadata": {},
   "outputs": [
    {
     "name": "stdout",
     "output_type": "stream",
     "text": [
      "25.555544444444447 m / s\n",
      "25.555544444444447 m / s\n"
     ]
    }
   ],
   "source": [
    "print(speed.decompose())\n",
    "print(speed.si)"
   ]
  },
  {
   "cell_type": "markdown",
   "metadata": {},
   "source": [
    "\n",
    "<section class=\"challenge panel panel-success\">\n",
    "<div class=\"panel-heading\">\n",
    "<h2><span class=\"fa fa-pencil\"></span> Unit conversions</h2>\n",
    "</div>\n",
    "\n",
    "\n",
    "<div class=\"panel-body\">\n",
    "\n",
    "<ol>\n",
    "<li>Convert the speed in imperial units (miles/hour) using:\n",
    "    <code>from astropy.units import imperial</code></li>\n",
    "<li>Calculate whether a pint is more than half litre.\n",
    "    <em>You can compare quantities as comparing variables.</em>\n",
    "    Something strange? Check what deffinition of <a href=\"https://en.wikipedia.org/wiki/Pint\">pint</a> astropy is using.</li>\n",
    "<li>Does units work with areas? calculate the area of a rectangle of 3 km of side and 5 meter of width. Show them in $m^2$ and convert them to yards$^2$</li>\n",
    "</ol>\n",
    "\n",
    "</div>\n",
    "\n",
    "</section>\n"
   ]
  },
  {
   "cell_type": "code",
   "execution_count": 18,
   "metadata": {},
   "outputs": [],
   "source": [
    "from astropy.units import imperial"
   ]
  },
  {
   "cell_type": "code",
   "execution_count": 24,
   "metadata": {},
   "outputs": [
    {
     "name": "stdout",
     "output_type": "stream",
     "text": [
      "57.16612483098704 mi / h\n"
     ]
    }
   ],
   "source": [
    "print(speed.to(imperial.mile/u.h))"
   ]
  },
  {
   "cell_type": "code",
   "execution_count": 25,
   "metadata": {},
   "outputs": [
    {
     "data": {
      "text/plain": [
       "False"
      ]
     },
     "execution_count": 25,
     "metadata": {},
     "output_type": "execute_result"
    }
   ],
   "source": [
    "imperial.pint > 0.5*u.L"
   ]
  },
  {
   "cell_type": "code",
   "execution_count": 29,
   "metadata": {},
   "outputs": [
    {
     "name": "stdout",
     "output_type": "stream",
     "text": [
      "15.0 km m\n",
      "15000.0 m2\n",
      "17939.8506945162 yd2\n"
     ]
    }
   ],
   "source": [
    "area=3 * u.km * 5 * u.m\n",
    "print(area)\n",
    "print(area.decompose())\n",
    "print(area.to(imperial.yd**2))"
   ]
  },
  {
   "cell_type": "markdown",
   "metadata": {},
   "source": [
    "## Composed units\n",
    "\n",
    "Many units are compositions of others, for example, one could create new combinationes for ease of use:"
   ]
  },
  {
   "cell_type": "code",
   "execution_count": 31,
   "metadata": {},
   "outputs": [
    {
     "name": "stdout",
     "output_type": "stream",
     "text": [
      "cm / s\n",
      "2555.5544444444445 cm / s\n"
     ]
    }
   ],
   "source": [
    "cms = u.cm / u.s\n",
    "print(cms)\n",
    "print(speed.to(cms))"
   ]
  },
  {
   "cell_type": "code",
   "execution_count": null,
   "metadata": {},
   "outputs": [],
   "source": []
  },
  {
   "cell_type": "markdown",
   "metadata": {},
   "source": [
    "and others are already a composition:"
   ]
  },
  {
   "cell_type": "code",
   "execution_count": 32,
   "metadata": {},
   "outputs": [
    {
     "data": {
      "text/plain": [
       "[Unit(\"Hz\"), Unit(\"Bq\"), Unit(\"2.7027e-11 Ci\")]"
      ]
     },
     "execution_count": 32,
     "metadata": {},
     "output_type": "execute_result"
    }
   ],
   "source": [
    "(u.s ** -1).compose()"
   ]
  },
  {
   "cell_type": "code",
   "execution_count": 33,
   "metadata": {},
   "outputs": [
    {
     "data": {
      "text/plain": [
       "[Unit(\"J\"), Unit(\"1e+07 erg\"), Unit(\"4.58742e+17 Ry\"), Unit(\"6.24151e+18 eV\")]"
      ]
     },
     "execution_count": 33,
     "metadata": {},
     "output_type": "execute_result"
    }
   ],
   "source": [
    "u.joule.compose()"
   ]
  },
  {
   "cell_type": "code",
   "execution_count": null,
   "metadata": {},
   "outputs": [],
   "source": []
  },
  {
   "cell_type": "markdown",
   "metadata": {},
   "source": [
    "Sometime we get *no units* quantitites"
   ]
  },
  {
   "cell_type": "code",
   "execution_count": 35,
   "metadata": {},
   "outputs": [
    {
     "data": {
      "text/latex": [
       "$0.2 \\; \\mathrm{}$"
      ],
      "text/plain": [
       "<Quantity 0.2>"
      ]
     },
     "execution_count": 35,
     "metadata": {},
     "output_type": "execute_result"
    }
   ],
   "source": [
    "nounits = 20 * u.cm / (1 * u.m)\n",
    "nounits.decompose()"
   ]
  },
  {
   "cell_type": "markdown",
   "metadata": {},
   "source": [
    "What happen if we add a number to this?"
   ]
  },
  {
   "cell_type": "code",
   "execution_count": 36,
   "metadata": {},
   "outputs": [
    {
     "data": {
      "text/latex": [
       "$3.2 \\; \\mathrm{}$"
      ],
      "text/plain": [
       "<Quantity 3.2>"
      ]
     },
     "execution_count": 36,
     "metadata": {},
     "output_type": "execute_result"
    }
   ],
   "source": [
    "nounits + 3"
   ]
  },
  {
   "cell_type": "code",
   "execution_count": null,
   "metadata": {},
   "outputs": [],
   "source": []
  },
  {
   "cell_type": "markdown",
   "metadata": {},
   "source": [
    "## Equivalencies\n",
    "\n",
    "Some conversions are not done by a conversion factor as between miles and kilometers, for example converting between wavelength and frequency."
   ]
  },
  {
   "cell_type": "code",
   "execution_count": 37,
   "metadata": {},
   "outputs": [
    {
     "ename": "UnitConversionError",
     "evalue": "'nm' (length) and 'Hz' (frequency) are not convertible",
     "output_type": "error",
     "traceback": [
      "\u001b[1;31m---------------------------------------------------------------------------\u001b[0m",
      "\u001b[1;31mUnitConversionError\u001b[0m                       Traceback (most recent call last)",
      "\u001b[1;32m<ipython-input-37-233f32922330>\u001b[0m in \u001b[0;36m<module>\u001b[1;34m()\u001b[0m\n\u001b[1;32m----> 1\u001b[1;33m \u001b[1;33m(\u001b[0m\u001b[1;36m656.281\u001b[0m \u001b[1;33m*\u001b[0m \u001b[0mu\u001b[0m\u001b[1;33m.\u001b[0m\u001b[0mnm\u001b[0m\u001b[1;33m)\u001b[0m\u001b[1;33m.\u001b[0m\u001b[0mto\u001b[0m\u001b[1;33m(\u001b[0m\u001b[0mu\u001b[0m\u001b[1;33m.\u001b[0m\u001b[0mHz\u001b[0m\u001b[1;33m)\u001b[0m\u001b[1;33m\u001b[0m\u001b[0m\n\u001b[0m",
      "\u001b[1;32m~\\Anaconda3\\lib\\site-packages\\astropy\\units\\quantity.py\u001b[0m in \u001b[0;36mto\u001b[1;34m(self, unit, equivalencies)\u001b[0m\n\u001b[0;32m    845\u001b[0m         \u001b[1;31m# and don't want to slow down this method (esp. the scalar case).\u001b[0m\u001b[1;33m\u001b[0m\u001b[1;33m\u001b[0m\u001b[0m\n\u001b[0;32m    846\u001b[0m         \u001b[0munit\u001b[0m \u001b[1;33m=\u001b[0m \u001b[0mUnit\u001b[0m\u001b[1;33m(\u001b[0m\u001b[0munit\u001b[0m\u001b[1;33m)\u001b[0m\u001b[1;33m\u001b[0m\u001b[0m\n\u001b[1;32m--> 847\u001b[1;33m         \u001b[1;32mreturn\u001b[0m \u001b[0mself\u001b[0m\u001b[1;33m.\u001b[0m\u001b[0m_new_view\u001b[0m\u001b[1;33m(\u001b[0m\u001b[0mself\u001b[0m\u001b[1;33m.\u001b[0m\u001b[0m_to_value\u001b[0m\u001b[1;33m(\u001b[0m\u001b[0munit\u001b[0m\u001b[1;33m,\u001b[0m \u001b[0mequivalencies\u001b[0m\u001b[1;33m)\u001b[0m\u001b[1;33m,\u001b[0m \u001b[0munit\u001b[0m\u001b[1;33m)\u001b[0m\u001b[1;33m\u001b[0m\u001b[0m\n\u001b[0m\u001b[0;32m    848\u001b[0m \u001b[1;33m\u001b[0m\u001b[0m\n\u001b[0;32m    849\u001b[0m     \u001b[1;32mdef\u001b[0m \u001b[0mto_value\u001b[0m\u001b[1;33m(\u001b[0m\u001b[0mself\u001b[0m\u001b[1;33m,\u001b[0m \u001b[0munit\u001b[0m\u001b[1;33m=\u001b[0m\u001b[1;32mNone\u001b[0m\u001b[1;33m,\u001b[0m \u001b[0mequivalencies\u001b[0m\u001b[1;33m=\u001b[0m\u001b[1;33m[\u001b[0m\u001b[1;33m]\u001b[0m\u001b[1;33m)\u001b[0m\u001b[1;33m:\u001b[0m\u001b[1;33m\u001b[0m\u001b[0m\n",
      "\u001b[1;32m~\\Anaconda3\\lib\\site-packages\\astropy\\units\\quantity.py\u001b[0m in \u001b[0;36m_to_value\u001b[1;34m(self, unit, equivalencies)\u001b[0m\n\u001b[0;32m    817\u001b[0m             \u001b[0mequivalencies\u001b[0m \u001b[1;33m=\u001b[0m \u001b[0mself\u001b[0m\u001b[1;33m.\u001b[0m\u001b[0m_equivalencies\u001b[0m\u001b[1;33m\u001b[0m\u001b[0m\n\u001b[0;32m    818\u001b[0m         return self.unit.to(unit, self.view(np.ndarray),\n\u001b[1;32m--> 819\u001b[1;33m                             equivalencies=equivalencies)\n\u001b[0m\u001b[0;32m    820\u001b[0m \u001b[1;33m\u001b[0m\u001b[0m\n\u001b[0;32m    821\u001b[0m     \u001b[1;32mdef\u001b[0m \u001b[0mto\u001b[0m\u001b[1;33m(\u001b[0m\u001b[0mself\u001b[0m\u001b[1;33m,\u001b[0m \u001b[0munit\u001b[0m\u001b[1;33m,\u001b[0m \u001b[0mequivalencies\u001b[0m\u001b[1;33m=\u001b[0m\u001b[1;33m[\u001b[0m\u001b[1;33m]\u001b[0m\u001b[1;33m)\u001b[0m\u001b[1;33m:\u001b[0m\u001b[1;33m\u001b[0m\u001b[0m\n",
      "\u001b[1;32m~\\Anaconda3\\lib\\site-packages\\astropy\\units\\core.py\u001b[0m in \u001b[0;36mto\u001b[1;34m(self, other, value, equivalencies)\u001b[0m\n\u001b[0;32m    963\u001b[0m             \u001b[0mIf\u001b[0m \u001b[0munits\u001b[0m \u001b[0mare\u001b[0m \u001b[0minconsistent\u001b[0m\u001b[1;33m\u001b[0m\u001b[0m\n\u001b[0;32m    964\u001b[0m         \"\"\"\n\u001b[1;32m--> 965\u001b[1;33m         \u001b[1;32mreturn\u001b[0m \u001b[0mself\u001b[0m\u001b[1;33m.\u001b[0m\u001b[0m_get_converter\u001b[0m\u001b[1;33m(\u001b[0m\u001b[0mother\u001b[0m\u001b[1;33m,\u001b[0m \u001b[0mequivalencies\u001b[0m\u001b[1;33m=\u001b[0m\u001b[0mequivalencies\u001b[0m\u001b[1;33m)\u001b[0m\u001b[1;33m(\u001b[0m\u001b[0mvalue\u001b[0m\u001b[1;33m)\u001b[0m\u001b[1;33m\u001b[0m\u001b[0m\n\u001b[0m\u001b[0;32m    966\u001b[0m \u001b[1;33m\u001b[0m\u001b[0m\n\u001b[0;32m    967\u001b[0m     \u001b[1;32mdef\u001b[0m \u001b[0min_units\u001b[0m\u001b[1;33m(\u001b[0m\u001b[0mself\u001b[0m\u001b[1;33m,\u001b[0m \u001b[0mother\u001b[0m\u001b[1;33m,\u001b[0m \u001b[0mvalue\u001b[0m\u001b[1;33m=\u001b[0m\u001b[1;36m1.0\u001b[0m\u001b[1;33m,\u001b[0m \u001b[0mequivalencies\u001b[0m\u001b[1;33m=\u001b[0m\u001b[1;33m[\u001b[0m\u001b[1;33m]\u001b[0m\u001b[1;33m)\u001b[0m\u001b[1;33m:\u001b[0m\u001b[1;33m\u001b[0m\u001b[0m\n",
      "\u001b[1;32m~\\Anaconda3\\lib\\site-packages\\astropy\\units\\core.py\u001b[0m in \u001b[0;36m_get_converter\u001b[1;34m(self, other, equivalencies)\u001b[0m\n\u001b[0;32m    897\u001b[0m                             \u001b[1;32mpass\u001b[0m\u001b[1;33m\u001b[0m\u001b[0m\n\u001b[0;32m    898\u001b[0m \u001b[1;33m\u001b[0m\u001b[0m\n\u001b[1;32m--> 899\u001b[1;33m             \u001b[1;32mraise\u001b[0m \u001b[0mexc\u001b[0m\u001b[1;33m\u001b[0m\u001b[0m\n\u001b[0m\u001b[0;32m    900\u001b[0m \u001b[1;33m\u001b[0m\u001b[0m\n\u001b[0;32m    901\u001b[0m     \u001b[1;32mdef\u001b[0m \u001b[0m_to\u001b[0m\u001b[1;33m(\u001b[0m\u001b[0mself\u001b[0m\u001b[1;33m,\u001b[0m \u001b[0mother\u001b[0m\u001b[1;33m)\u001b[0m\u001b[1;33m:\u001b[0m\u001b[1;33m\u001b[0m\u001b[0m\n",
      "\u001b[1;32m~\\Anaconda3\\lib\\site-packages\\astropy\\units\\core.py\u001b[0m in \u001b[0;36m_get_converter\u001b[1;34m(self, other, equivalencies)\u001b[0m\n\u001b[0;32m    883\u001b[0m         \u001b[1;32mtry\u001b[0m\u001b[1;33m:\u001b[0m\u001b[1;33m\u001b[0m\u001b[0m\n\u001b[0;32m    884\u001b[0m             return self._apply_equivalencies(\n\u001b[1;32m--> 885\u001b[1;33m                 self, other, self._normalize_equivalencies(equivalencies))\n\u001b[0m\u001b[0;32m    886\u001b[0m         \u001b[1;32mexcept\u001b[0m \u001b[0mUnitsError\u001b[0m \u001b[1;32mas\u001b[0m \u001b[0mexc\u001b[0m\u001b[1;33m:\u001b[0m\u001b[1;33m\u001b[0m\u001b[0m\n\u001b[0;32m    887\u001b[0m             \u001b[1;31m# Last hope: maybe other knows how to do it?\u001b[0m\u001b[1;33m\u001b[0m\u001b[1;33m\u001b[0m\u001b[0m\n",
      "\u001b[1;32m~\\Anaconda3\\lib\\site-packages\\astropy\\units\\core.py\u001b[0m in \u001b[0;36m_apply_equivalencies\u001b[1;34m(self, unit, other, equivalencies)\u001b[0m\n\u001b[0;32m    867\u001b[0m         raise UnitConversionError(\n\u001b[0;32m    868\u001b[0m             \"{0} and {1} are not convertible\".format(\n\u001b[1;32m--> 869\u001b[1;33m                 unit_str, other_str))\n\u001b[0m\u001b[0;32m    870\u001b[0m \u001b[1;33m\u001b[0m\u001b[0m\n\u001b[0;32m    871\u001b[0m     \u001b[1;32mdef\u001b[0m \u001b[0m_get_converter\u001b[0m\u001b[1;33m(\u001b[0m\u001b[0mself\u001b[0m\u001b[1;33m,\u001b[0m \u001b[0mother\u001b[0m\u001b[1;33m,\u001b[0m \u001b[0mequivalencies\u001b[0m\u001b[1;33m=\u001b[0m\u001b[1;33m[\u001b[0m\u001b[1;33m]\u001b[0m\u001b[1;33m)\u001b[0m\u001b[1;33m:\u001b[0m\u001b[1;33m\u001b[0m\u001b[0m\n",
      "\u001b[1;31mUnitConversionError\u001b[0m: 'nm' (length) and 'Hz' (frequency) are not convertible"
     ]
    }
   ],
   "source": [
    "(656.281 * u.nm).to(u.Hz)"
   ]
  },
  {
   "cell_type": "code",
   "execution_count": 38,
   "metadata": {},
   "outputs": [
    {
     "data": {
      "text/latex": [
       "$4.5680502 \\times 10^{14} \\; \\mathrm{Hz}$"
      ],
      "text/plain": [
       "<Quantity 4.56805024e+14 Hz>"
      ]
     },
     "execution_count": 38,
     "metadata": {},
     "output_type": "execute_result"
    }
   ],
   "source": [
    "(656.281 * u.nm).to(u.Hz, equivalencies=u.spectral())"
   ]
  },
  {
   "cell_type": "markdown",
   "metadata": {},
   "source": [
    "Other built-in equivalencies are: \n",
    " - `parallax()`\n",
    " - Doppler (`dopplr_radio`, `doppler_optical`, `doppler_relativistic`)\n",
    " - spectral flux density\n",
    " - brigthness temperature\n",
    " - temperature energy\n",
    " - and you can [build your own](http://astropy.readthedocs.org/en/stable/units/equivalencies.html#writing-new-equivalencies)"
   ]
  },
  {
   "cell_type": "code",
   "execution_count": 39,
   "metadata": {},
   "outputs": [
    {
     "data": {
      "text/plain": [
       "  Primary name | Unit definition | Aliases     \n",
       "[\n",
       "  Bq           | 1 / s           | becquerel    ,\n",
       "  Ci           | 3.7e+10 / s     | curie        ,\n",
       "  Hz           | 1 / s           | Hertz, hertz ,\n",
       "]"
      ]
     },
     "execution_count": 39,
     "metadata": {},
     "output_type": "execute_result"
    }
   ],
   "source": [
    "u.Hz.find_equivalent_units()"
   ]
  },
  {
   "cell_type": "code",
   "execution_count": 41,
   "metadata": {},
   "outputs": [
    {
     "name": "stdout",
     "output_type": "stream",
     "text": [
      "1.5333326666666667 km / min\n"
     ]
    }
   ],
   "source": [
    "print(speed)"
   ]
  },
  {
   "cell_type": "markdown",
   "metadata": {},
   "source": [
    "## Printing the quantities"
   ]
  },
  {
   "cell_type": "code",
   "execution_count": 40,
   "metadata": {},
   "outputs": [
    {
     "name": "stdout",
     "output_type": "stream",
     "text": [
      "1.533km min-1\n",
      "1.533$\\mathrm{km\\,min^{-1}}$\n"
     ]
    }
   ],
   "source": [
    "print('{0.value:0.03f}{0.unit:FITS}'.format(speed))\n",
    "print('{0.value:0.03f}{0.unit:latex_inline}'.format(speed))"
   ]
  },
  {
   "cell_type": "code",
   "execution_count": 43,
   "metadata": {},
   "outputs": [
    {
     "name": "stdout",
     "output_type": "stream",
     "text": [
      "1.5333326666666667 km min-1\n",
      "1.5333326666666667 $\\mathrm{km\\,min^{-1}}$\n"
     ]
    }
   ],
   "source": [
    "print(f'{speed.value} {speed.unit:FITS}')\n",
    "print(f'{speed.value} {speed.unit:latex_inline}')\n"
   ]
  },
  {
   "cell_type": "markdown",
   "metadata": {},
   "source": [
    "## Arrays\n",
    "\n",
    "Quantities can also be applied to arrays"
   ]
  },
  {
   "cell_type": "code",
   "execution_count": 44,
   "metadata": {},
   "outputs": [
    {
     "name": "stdout",
     "output_type": "stream",
     "text": [
      "1.9130434782608696 m / s\n"
     ]
    }
   ],
   "source": [
    "length = 44 * u.m\n",
    "time = u.Quantity(23, u.s)\n",
    "speed = length/time\n",
    "print(speed)"
   ]
  },
  {
   "cell_type": "code",
   "execution_count": 48,
   "metadata": {},
   "outputs": [
    {
     "name": "stdout",
     "output_type": "stream",
     "text": [
      "[1. 1. 1.] m / s\n"
     ]
    }
   ],
   "source": [
    "length_list=[1,2,3]*u.m\n",
    "\n",
    "import numpy as np\n",
    "time_array=np.array([1,2,3])*u.s\n",
    "\n",
    "print(length_list/time_array)"
   ]
  },
  {
   "cell_type": "code",
   "execution_count": 49,
   "metadata": {},
   "outputs": [
    {
     "name": "stdout",
     "output_type": "stream",
     "text": [
      "[  0. 179.] deg\n",
      "[0.         0.01745241]\n"
     ]
    }
   ],
   "source": [
    "angle = u.Quantity(np.arange(180), u.deg)\n",
    "print(angle[[0, -1]])\n",
    "print(np.sin(angle[[0,-1]]))"
   ]
  },
  {
   "cell_type": "markdown",
   "metadata": {},
   "source": [
    "## Plotting quantities\n",
    "\n",
    "To work nicely with matplotlib we need to do as follows:"
   ]
  },
  {
   "cell_type": "code",
   "execution_count": 50,
   "metadata": {},
   "outputs": [],
   "source": [
    "from astropy.visualization import quantity_support\n",
    "quantity_support()\n",
    "\n",
    "%matplotlib notebook\n",
    "from matplotlib import pyplot as plt"
   ]
  },
  {
   "cell_type": "code",
   "execution_count": 51,
   "metadata": {},
   "outputs": [
    {
     "data": {
      "application/javascript": [
       "/* Put everything inside the global mpl namespace */\n",
       "window.mpl = {};\n",
       "\n",
       "\n",
       "mpl.get_websocket_type = function() {\n",
       "    if (typeof(WebSocket) !== 'undefined') {\n",
       "        return WebSocket;\n",
       "    } else if (typeof(MozWebSocket) !== 'undefined') {\n",
       "        return MozWebSocket;\n",
       "    } else {\n",
       "        alert('Your browser does not have WebSocket support.' +\n",
       "              'Please try Chrome, Safari or Firefox ≥ 6. ' +\n",
       "              'Firefox 4 and 5 are also supported but you ' +\n",
       "              'have to enable WebSockets in about:config.');\n",
       "    };\n",
       "}\n",
       "\n",
       "mpl.figure = function(figure_id, websocket, ondownload, parent_element) {\n",
       "    this.id = figure_id;\n",
       "\n",
       "    this.ws = websocket;\n",
       "\n",
       "    this.supports_binary = (this.ws.binaryType != undefined);\n",
       "\n",
       "    if (!this.supports_binary) {\n",
       "        var warnings = document.getElementById(\"mpl-warnings\");\n",
       "        if (warnings) {\n",
       "            warnings.style.display = 'block';\n",
       "            warnings.textContent = (\n",
       "                \"This browser does not support binary websocket messages. \" +\n",
       "                    \"Performance may be slow.\");\n",
       "        }\n",
       "    }\n",
       "\n",
       "    this.imageObj = new Image();\n",
       "\n",
       "    this.context = undefined;\n",
       "    this.message = undefined;\n",
       "    this.canvas = undefined;\n",
       "    this.rubberband_canvas = undefined;\n",
       "    this.rubberband_context = undefined;\n",
       "    this.format_dropdown = undefined;\n",
       "\n",
       "    this.image_mode = 'full';\n",
       "\n",
       "    this.root = $('<div/>');\n",
       "    this._root_extra_style(this.root)\n",
       "    this.root.attr('style', 'display: inline-block');\n",
       "\n",
       "    $(parent_element).append(this.root);\n",
       "\n",
       "    this._init_header(this);\n",
       "    this._init_canvas(this);\n",
       "    this._init_toolbar(this);\n",
       "\n",
       "    var fig = this;\n",
       "\n",
       "    this.waiting = false;\n",
       "\n",
       "    this.ws.onopen =  function () {\n",
       "            fig.send_message(\"supports_binary\", {value: fig.supports_binary});\n",
       "            fig.send_message(\"send_image_mode\", {});\n",
       "            if (mpl.ratio != 1) {\n",
       "                fig.send_message(\"set_dpi_ratio\", {'dpi_ratio': mpl.ratio});\n",
       "            }\n",
       "            fig.send_message(\"refresh\", {});\n",
       "        }\n",
       "\n",
       "    this.imageObj.onload = function() {\n",
       "            if (fig.image_mode == 'full') {\n",
       "                // Full images could contain transparency (where diff images\n",
       "                // almost always do), so we need to clear the canvas so that\n",
       "                // there is no ghosting.\n",
       "                fig.context.clearRect(0, 0, fig.canvas.width, fig.canvas.height);\n",
       "            }\n",
       "            fig.context.drawImage(fig.imageObj, 0, 0);\n",
       "        };\n",
       "\n",
       "    this.imageObj.onunload = function() {\n",
       "        fig.ws.close();\n",
       "    }\n",
       "\n",
       "    this.ws.onmessage = this._make_on_message_function(this);\n",
       "\n",
       "    this.ondownload = ondownload;\n",
       "}\n",
       "\n",
       "mpl.figure.prototype._init_header = function() {\n",
       "    var titlebar = $(\n",
       "        '<div class=\"ui-dialog-titlebar ui-widget-header ui-corner-all ' +\n",
       "        'ui-helper-clearfix\"/>');\n",
       "    var titletext = $(\n",
       "        '<div class=\"ui-dialog-title\" style=\"width: 100%; ' +\n",
       "        'text-align: center; padding: 3px;\"/>');\n",
       "    titlebar.append(titletext)\n",
       "    this.root.append(titlebar);\n",
       "    this.header = titletext[0];\n",
       "}\n",
       "\n",
       "\n",
       "\n",
       "mpl.figure.prototype._canvas_extra_style = function(canvas_div) {\n",
       "\n",
       "}\n",
       "\n",
       "\n",
       "mpl.figure.prototype._root_extra_style = function(canvas_div) {\n",
       "\n",
       "}\n",
       "\n",
       "mpl.figure.prototype._init_canvas = function() {\n",
       "    var fig = this;\n",
       "\n",
       "    var canvas_div = $('<div/>');\n",
       "\n",
       "    canvas_div.attr('style', 'position: relative; clear: both; outline: 0');\n",
       "\n",
       "    function canvas_keyboard_event(event) {\n",
       "        return fig.key_event(event, event['data']);\n",
       "    }\n",
       "\n",
       "    canvas_div.keydown('key_press', canvas_keyboard_event);\n",
       "    canvas_div.keyup('key_release', canvas_keyboard_event);\n",
       "    this.canvas_div = canvas_div\n",
       "    this._canvas_extra_style(canvas_div)\n",
       "    this.root.append(canvas_div);\n",
       "\n",
       "    var canvas = $('<canvas/>');\n",
       "    canvas.addClass('mpl-canvas');\n",
       "    canvas.attr('style', \"left: 0; top: 0; z-index: 0; outline: 0\")\n",
       "\n",
       "    this.canvas = canvas[0];\n",
       "    this.context = canvas[0].getContext(\"2d\");\n",
       "\n",
       "    var backingStore = this.context.backingStorePixelRatio ||\n",
       "\tthis.context.webkitBackingStorePixelRatio ||\n",
       "\tthis.context.mozBackingStorePixelRatio ||\n",
       "\tthis.context.msBackingStorePixelRatio ||\n",
       "\tthis.context.oBackingStorePixelRatio ||\n",
       "\tthis.context.backingStorePixelRatio || 1;\n",
       "\n",
       "    mpl.ratio = (window.devicePixelRatio || 1) / backingStore;\n",
       "\n",
       "    var rubberband = $('<canvas/>');\n",
       "    rubberband.attr('style', \"position: absolute; left: 0; top: 0; z-index: 1;\")\n",
       "\n",
       "    var pass_mouse_events = true;\n",
       "\n",
       "    canvas_div.resizable({\n",
       "        start: function(event, ui) {\n",
       "            pass_mouse_events = false;\n",
       "        },\n",
       "        resize: function(event, ui) {\n",
       "            fig.request_resize(ui.size.width, ui.size.height);\n",
       "        },\n",
       "        stop: function(event, ui) {\n",
       "            pass_mouse_events = true;\n",
       "            fig.request_resize(ui.size.width, ui.size.height);\n",
       "        },\n",
       "    });\n",
       "\n",
       "    function mouse_event_fn(event) {\n",
       "        if (pass_mouse_events)\n",
       "            return fig.mouse_event(event, event['data']);\n",
       "    }\n",
       "\n",
       "    rubberband.mousedown('button_press', mouse_event_fn);\n",
       "    rubberband.mouseup('button_release', mouse_event_fn);\n",
       "    // Throttle sequential mouse events to 1 every 20ms.\n",
       "    rubberband.mousemove('motion_notify', mouse_event_fn);\n",
       "\n",
       "    rubberband.mouseenter('figure_enter', mouse_event_fn);\n",
       "    rubberband.mouseleave('figure_leave', mouse_event_fn);\n",
       "\n",
       "    canvas_div.on(\"wheel\", function (event) {\n",
       "        event = event.originalEvent;\n",
       "        event['data'] = 'scroll'\n",
       "        if (event.deltaY < 0) {\n",
       "            event.step = 1;\n",
       "        } else {\n",
       "            event.step = -1;\n",
       "        }\n",
       "        mouse_event_fn(event);\n",
       "    });\n",
       "\n",
       "    canvas_div.append(canvas);\n",
       "    canvas_div.append(rubberband);\n",
       "\n",
       "    this.rubberband = rubberband;\n",
       "    this.rubberband_canvas = rubberband[0];\n",
       "    this.rubberband_context = rubberband[0].getContext(\"2d\");\n",
       "    this.rubberband_context.strokeStyle = \"#000000\";\n",
       "\n",
       "    this._resize_canvas = function(width, height) {\n",
       "        // Keep the size of the canvas, canvas container, and rubber band\n",
       "        // canvas in synch.\n",
       "        canvas_div.css('width', width)\n",
       "        canvas_div.css('height', height)\n",
       "\n",
       "        canvas.attr('width', width * mpl.ratio);\n",
       "        canvas.attr('height', height * mpl.ratio);\n",
       "        canvas.attr('style', 'width: ' + width + 'px; height: ' + height + 'px;');\n",
       "\n",
       "        rubberband.attr('width', width);\n",
       "        rubberband.attr('height', height);\n",
       "    }\n",
       "\n",
       "    // Set the figure to an initial 600x600px, this will subsequently be updated\n",
       "    // upon first draw.\n",
       "    this._resize_canvas(600, 600);\n",
       "\n",
       "    // Disable right mouse context menu.\n",
       "    $(this.rubberband_canvas).bind(\"contextmenu\",function(e){\n",
       "        return false;\n",
       "    });\n",
       "\n",
       "    function set_focus () {\n",
       "        canvas.focus();\n",
       "        canvas_div.focus();\n",
       "    }\n",
       "\n",
       "    window.setTimeout(set_focus, 100);\n",
       "}\n",
       "\n",
       "mpl.figure.prototype._init_toolbar = function() {\n",
       "    var fig = this;\n",
       "\n",
       "    var nav_element = $('<div/>')\n",
       "    nav_element.attr('style', 'width: 100%');\n",
       "    this.root.append(nav_element);\n",
       "\n",
       "    // Define a callback function for later on.\n",
       "    function toolbar_event(event) {\n",
       "        return fig.toolbar_button_onclick(event['data']);\n",
       "    }\n",
       "    function toolbar_mouse_event(event) {\n",
       "        return fig.toolbar_button_onmouseover(event['data']);\n",
       "    }\n",
       "\n",
       "    for(var toolbar_ind in mpl.toolbar_items) {\n",
       "        var name = mpl.toolbar_items[toolbar_ind][0];\n",
       "        var tooltip = mpl.toolbar_items[toolbar_ind][1];\n",
       "        var image = mpl.toolbar_items[toolbar_ind][2];\n",
       "        var method_name = mpl.toolbar_items[toolbar_ind][3];\n",
       "\n",
       "        if (!name) {\n",
       "            // put a spacer in here.\n",
       "            continue;\n",
       "        }\n",
       "        var button = $('<button/>');\n",
       "        button.addClass('ui-button ui-widget ui-state-default ui-corner-all ' +\n",
       "                        'ui-button-icon-only');\n",
       "        button.attr('role', 'button');\n",
       "        button.attr('aria-disabled', 'false');\n",
       "        button.click(method_name, toolbar_event);\n",
       "        button.mouseover(tooltip, toolbar_mouse_event);\n",
       "\n",
       "        var icon_img = $('<span/>');\n",
       "        icon_img.addClass('ui-button-icon-primary ui-icon');\n",
       "        icon_img.addClass(image);\n",
       "        icon_img.addClass('ui-corner-all');\n",
       "\n",
       "        var tooltip_span = $('<span/>');\n",
       "        tooltip_span.addClass('ui-button-text');\n",
       "        tooltip_span.html(tooltip);\n",
       "\n",
       "        button.append(icon_img);\n",
       "        button.append(tooltip_span);\n",
       "\n",
       "        nav_element.append(button);\n",
       "    }\n",
       "\n",
       "    var fmt_picker_span = $('<span/>');\n",
       "\n",
       "    var fmt_picker = $('<select/>');\n",
       "    fmt_picker.addClass('mpl-toolbar-option ui-widget ui-widget-content');\n",
       "    fmt_picker_span.append(fmt_picker);\n",
       "    nav_element.append(fmt_picker_span);\n",
       "    this.format_dropdown = fmt_picker[0];\n",
       "\n",
       "    for (var ind in mpl.extensions) {\n",
       "        var fmt = mpl.extensions[ind];\n",
       "        var option = $(\n",
       "            '<option/>', {selected: fmt === mpl.default_extension}).html(fmt);\n",
       "        fmt_picker.append(option)\n",
       "    }\n",
       "\n",
       "    // Add hover states to the ui-buttons\n",
       "    $( \".ui-button\" ).hover(\n",
       "        function() { $(this).addClass(\"ui-state-hover\");},\n",
       "        function() { $(this).removeClass(\"ui-state-hover\");}\n",
       "    );\n",
       "\n",
       "    var status_bar = $('<span class=\"mpl-message\"/>');\n",
       "    nav_element.append(status_bar);\n",
       "    this.message = status_bar[0];\n",
       "}\n",
       "\n",
       "mpl.figure.prototype.request_resize = function(x_pixels, y_pixels) {\n",
       "    // Request matplotlib to resize the figure. Matplotlib will then trigger a resize in the client,\n",
       "    // which will in turn request a refresh of the image.\n",
       "    this.send_message('resize', {'width': x_pixels, 'height': y_pixels});\n",
       "}\n",
       "\n",
       "mpl.figure.prototype.send_message = function(type, properties) {\n",
       "    properties['type'] = type;\n",
       "    properties['figure_id'] = this.id;\n",
       "    this.ws.send(JSON.stringify(properties));\n",
       "}\n",
       "\n",
       "mpl.figure.prototype.send_draw_message = function() {\n",
       "    if (!this.waiting) {\n",
       "        this.waiting = true;\n",
       "        this.ws.send(JSON.stringify({type: \"draw\", figure_id: this.id}));\n",
       "    }\n",
       "}\n",
       "\n",
       "\n",
       "mpl.figure.prototype.handle_save = function(fig, msg) {\n",
       "    var format_dropdown = fig.format_dropdown;\n",
       "    var format = format_dropdown.options[format_dropdown.selectedIndex].value;\n",
       "    fig.ondownload(fig, format);\n",
       "}\n",
       "\n",
       "\n",
       "mpl.figure.prototype.handle_resize = function(fig, msg) {\n",
       "    var size = msg['size'];\n",
       "    if (size[0] != fig.canvas.width || size[1] != fig.canvas.height) {\n",
       "        fig._resize_canvas(size[0], size[1]);\n",
       "        fig.send_message(\"refresh\", {});\n",
       "    };\n",
       "}\n",
       "\n",
       "mpl.figure.prototype.handle_rubberband = function(fig, msg) {\n",
       "    var x0 = msg['x0'] / mpl.ratio;\n",
       "    var y0 = (fig.canvas.height - msg['y0']) / mpl.ratio;\n",
       "    var x1 = msg['x1'] / mpl.ratio;\n",
       "    var y1 = (fig.canvas.height - msg['y1']) / mpl.ratio;\n",
       "    x0 = Math.floor(x0) + 0.5;\n",
       "    y0 = Math.floor(y0) + 0.5;\n",
       "    x1 = Math.floor(x1) + 0.5;\n",
       "    y1 = Math.floor(y1) + 0.5;\n",
       "    var min_x = Math.min(x0, x1);\n",
       "    var min_y = Math.min(y0, y1);\n",
       "    var width = Math.abs(x1 - x0);\n",
       "    var height = Math.abs(y1 - y0);\n",
       "\n",
       "    fig.rubberband_context.clearRect(\n",
       "        0, 0, fig.canvas.width, fig.canvas.height);\n",
       "\n",
       "    fig.rubberband_context.strokeRect(min_x, min_y, width, height);\n",
       "}\n",
       "\n",
       "mpl.figure.prototype.handle_figure_label = function(fig, msg) {\n",
       "    // Updates the figure title.\n",
       "    fig.header.textContent = msg['label'];\n",
       "}\n",
       "\n",
       "mpl.figure.prototype.handle_cursor = function(fig, msg) {\n",
       "    var cursor = msg['cursor'];\n",
       "    switch(cursor)\n",
       "    {\n",
       "    case 0:\n",
       "        cursor = 'pointer';\n",
       "        break;\n",
       "    case 1:\n",
       "        cursor = 'default';\n",
       "        break;\n",
       "    case 2:\n",
       "        cursor = 'crosshair';\n",
       "        break;\n",
       "    case 3:\n",
       "        cursor = 'move';\n",
       "        break;\n",
       "    }\n",
       "    fig.rubberband_canvas.style.cursor = cursor;\n",
       "}\n",
       "\n",
       "mpl.figure.prototype.handle_message = function(fig, msg) {\n",
       "    fig.message.textContent = msg['message'];\n",
       "}\n",
       "\n",
       "mpl.figure.prototype.handle_draw = function(fig, msg) {\n",
       "    // Request the server to send over a new figure.\n",
       "    fig.send_draw_message();\n",
       "}\n",
       "\n",
       "mpl.figure.prototype.handle_image_mode = function(fig, msg) {\n",
       "    fig.image_mode = msg['mode'];\n",
       "}\n",
       "\n",
       "mpl.figure.prototype.updated_canvas_event = function() {\n",
       "    // Called whenever the canvas gets updated.\n",
       "    this.send_message(\"ack\", {});\n",
       "}\n",
       "\n",
       "// A function to construct a web socket function for onmessage handling.\n",
       "// Called in the figure constructor.\n",
       "mpl.figure.prototype._make_on_message_function = function(fig) {\n",
       "    return function socket_on_message(evt) {\n",
       "        if (evt.data instanceof Blob) {\n",
       "            /* FIXME: We get \"Resource interpreted as Image but\n",
       "             * transferred with MIME type text/plain:\" errors on\n",
       "             * Chrome.  But how to set the MIME type?  It doesn't seem\n",
       "             * to be part of the websocket stream */\n",
       "            evt.data.type = \"image/png\";\n",
       "\n",
       "            /* Free the memory for the previous frames */\n",
       "            if (fig.imageObj.src) {\n",
       "                (window.URL || window.webkitURL).revokeObjectURL(\n",
       "                    fig.imageObj.src);\n",
       "            }\n",
       "\n",
       "            fig.imageObj.src = (window.URL || window.webkitURL).createObjectURL(\n",
       "                evt.data);\n",
       "            fig.updated_canvas_event();\n",
       "            fig.waiting = false;\n",
       "            return;\n",
       "        }\n",
       "        else if (typeof evt.data === 'string' && evt.data.slice(0, 21) == \"data:image/png;base64\") {\n",
       "            fig.imageObj.src = evt.data;\n",
       "            fig.updated_canvas_event();\n",
       "            fig.waiting = false;\n",
       "            return;\n",
       "        }\n",
       "\n",
       "        var msg = JSON.parse(evt.data);\n",
       "        var msg_type = msg['type'];\n",
       "\n",
       "        // Call the  \"handle_{type}\" callback, which takes\n",
       "        // the figure and JSON message as its only arguments.\n",
       "        try {\n",
       "            var callback = fig[\"handle_\" + msg_type];\n",
       "        } catch (e) {\n",
       "            console.log(\"No handler for the '\" + msg_type + \"' message type: \", msg);\n",
       "            return;\n",
       "        }\n",
       "\n",
       "        if (callback) {\n",
       "            try {\n",
       "                // console.log(\"Handling '\" + msg_type + \"' message: \", msg);\n",
       "                callback(fig, msg);\n",
       "            } catch (e) {\n",
       "                console.log(\"Exception inside the 'handler_\" + msg_type + \"' callback:\", e, e.stack, msg);\n",
       "            }\n",
       "        }\n",
       "    };\n",
       "}\n",
       "\n",
       "// from http://stackoverflow.com/questions/1114465/getting-mouse-location-in-canvas\n",
       "mpl.findpos = function(e) {\n",
       "    //this section is from http://www.quirksmode.org/js/events_properties.html\n",
       "    var targ;\n",
       "    if (!e)\n",
       "        e = window.event;\n",
       "    if (e.target)\n",
       "        targ = e.target;\n",
       "    else if (e.srcElement)\n",
       "        targ = e.srcElement;\n",
       "    if (targ.nodeType == 3) // defeat Safari bug\n",
       "        targ = targ.parentNode;\n",
       "\n",
       "    // jQuery normalizes the pageX and pageY\n",
       "    // pageX,Y are the mouse positions relative to the document\n",
       "    // offset() returns the position of the element relative to the document\n",
       "    var x = e.pageX - $(targ).offset().left;\n",
       "    var y = e.pageY - $(targ).offset().top;\n",
       "\n",
       "    return {\"x\": x, \"y\": y};\n",
       "};\n",
       "\n",
       "/*\n",
       " * return a copy of an object with only non-object keys\n",
       " * we need this to avoid circular references\n",
       " * http://stackoverflow.com/a/24161582/3208463\n",
       " */\n",
       "function simpleKeys (original) {\n",
       "  return Object.keys(original).reduce(function (obj, key) {\n",
       "    if (typeof original[key] !== 'object')\n",
       "        obj[key] = original[key]\n",
       "    return obj;\n",
       "  }, {});\n",
       "}\n",
       "\n",
       "mpl.figure.prototype.mouse_event = function(event, name) {\n",
       "    var canvas_pos = mpl.findpos(event)\n",
       "\n",
       "    if (name === 'button_press')\n",
       "    {\n",
       "        this.canvas.focus();\n",
       "        this.canvas_div.focus();\n",
       "    }\n",
       "\n",
       "    var x = canvas_pos.x * mpl.ratio;\n",
       "    var y = canvas_pos.y * mpl.ratio;\n",
       "\n",
       "    this.send_message(name, {x: x, y: y, button: event.button,\n",
       "                             step: event.step,\n",
       "                             guiEvent: simpleKeys(event)});\n",
       "\n",
       "    /* This prevents the web browser from automatically changing to\n",
       "     * the text insertion cursor when the button is pressed.  We want\n",
       "     * to control all of the cursor setting manually through the\n",
       "     * 'cursor' event from matplotlib */\n",
       "    event.preventDefault();\n",
       "    return false;\n",
       "}\n",
       "\n",
       "mpl.figure.prototype._key_event_extra = function(event, name) {\n",
       "    // Handle any extra behaviour associated with a key event\n",
       "}\n",
       "\n",
       "mpl.figure.prototype.key_event = function(event, name) {\n",
       "\n",
       "    // Prevent repeat events\n",
       "    if (name == 'key_press')\n",
       "    {\n",
       "        if (event.which === this._key)\n",
       "            return;\n",
       "        else\n",
       "            this._key = event.which;\n",
       "    }\n",
       "    if (name == 'key_release')\n",
       "        this._key = null;\n",
       "\n",
       "    var value = '';\n",
       "    if (event.ctrlKey && event.which != 17)\n",
       "        value += \"ctrl+\";\n",
       "    if (event.altKey && event.which != 18)\n",
       "        value += \"alt+\";\n",
       "    if (event.shiftKey && event.which != 16)\n",
       "        value += \"shift+\";\n",
       "\n",
       "    value += 'k';\n",
       "    value += event.which.toString();\n",
       "\n",
       "    this._key_event_extra(event, name);\n",
       "\n",
       "    this.send_message(name, {key: value,\n",
       "                             guiEvent: simpleKeys(event)});\n",
       "    return false;\n",
       "}\n",
       "\n",
       "mpl.figure.prototype.toolbar_button_onclick = function(name) {\n",
       "    if (name == 'download') {\n",
       "        this.handle_save(this, null);\n",
       "    } else {\n",
       "        this.send_message(\"toolbar_button\", {name: name});\n",
       "    }\n",
       "};\n",
       "\n",
       "mpl.figure.prototype.toolbar_button_onmouseover = function(tooltip) {\n",
       "    this.message.textContent = tooltip;\n",
       "};\n",
       "mpl.toolbar_items = [[\"Home\", \"Reset original view\", \"fa fa-home icon-home\", \"home\"], [\"Back\", \"Back to  previous view\", \"fa fa-arrow-left icon-arrow-left\", \"back\"], [\"Forward\", \"Forward to next view\", \"fa fa-arrow-right icon-arrow-right\", \"forward\"], [\"\", \"\", \"\", \"\"], [\"Pan\", \"Pan axes with left mouse, zoom with right\", \"fa fa-arrows icon-move\", \"pan\"], [\"Zoom\", \"Zoom to rectangle\", \"fa fa-square-o icon-check-empty\", \"zoom\"], [\"\", \"\", \"\", \"\"], [\"Download\", \"Download plot\", \"fa fa-floppy-o icon-save\", \"download\"]];\n",
       "\n",
       "mpl.extensions = [\"eps\", \"jpeg\", \"pdf\", \"png\", \"ps\", \"raw\", \"svg\", \"tif\"];\n",
       "\n",
       "mpl.default_extension = \"png\";var comm_websocket_adapter = function(comm) {\n",
       "    // Create a \"websocket\"-like object which calls the given IPython comm\n",
       "    // object with the appropriate methods. Currently this is a non binary\n",
       "    // socket, so there is still some room for performance tuning.\n",
       "    var ws = {};\n",
       "\n",
       "    ws.close = function() {\n",
       "        comm.close()\n",
       "    };\n",
       "    ws.send = function(m) {\n",
       "        //console.log('sending', m);\n",
       "        comm.send(m);\n",
       "    };\n",
       "    // Register the callback with on_msg.\n",
       "    comm.on_msg(function(msg) {\n",
       "        //console.log('receiving', msg['content']['data'], msg);\n",
       "        // Pass the mpl event to the overridden (by mpl) onmessage function.\n",
       "        ws.onmessage(msg['content']['data'])\n",
       "    });\n",
       "    return ws;\n",
       "}\n",
       "\n",
       "mpl.mpl_figure_comm = function(comm, msg) {\n",
       "    // This is the function which gets called when the mpl process\n",
       "    // starts-up an IPython Comm through the \"matplotlib\" channel.\n",
       "\n",
       "    var id = msg.content.data.id;\n",
       "    // Get hold of the div created by the display call when the Comm\n",
       "    // socket was opened in Python.\n",
       "    var element = $(\"#\" + id);\n",
       "    var ws_proxy = comm_websocket_adapter(comm)\n",
       "\n",
       "    function ondownload(figure, format) {\n",
       "        window.open(figure.imageObj.src);\n",
       "    }\n",
       "\n",
       "    var fig = new mpl.figure(id, ws_proxy,\n",
       "                           ondownload,\n",
       "                           element.get(0));\n",
       "\n",
       "    // Call onopen now - mpl needs it, as it is assuming we've passed it a real\n",
       "    // web socket which is closed, not our websocket->open comm proxy.\n",
       "    ws_proxy.onopen();\n",
       "\n",
       "    fig.parent_element = element.get(0);\n",
       "    fig.cell_info = mpl.find_output_cell(\"<div id='\" + id + \"'></div>\");\n",
       "    if (!fig.cell_info) {\n",
       "        console.error(\"Failed to find cell for figure\", id, fig);\n",
       "        return;\n",
       "    }\n",
       "\n",
       "    var output_index = fig.cell_info[2]\n",
       "    var cell = fig.cell_info[0];\n",
       "\n",
       "};\n",
       "\n",
       "mpl.figure.prototype.handle_close = function(fig, msg) {\n",
       "    var width = fig.canvas.width/mpl.ratio\n",
       "    fig.root.unbind('remove')\n",
       "\n",
       "    // Update the output cell to use the data from the current canvas.\n",
       "    fig.push_to_output();\n",
       "    var dataURL = fig.canvas.toDataURL();\n",
       "    // Re-enable the keyboard manager in IPython - without this line, in FF,\n",
       "    // the notebook keyboard shortcuts fail.\n",
       "    IPython.keyboard_manager.enable()\n",
       "    $(fig.parent_element).html('<img src=\"' + dataURL + '\" width=\"' + width + '\">');\n",
       "    fig.close_ws(fig, msg);\n",
       "}\n",
       "\n",
       "mpl.figure.prototype.close_ws = function(fig, msg){\n",
       "    fig.send_message('closing', msg);\n",
       "    // fig.ws.close()\n",
       "}\n",
       "\n",
       "mpl.figure.prototype.push_to_output = function(remove_interactive) {\n",
       "    // Turn the data on the canvas into data in the output cell.\n",
       "    var width = this.canvas.width/mpl.ratio\n",
       "    var dataURL = this.canvas.toDataURL();\n",
       "    this.cell_info[1]['text/html'] = '<img src=\"' + dataURL + '\" width=\"' + width + '\">';\n",
       "}\n",
       "\n",
       "mpl.figure.prototype.updated_canvas_event = function() {\n",
       "    // Tell IPython that the notebook contents must change.\n",
       "    IPython.notebook.set_dirty(true);\n",
       "    this.send_message(\"ack\", {});\n",
       "    var fig = this;\n",
       "    // Wait a second, then push the new image to the DOM so\n",
       "    // that it is saved nicely (might be nice to debounce this).\n",
       "    setTimeout(function () { fig.push_to_output() }, 1000);\n",
       "}\n",
       "\n",
       "mpl.figure.prototype._init_toolbar = function() {\n",
       "    var fig = this;\n",
       "\n",
       "    var nav_element = $('<div/>')\n",
       "    nav_element.attr('style', 'width: 100%');\n",
       "    this.root.append(nav_element);\n",
       "\n",
       "    // Define a callback function for later on.\n",
       "    function toolbar_event(event) {\n",
       "        return fig.toolbar_button_onclick(event['data']);\n",
       "    }\n",
       "    function toolbar_mouse_event(event) {\n",
       "        return fig.toolbar_button_onmouseover(event['data']);\n",
       "    }\n",
       "\n",
       "    for(var toolbar_ind in mpl.toolbar_items){\n",
       "        var name = mpl.toolbar_items[toolbar_ind][0];\n",
       "        var tooltip = mpl.toolbar_items[toolbar_ind][1];\n",
       "        var image = mpl.toolbar_items[toolbar_ind][2];\n",
       "        var method_name = mpl.toolbar_items[toolbar_ind][3];\n",
       "\n",
       "        if (!name) { continue; };\n",
       "\n",
       "        var button = $('<button class=\"btn btn-default\" href=\"#\" title=\"' + name + '\"><i class=\"fa ' + image + ' fa-lg\"></i></button>');\n",
       "        button.click(method_name, toolbar_event);\n",
       "        button.mouseover(tooltip, toolbar_mouse_event);\n",
       "        nav_element.append(button);\n",
       "    }\n",
       "\n",
       "    // Add the status bar.\n",
       "    var status_bar = $('<span class=\"mpl-message\" style=\"text-align:right; float: right;\"/>');\n",
       "    nav_element.append(status_bar);\n",
       "    this.message = status_bar[0];\n",
       "\n",
       "    // Add the close button to the window.\n",
       "    var buttongrp = $('<div class=\"btn-group inline pull-right\"></div>');\n",
       "    var button = $('<button class=\"btn btn-mini btn-primary\" href=\"#\" title=\"Stop Interaction\"><i class=\"fa fa-power-off icon-remove icon-large\"></i></button>');\n",
       "    button.click(function (evt) { fig.handle_close(fig, {}); } );\n",
       "    button.mouseover('Stop Interaction', toolbar_mouse_event);\n",
       "    buttongrp.append(button);\n",
       "    var titlebar = this.root.find($('.ui-dialog-titlebar'));\n",
       "    titlebar.prepend(buttongrp);\n",
       "}\n",
       "\n",
       "mpl.figure.prototype._root_extra_style = function(el){\n",
       "    var fig = this\n",
       "    el.on(\"remove\", function(){\n",
       "\tfig.close_ws(fig, {});\n",
       "    });\n",
       "}\n",
       "\n",
       "mpl.figure.prototype._canvas_extra_style = function(el){\n",
       "    // this is important to make the div 'focusable\n",
       "    el.attr('tabindex', 0)\n",
       "    // reach out to IPython and tell the keyboard manager to turn it's self\n",
       "    // off when our div gets focus\n",
       "\n",
       "    // location in version 3\n",
       "    if (IPython.notebook.keyboard_manager) {\n",
       "        IPython.notebook.keyboard_manager.register_events(el);\n",
       "    }\n",
       "    else {\n",
       "        // location in version 2\n",
       "        IPython.keyboard_manager.register_events(el);\n",
       "    }\n",
       "\n",
       "}\n",
       "\n",
       "mpl.figure.prototype._key_event_extra = function(event, name) {\n",
       "    var manager = IPython.notebook.keyboard_manager;\n",
       "    if (!manager)\n",
       "        manager = IPython.keyboard_manager;\n",
       "\n",
       "    // Check for shift+enter\n",
       "    if (event.shiftKey && event.which == 13) {\n",
       "        this.canvas_div.blur();\n",
       "        event.shiftKey = false;\n",
       "        // Send a \"J\" for go to next cell\n",
       "        event.which = 74;\n",
       "        event.keyCode = 74;\n",
       "        manager.command_mode();\n",
       "        manager.handle_keydown(event);\n",
       "    }\n",
       "}\n",
       "\n",
       "mpl.figure.prototype.handle_save = function(fig, msg) {\n",
       "    fig.ondownload(fig, null);\n",
       "}\n",
       "\n",
       "\n",
       "mpl.find_output_cell = function(html_output) {\n",
       "    // Return the cell and output element which can be found *uniquely* in the notebook.\n",
       "    // Note - this is a bit hacky, but it is done because the \"notebook_saving.Notebook\"\n",
       "    // IPython event is triggered only after the cells have been serialised, which for\n",
       "    // our purposes (turning an active figure into a static one), is too late.\n",
       "    var cells = IPython.notebook.get_cells();\n",
       "    var ncells = cells.length;\n",
       "    for (var i=0; i<ncells; i++) {\n",
       "        var cell = cells[i];\n",
       "        if (cell.cell_type === 'code'){\n",
       "            for (var j=0; j<cell.output_area.outputs.length; j++) {\n",
       "                var data = cell.output_area.outputs[j];\n",
       "                if (data.data) {\n",
       "                    // IPython >= 3 moved mimebundle to data attribute of output\n",
       "                    data = data.data;\n",
       "                }\n",
       "                if (data['text/html'] == html_output) {\n",
       "                    return [cell, data, j];\n",
       "                }\n",
       "            }\n",
       "        }\n",
       "    }\n",
       "}\n",
       "\n",
       "// Register the function which deals with the matplotlib target/channel.\n",
       "// The kernel may be null if the page has been refreshed.\n",
       "if (IPython.notebook.kernel != null) {\n",
       "    IPython.notebook.kernel.comm_manager.register_target('matplotlib', mpl.mpl_figure_comm);\n",
       "}\n"
      ],
      "text/plain": [
       "<IPython.core.display.Javascript object>"
      ]
     },
     "metadata": {},
     "output_type": "display_data"
    },
    {
     "data": {
      "text/html": [
       "<img src=\"data:image/png;base64,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\" width=\"640\">"
      ],
      "text/plain": [
       "<IPython.core.display.HTML object>"
      ]
     },
     "metadata": {},
     "output_type": "display_data"
    },
    {
     "data": {
      "text/plain": [
       "[<matplotlib.lines.Line2D at 0x2a20c011a58>]"
      ]
     },
     "execution_count": 51,
     "metadata": {},
     "output_type": "execute_result"
    }
   ],
   "source": [
    "plt.plot(angle, np.sin(angle))"
   ]
  },
  {
   "cell_type": "markdown",
   "metadata": {},
   "source": [
    "## Creating functions with quantities as units\n",
    "\n",
    "We want to have functions that contain the information of the untis, and with them we can be sure that we will be always have the *right* result."
   ]
  },
  {
   "cell_type": "code",
   "execution_count": 57,
   "metadata": {},
   "outputs": [],
   "source": [
    "@u.quantity_input\n",
    "def kinetic(mass: u.kg, speed:u.m/u.s):\n",
    "    return (mass * speed**2 / 2).to(u.joule)"
   ]
  },
  {
   "cell_type": "code",
   "execution_count": 58,
   "metadata": {},
   "outputs": [
    {
     "data": {
      "text/latex": [
       "$0.025 \\; \\mathrm{J}$"
      ],
      "text/plain": [
       "<Quantity 0.025 J>"
      ]
     },
     "execution_count": 58,
     "metadata": {},
     "output_type": "execute_result"
    }
   ],
   "source": [
    "kinetic(5*u.kg,10*cms)"
   ]
  },
  {
   "cell_type": "code",
   "execution_count": null,
   "metadata": {},
   "outputs": [],
   "source": []
  },
  {
   "cell_type": "markdown",
   "metadata": {},
   "source": [
    "\n",
    "<section class=\"challenge panel panel-success\">\n",
    "<div class=\"panel-heading\">\n",
    "<h2><span class=\"fa fa-pencil\"></span> Using `quantity_input`</h2>\n",
    "</div>\n",
    "\n",
    "\n",
    "<div class=\"panel-body\">\n",
    "\n",
    "<ol>\n",
    "<li>Create a function that calculates potential energy where $g$ defaults to Earth value, but could be used for different planets. Test it for any of the $g$ values for any other <a href=\"http://www.physicsclassroom.com/class/circles/Lesson-3/The-Value-of-g&quot;\">planets</a>.</li>\n",
    "</ol>\n",
    "\n",
    "</div>\n",
    "\n",
    "</section>\n"
   ]
  },
  {
   "cell_type": "code",
   "execution_count": 80,
   "metadata": {},
   "outputs": [],
   "source": [
    "@u.quantity_input\n",
    "def potential(mass: u.kg, h: u.m, g:u.m/u.s**2=(9.81 * u.m/(u.s**2))) -> u.joule:\n",
    "    return (mass*g*h)"
   ]
  },
  {
   "cell_type": "code",
   "execution_count": 81,
   "metadata": {},
   "outputs": [
    {
     "data": {
      "text/latex": [
       "$49050 \\; \\mathrm{J}$"
      ],
      "text/plain": [
       "<Quantity 49050. J>"
      ]
     },
     "execution_count": 81,
     "metadata": {},
     "output_type": "execute_result"
    }
   ],
   "source": [
    "potential(5*u.kg, 1*u.km)"
   ]
  },
  {
   "cell_type": "code",
   "execution_count": 77,
   "metadata": {},
   "outputs": [
    {
     "data": {
      "text/latex": [
       "$40 \\; \\mathrm{J}$"
      ],
      "text/plain": [
       "<Quantity 40. J>"
      ]
     },
     "execution_count": 77,
     "metadata": {},
     "output_type": "execute_result"
    }
   ],
   "source": [
    "potential(10*u.kg, 2*u.m, 2*u.m/u.s**2)"
   ]
  },
  {
   "cell_type": "markdown",
   "metadata": {},
   "source": [
    "## Create your own units\n",
    "\n",
    "Some times we want to create our own units:"
   ]
  },
  {
   "cell_type": "code",
   "execution_count": null,
   "metadata": {},
   "outputs": [],
   "source": []
  },
  {
   "cell_type": "markdown",
   "metadata": {},
   "source": [
    "\n",
    "<section class=\"challenge panel panel-success\">\n",
    "<div class=\"panel-heading\">\n",
    "<h2><span class=\"fa fa-pencil\"></span> Area with units</h2>\n",
    "</div>\n",
    "\n",
    "\n",
    "<div class=\"panel-body\">\n",
    "\n",
    "<ol>\n",
    "<li>Convert the area calculated before <code>rectangle_area</code> in <a href=\"https://en.wikipedia.org/wiki/Hectare\">hectares</a> (1 hectare = 100 ares; 1 are = 100 $m^2$).</li>\n",
    "</ol>\n",
    "\n",
    "</div>\n",
    "\n",
    "</section>\n"
   ]
  },
  {
   "cell_type": "code",
   "execution_count": null,
   "metadata": {},
   "outputs": [],
   "source": []
  }
 ],
 "metadata": {
  "kernelspec": {
   "display_name": "Python 3",
   "language": "python",
   "name": "python3"
  },
  "language_info": {
   "codemirror_mode": {
    "name": "ipython",
    "version": 3
   },
   "file_extension": ".py",
   "mimetype": "text/x-python",
   "name": "python",
   "nbconvert_exporter": "python",
   "pygments_lexer": "ipython3",
   "version": "3.6.5"
  }
 },
 "nbformat": 4,
 "nbformat_minor": 1
}
