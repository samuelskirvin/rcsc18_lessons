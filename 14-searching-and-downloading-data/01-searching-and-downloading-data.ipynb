{
 "cells": [
  {
   "cell_type": "markdown",
   "metadata": {},
   "source": [
    "# Getting at Data\n",
    "\n",
    "Both SunPy and Astropy have utilities for downloading data for your delectation. They are simple and easy to use, however increasing levels of computing will allow a great deal of personalisation and selection. Let us begin with SunPy"
   ]
  },
  {
   "cell_type": "markdown",
   "metadata": {},
   "source": [
    "## Aquiring Data with SunPy\n",
    "\n",
    "### Fido\n",
    "\n",
    "The Federated Internet Data Obtainer (Fido) is the SunPy interface for downloading data from a wide variety of sources.\n",
    "\n",
    "So what do we need?"
   ]
  },
  {
   "cell_type": "code",
   "execution_count": 1,
   "metadata": {},
   "outputs": [],
   "source": [
    "import astropy.units as u\n",
    "from sunpy.net import Fido, attrs as a "
   ]
  },
  {
   "cell_type": "markdown",
   "metadata": {},
   "source": [
    "This is your client object. This is effectively the intermediary between yourself and the treasure chest of solar data available. You query VSO, then VSO querys all data providers which fit the limiations you imposed during your search command. The VSO client also handles the particulars of dowloading the data onto your machiene. "
   ]
  },
  {
   "cell_type": "markdown",
   "metadata": {},
   "source": [
    "## Making a query\n",
    "\n",
    "Lets kick off with an example, lets ask the veteran of solar imaging, SoHO for some EIS data, between the dates of between January 1st and 2nd, 2001,"
   ]
  },
  {
   "cell_type": "code",
   "execution_count": 2,
   "metadata": {},
   "outputs": [],
   "source": [
    "qr = Fido.search(a.Time('2001/1/1', '2001/1/2'), a.Instrument('eit'))"
   ]
  },
  {
   "cell_type": "markdown",
   "metadata": {},
   "source": [
    "`qr` is the results of our search, it holds all the records that have been returned from all the services that matched the query."
   ]
  },
  {
   "cell_type": "code",
   "execution_count": 3,
   "metadata": {},
   "outputs": [
    {
     "data": {
      "text/html": [
       "Results from 1 Provider:</br></br>122 Results from the VSOClient:</br><i>QTable length=122</i>\n",
       "<table id=\"table2085487099520\" class=\"table-striped table-bordered table-condensed\">\n",
       "<thead><tr><th>Start Time [1]</th><th>End Time [1]</th><th>Source</th><th>Instrument</th><th>Type</th><th>Wavelength [2]</th></tr></thead>\n",
       "<thead><tr><th></th><th></th><th></th><th></th><th></th><th>Angstrom</th></tr></thead>\n",
       "<thead><tr><th>str19</th><th>str19</th><th>str4</th><th>str3</th><th>str8</th><th>float64</th></tr></thead>\n",
       "<tr><td>2001-01-01 00:00:42</td><td>2001-01-01 00:00:54</td><td>SOHO</td><td>EIT</td><td>FULLDISK</td><td>195.0 .. 195.0</td></tr>\n",
       "<tr><td>2001-01-01 00:12:10</td><td>2001-01-01 00:12:23</td><td>SOHO</td><td>EIT</td><td>FULLDISK</td><td>195.0 .. 195.0</td></tr>\n",
       "<tr><td>2001-01-01 00:24:10</td><td>2001-01-01 00:24:22</td><td>SOHO</td><td>EIT</td><td>FULLDISK</td><td>195.0 .. 195.0</td></tr>\n",
       "<tr><td>2001-01-01 00:36:10</td><td>2001-01-01 00:36:22</td><td>SOHO</td><td>EIT</td><td>FULLDISK</td><td>195.0 .. 195.0</td></tr>\n",
       "<tr><td>2001-01-01 00:48:10</td><td>2001-01-01 00:48:22</td><td>SOHO</td><td>EIT</td><td>FULLDISK</td><td>195.0 .. 195.0</td></tr>\n",
       "<tr><td>2001-01-01 01:00:14</td><td>2001-01-01 01:00:21</td><td>SOHO</td><td>EIT</td><td>FULLDISK</td><td>171.0 .. 171.0</td></tr>\n",
       "<tr><td>2001-01-01 01:06:03</td><td>2001-01-01 01:08:05</td><td>SOHO</td><td>EIT</td><td>FULLDISK</td><td>284.0 .. 284.0</td></tr>\n",
       "<tr><td>2001-01-01 01:13:45</td><td>2001-01-01 01:13:57</td><td>SOHO</td><td>EIT</td><td>FULLDISK</td><td>195.0 .. 195.0</td></tr>\n",
       "<tr><td>2001-01-01 01:19:39</td><td>2001-01-01 01:20:11</td><td>SOHO</td><td>EIT</td><td>FULLDISK</td><td>304.0 .. 304.0</td></tr>\n",
       "<tr><td>...</td><td>...</td><td>...</td><td>...</td><td>...</td><td>...</td></tr>\n",
       "<tr><td>2001-01-01 21:48:11</td><td>2001-01-01 21:48:23</td><td>SOHO</td><td>EIT</td><td>FULLDISK</td><td>195.0 .. 195.0</td></tr>\n",
       "<tr><td>2001-01-01 22:00:12</td><td>2001-01-01 22:00:24</td><td>SOHO</td><td>EIT</td><td>FULLDISK</td><td>195.0 .. 195.0</td></tr>\n",
       "<tr><td>2001-01-01 22:12:10</td><td>2001-01-01 22:12:22</td><td>SOHO</td><td>EIT</td><td>FULLDISK</td><td>195.0 .. 195.0</td></tr>\n",
       "<tr><td>2001-01-01 22:24:11</td><td>2001-01-01 22:24:23</td><td>SOHO</td><td>EIT</td><td>FULLDISK</td><td>195.0 .. 195.0</td></tr>\n",
       "<tr><td>2001-01-01 22:36:11</td><td>2001-01-01 22:36:23</td><td>SOHO</td><td>EIT</td><td>FULLDISK</td><td>195.0 .. 195.0</td></tr>\n",
       "<tr><td>2001-01-01 23:00:10</td><td>2001-01-01 23:00:22</td><td>SOHO</td><td>EIT</td><td>FULLDISK</td><td>195.0 .. 195.0</td></tr>\n",
       "<tr><td>2001-01-01 23:12:10</td><td>2001-01-01 23:12:22</td><td>SOHO</td><td>EIT</td><td>FULLDISK</td><td>195.0 .. 195.0</td></tr>\n",
       "<tr><td>2001-01-01 23:24:10</td><td>2001-01-01 23:24:22</td><td>SOHO</td><td>EIT</td><td>FULLDISK</td><td>195.0 .. 195.0</td></tr>\n",
       "<tr><td>2001-01-01 23:36:10</td><td>2001-01-01 23:36:22</td><td>SOHO</td><td>EIT</td><td>FULLDISK</td><td>195.0 .. 195.0</td></tr>\n",
       "<tr><td>2001-01-01 23:48:10</td><td>2001-01-01 23:48:22</td><td>SOHO</td><td>EIT</td><td>FULLDISK</td><td>195.0 .. 195.0</td></tr>\n",
       "</table></br>"
      ],
      "text/plain": [
       "<sunpy.net.fido_factory.UnifiedResponse object at 0x000001E590743D30>\n",
       "Results from 1 Provider:\n",
       "\n",
       "122 Results from the VSOClient:\n",
       "   Start Time [1]       End Time [1]    Source ...   Type   Wavelength [2]\n",
       "                                               ...             Angstrom   \n",
       "       str19               str19         str4  ...   str8      float64    \n",
       "------------------- ------------------- ------ ... -------- --------------\n",
       "2001-01-01 00:00:42 2001-01-01 00:00:54   SOHO ... FULLDISK 195.0 .. 195.0\n",
       "2001-01-01 00:12:10 2001-01-01 00:12:23   SOHO ... FULLDISK 195.0 .. 195.0\n",
       "2001-01-01 00:24:10 2001-01-01 00:24:22   SOHO ... FULLDISK 195.0 .. 195.0\n",
       "2001-01-01 00:36:10 2001-01-01 00:36:22   SOHO ... FULLDISK 195.0 .. 195.0\n",
       "2001-01-01 00:48:10 2001-01-01 00:48:22   SOHO ... FULLDISK 195.0 .. 195.0\n",
       "2001-01-01 01:00:14 2001-01-01 01:00:21   SOHO ... FULLDISK 171.0 .. 171.0\n",
       "2001-01-01 01:06:03 2001-01-01 01:08:05   SOHO ... FULLDISK 284.0 .. 284.0\n",
       "2001-01-01 01:13:45 2001-01-01 01:13:57   SOHO ... FULLDISK 195.0 .. 195.0\n",
       "2001-01-01 01:19:39 2001-01-01 01:20:11   SOHO ... FULLDISK 304.0 .. 304.0\n",
       "                ...                 ...    ... ...      ...            ...\n",
       "2001-01-01 21:48:11 2001-01-01 21:48:23   SOHO ... FULLDISK 195.0 .. 195.0\n",
       "2001-01-01 22:00:12 2001-01-01 22:00:24   SOHO ... FULLDISK 195.0 .. 195.0\n",
       "2001-01-01 22:12:10 2001-01-01 22:12:22   SOHO ... FULLDISK 195.0 .. 195.0\n",
       "2001-01-01 22:24:11 2001-01-01 22:24:23   SOHO ... FULLDISK 195.0 .. 195.0\n",
       "2001-01-01 22:36:11 2001-01-01 22:36:23   SOHO ... FULLDISK 195.0 .. 195.0\n",
       "2001-01-01 23:00:10 2001-01-01 23:00:22   SOHO ... FULLDISK 195.0 .. 195.0\n",
       "2001-01-01 23:12:10 2001-01-01 23:12:22   SOHO ... FULLDISK 195.0 .. 195.0\n",
       "2001-01-01 23:24:10 2001-01-01 23:24:22   SOHO ... FULLDISK 195.0 .. 195.0\n",
       "2001-01-01 23:36:10 2001-01-01 23:36:22   SOHO ... FULLDISK 195.0 .. 195.0\n",
       "2001-01-01 23:48:10 2001-01-01 23:48:22   SOHO ... FULLDISK 195.0 .. 195.0\n"
      ]
     },
     "execution_count": 3,
     "metadata": {},
     "output_type": "execute_result"
    }
   ],
   "source": [
    "qr"
   ]
  },
  {
   "cell_type": "markdown",
   "metadata": {},
   "source": [
    "### Break it down\n",
    "\n",
    "So we can pass many attributes to the VSO, in this case we started with time\n",
    "\n",
    "`a.Time('2001/1/1','2001/1/2')`\n",
    "\n",
    "Start and end times for the query as strings, any date/time function can be understood by SunPy's parse_time function e.g. the datetime onjects we will look at later. Next we give it the instrument we want:\n",
    "\n",
    "`a.Instrument('eit')`\n",
    "\n",
    "You don't have to pass it an instrument, the client will find all available missions in the parameter you've defined if you like. Next, wavelength:\n",
    "\n",
    "`a.Wave(14.2*u.nm, 12.3*u.nm)`\n",
    "\n",
    "We pass it a min and max wavelength. This has to be an astropy units quantity (in SI for the love of coffee). If you don't you will get an error.\n",
    " \n",
    "For a full list of attributes that vso can take use:"
   ]
  },
  {
   "cell_type": "code",
   "execution_count": null,
   "metadata": {},
   "outputs": [],
   "source": [
    "a."
   ]
  },
  {
   "cell_type": "markdown",
   "metadata": {},
   "source": [
    "## More Complex Searching\n",
    "\n",
    "In this example we will use the logical operators to combine attributes into a complex multi-instrument query.\n",
    "\n",
    "You can use the & and operator or the `|` or operator to make queries. In the previous example all arguments to `Fido.search` had the and operator applied, we performed a search where the Instrument and the Wavelength and the time matched. We could have done this explicitly like this:"
   ]
  },
  {
   "cell_type": "code",
   "execution_count": 4,
   "metadata": {},
   "outputs": [
    {
     "data": {
      "text/html": [
       "Results from 1 Provider:</br></br>401 Results from the VSOClient:</br><i>QTable length=401</i>\n",
       "<table id=\"table2085498169496\" class=\"table-striped table-bordered table-condensed\">\n",
       "<thead><tr><th>Start Time [1]</th><th>End Time [1]</th><th>Source</th><th>Instrument</th><th>Type</th><th>Wavelength [2]</th></tr></thead>\n",
       "<thead><tr><th></th><th></th><th></th><th></th><th></th><th>Angstrom</th></tr></thead>\n",
       "<thead><tr><th>str19</th><th>str19</th><th>str3</th><th>str3</th><th>str8</th><th>float64</th></tr></thead>\n",
       "<tr><td>2016-02-03 00:00:00</td><td>2016-02-03 00:00:01</td><td>SDO</td><td>AIA</td><td>FULLDISK</td><td>94.0 .. 94.0</td></tr>\n",
       "<tr><td>2016-02-03 00:00:01</td><td>2016-02-03 00:00:02</td><td>SDO</td><td>AIA</td><td>FULLDISK</td><td>335.0 .. 335.0</td></tr>\n",
       "<tr><td>2016-02-03 00:00:05</td><td>2016-02-03 00:00:06</td><td>SDO</td><td>AIA</td><td>FULLDISK</td><td>193.0 .. 193.0</td></tr>\n",
       "<tr><td>2016-02-03 00:00:06</td><td>2016-02-03 00:00:07</td><td>SDO</td><td>AIA</td><td>FULLDISK</td><td>304.0 .. 304.0</td></tr>\n",
       "<tr><td>2016-02-03 00:00:06</td><td>2016-02-03 00:00:07</td><td>SDO</td><td>AIA</td><td>FULLDISK</td><td>4500.0 .. 4500.0</td></tr>\n",
       "<tr><td>2016-02-03 00:00:07</td><td>2016-02-03 00:00:08</td><td>SDO</td><td>AIA</td><td>FULLDISK</td><td>131.0 .. 131.0</td></tr>\n",
       "<tr><td>2016-02-03 00:00:10</td><td>2016-02-03 00:00:11</td><td>SDO</td><td>AIA</td><td>FULLDISK</td><td>171.0 .. 171.0</td></tr>\n",
       "<tr><td>2016-02-03 00:00:10</td><td>2016-02-03 00:00:11</td><td>SDO</td><td>AIA</td><td>FULLDISK</td><td>211.0 .. 211.0</td></tr>\n",
       "<tr><td>2016-02-03 00:00:12</td><td>2016-02-03 00:00:13</td><td>SDO</td><td>AIA</td><td>FULLDISK</td><td>94.0 .. 94.0</td></tr>\n",
       "<tr><td>...</td><td>...</td><td>...</td><td>...</td><td>...</td><td>...</td></tr>\n",
       "<tr><td>2016-02-03 00:09:46</td><td>2016-02-03 00:09:47</td><td>SDO</td><td>AIA</td><td>FULLDISK</td><td>211.0 .. 211.0</td></tr>\n",
       "<tr><td>2016-02-03 00:09:48</td><td>2016-02-03 00:09:49</td><td>SDO</td><td>AIA</td><td>FULLDISK</td><td>94.0 .. 94.0</td></tr>\n",
       "<tr><td>2016-02-03 00:09:49</td><td>2016-02-03 00:09:50</td><td>SDO</td><td>AIA</td><td>FULLDISK</td><td>335.0 .. 335.0</td></tr>\n",
       "<tr><td>2016-02-03 00:09:51</td><td>2016-02-03 00:09:52</td><td>SDO</td><td>AIA</td><td>FULLDISK</td><td>1600.0 .. 1600.0</td></tr>\n",
       "<tr><td>2016-02-03 00:09:53</td><td>2016-02-03 00:09:54</td><td>SDO</td><td>AIA</td><td>FULLDISK</td><td>193.0 .. 193.0</td></tr>\n",
       "<tr><td>2016-02-03 00:09:54</td><td>2016-02-03 00:09:55</td><td>SDO</td><td>AIA</td><td>FULLDISK</td><td>304.0 .. 304.0</td></tr>\n",
       "<tr><td>2016-02-03 00:09:55</td><td>2016-02-03 00:09:56</td><td>SDO</td><td>AIA</td><td>FULLDISK</td><td>131.0 .. 131.0</td></tr>\n",
       "<tr><td>2016-02-03 00:09:58</td><td>2016-02-03 00:09:59</td><td>SDO</td><td>AIA</td><td>FULLDISK</td><td>171.0 .. 171.0</td></tr>\n",
       "<tr><td>2016-02-03 00:09:58</td><td>2016-02-03 00:09:59</td><td>SDO</td><td>AIA</td><td>FULLDISK</td><td>211.0 .. 211.0</td></tr>\n",
       "<tr><td>2016-02-03 00:10:00</td><td>2016-02-03 00:10:01</td><td>SDO</td><td>AIA</td><td>FULLDISK</td><td>94.0 .. 94.0</td></tr>\n",
       "</table></br>"
      ],
      "text/plain": [
       "<sunpy.net.fido_factory.UnifiedResponse object at 0x000001E590743E48>\n",
       "Results from 1 Provider:\n",
       "\n",
       "401 Results from the VSOClient:\n",
       "   Start Time [1]       End Time [1]    Source ...   Type    Wavelength [2] \n",
       "                                               ...              Angstrom    \n",
       "       str19               str19         str3  ...   str8       float64     \n",
       "------------------- ------------------- ------ ... -------- ----------------\n",
       "2016-02-03 00:00:00 2016-02-03 00:00:01    SDO ... FULLDISK     94.0 .. 94.0\n",
       "2016-02-03 00:00:01 2016-02-03 00:00:02    SDO ... FULLDISK   335.0 .. 335.0\n",
       "2016-02-03 00:00:05 2016-02-03 00:00:06    SDO ... FULLDISK   193.0 .. 193.0\n",
       "2016-02-03 00:00:06 2016-02-03 00:00:07    SDO ... FULLDISK   304.0 .. 304.0\n",
       "2016-02-03 00:00:06 2016-02-03 00:00:07    SDO ... FULLDISK 4500.0 .. 4500.0\n",
       "2016-02-03 00:00:07 2016-02-03 00:00:08    SDO ... FULLDISK   131.0 .. 131.0\n",
       "2016-02-03 00:00:10 2016-02-03 00:00:11    SDO ... FULLDISK   171.0 .. 171.0\n",
       "2016-02-03 00:00:10 2016-02-03 00:00:11    SDO ... FULLDISK   211.0 .. 211.0\n",
       "2016-02-03 00:00:12 2016-02-03 00:00:13    SDO ... FULLDISK     94.0 .. 94.0\n",
       "                ...                 ...    ... ...      ...              ...\n",
       "2016-02-03 00:09:46 2016-02-03 00:09:47    SDO ... FULLDISK   211.0 .. 211.0\n",
       "2016-02-03 00:09:48 2016-02-03 00:09:49    SDO ... FULLDISK     94.0 .. 94.0\n",
       "2016-02-03 00:09:49 2016-02-03 00:09:50    SDO ... FULLDISK   335.0 .. 335.0\n",
       "2016-02-03 00:09:51 2016-02-03 00:09:52    SDO ... FULLDISK 1600.0 .. 1600.0\n",
       "2016-02-03 00:09:53 2016-02-03 00:09:54    SDO ... FULLDISK   193.0 .. 193.0\n",
       "2016-02-03 00:09:54 2016-02-03 00:09:55    SDO ... FULLDISK   304.0 .. 304.0\n",
       "2016-02-03 00:09:55 2016-02-03 00:09:56    SDO ... FULLDISK   131.0 .. 131.0\n",
       "2016-02-03 00:09:58 2016-02-03 00:09:59    SDO ... FULLDISK   171.0 .. 171.0\n",
       "2016-02-03 00:09:58 2016-02-03 00:09:59    SDO ... FULLDISK   211.0 .. 211.0\n",
       "2016-02-03 00:10:00 2016-02-03 00:10:01    SDO ... FULLDISK     94.0 .. 94.0\n"
      ]
     },
     "execution_count": 4,
     "metadata": {},
     "output_type": "execute_result"
    }
   ],
   "source": [
    "mysearch = a.Time('2016/02/03', '2016/02/03 00:10:00') & a.Instrument('AIA')\n",
    "Fido.search(mysearch)"
   ]
  },
  {
   "cell_type": "markdown",
   "metadata": {},
   "source": [
    "If we want to do the same query but for two seperate wavelengths we can use the `|` or operator:"
   ]
  },
  {
   "cell_type": "code",
   "execution_count": 5,
   "metadata": {},
   "outputs": [
    {
     "name": "stderr",
     "output_type": "stream",
     "text": [
      "WARNING: AstropyDeprecationWarning: The truth value of a Quantity is ambiguous. In the future this will raise a ValueError. [astropy.units.quantity]\n"
     ]
    },
    {
     "data": {
      "text/html": [
       "Results from 2 Providers:</br></br>50 Results from the VSOClient:</br><i>QTable length=50</i>\n",
       "<table id=\"table2085501869976\" class=\"table-striped table-bordered table-condensed\">\n",
       "<thead><tr><th>Start Time [1]</th><th>End Time [1]</th><th>Source</th><th>Instrument</th><th>Type</th><th>Wavelength [2]</th></tr></thead>\n",
       "<thead><tr><th></th><th></th><th></th><th></th><th></th><th>Angstrom</th></tr></thead>\n",
       "<thead><tr><th>str19</th><th>str19</th><th>str3</th><th>str3</th><th>str8</th><th>float64</th></tr></thead>\n",
       "<tr><td>2016-02-03 00:00:10</td><td>2016-02-03 00:00:11</td><td>SDO</td><td>AIA</td><td>FULLDISK</td><td>171.0 .. 171.0</td></tr>\n",
       "<tr><td>2016-02-03 00:00:22</td><td>2016-02-03 00:00:23</td><td>SDO</td><td>AIA</td><td>FULLDISK</td><td>171.0 .. 171.0</td></tr>\n",
       "<tr><td>2016-02-03 00:00:34</td><td>2016-02-03 00:00:35</td><td>SDO</td><td>AIA</td><td>FULLDISK</td><td>171.0 .. 171.0</td></tr>\n",
       "<tr><td>2016-02-03 00:00:46</td><td>2016-02-03 00:00:47</td><td>SDO</td><td>AIA</td><td>FULLDISK</td><td>171.0 .. 171.0</td></tr>\n",
       "<tr><td>2016-02-03 00:00:58</td><td>2016-02-03 00:00:59</td><td>SDO</td><td>AIA</td><td>FULLDISK</td><td>171.0 .. 171.0</td></tr>\n",
       "<tr><td>2016-02-03 00:01:10</td><td>2016-02-03 00:01:11</td><td>SDO</td><td>AIA</td><td>FULLDISK</td><td>171.0 .. 171.0</td></tr>\n",
       "<tr><td>2016-02-03 00:01:22</td><td>2016-02-03 00:01:23</td><td>SDO</td><td>AIA</td><td>FULLDISK</td><td>171.0 .. 171.0</td></tr>\n",
       "<tr><td>2016-02-03 00:01:34</td><td>2016-02-03 00:01:35</td><td>SDO</td><td>AIA</td><td>FULLDISK</td><td>171.0 .. 171.0</td></tr>\n",
       "<tr><td>2016-02-03 00:01:46</td><td>2016-02-03 00:01:47</td><td>SDO</td><td>AIA</td><td>FULLDISK</td><td>171.0 .. 171.0</td></tr>\n",
       "<tr><td>...</td><td>...</td><td>...</td><td>...</td><td>...</td><td>...</td></tr>\n",
       "<tr><td>2016-02-03 00:08:10</td><td>2016-02-03 00:08:11</td><td>SDO</td><td>AIA</td><td>FULLDISK</td><td>171.0 .. 171.0</td></tr>\n",
       "<tr><td>2016-02-03 00:08:22</td><td>2016-02-03 00:08:23</td><td>SDO</td><td>AIA</td><td>FULLDISK</td><td>171.0 .. 171.0</td></tr>\n",
       "<tr><td>2016-02-03 00:08:34</td><td>2016-02-03 00:08:35</td><td>SDO</td><td>AIA</td><td>FULLDISK</td><td>171.0 .. 171.0</td></tr>\n",
       "<tr><td>2016-02-03 00:08:46</td><td>2016-02-03 00:08:47</td><td>SDO</td><td>AIA</td><td>FULLDISK</td><td>171.0 .. 171.0</td></tr>\n",
       "<tr><td>2016-02-03 00:08:58</td><td>2016-02-03 00:08:59</td><td>SDO</td><td>AIA</td><td>FULLDISK</td><td>171.0 .. 171.0</td></tr>\n",
       "<tr><td>2016-02-03 00:09:10</td><td>2016-02-03 00:09:11</td><td>SDO</td><td>AIA</td><td>FULLDISK</td><td>171.0 .. 171.0</td></tr>\n",
       "<tr><td>2016-02-03 00:09:22</td><td>2016-02-03 00:09:23</td><td>SDO</td><td>AIA</td><td>FULLDISK</td><td>171.0 .. 171.0</td></tr>\n",
       "<tr><td>2016-02-03 00:09:34</td><td>2016-02-03 00:09:35</td><td>SDO</td><td>AIA</td><td>FULLDISK</td><td>171.0 .. 171.0</td></tr>\n",
       "<tr><td>2016-02-03 00:09:46</td><td>2016-02-03 00:09:47</td><td>SDO</td><td>AIA</td><td>FULLDISK</td><td>171.0 .. 171.0</td></tr>\n",
       "<tr><td>2016-02-03 00:09:58</td><td>2016-02-03 00:09:59</td><td>SDO</td><td>AIA</td><td>FULLDISK</td><td>171.0 .. 171.0</td></tr>\n",
       "</table></br>50 Results from the VSOClient:</br><i>QTable length=50</i>\n",
       "<table id=\"table2085501945392\" class=\"table-striped table-bordered table-condensed\">\n",
       "<thead><tr><th>Start Time [1]</th><th>End Time [1]</th><th>Source</th><th>Instrument</th><th>Type</th><th>Wavelength [2]</th></tr></thead>\n",
       "<thead><tr><th></th><th></th><th></th><th></th><th></th><th>Angstrom</th></tr></thead>\n",
       "<thead><tr><th>str19</th><th>str19</th><th>str3</th><th>str3</th><th>str8</th><th>float64</th></tr></thead>\n",
       "<tr><td>2016-02-03 00:00:06</td><td>2016-02-03 00:00:07</td><td>SDO</td><td>AIA</td><td>FULLDISK</td><td>304.0 .. 304.0</td></tr>\n",
       "<tr><td>2016-02-03 00:00:18</td><td>2016-02-03 00:00:19</td><td>SDO</td><td>AIA</td><td>FULLDISK</td><td>304.0 .. 304.0</td></tr>\n",
       "<tr><td>2016-02-03 00:00:30</td><td>2016-02-03 00:00:31</td><td>SDO</td><td>AIA</td><td>FULLDISK</td><td>304.0 .. 304.0</td></tr>\n",
       "<tr><td>2016-02-03 00:00:42</td><td>2016-02-03 00:00:43</td><td>SDO</td><td>AIA</td><td>FULLDISK</td><td>304.0 .. 304.0</td></tr>\n",
       "<tr><td>2016-02-03 00:00:54</td><td>2016-02-03 00:00:55</td><td>SDO</td><td>AIA</td><td>FULLDISK</td><td>304.0 .. 304.0</td></tr>\n",
       "<tr><td>2016-02-03 00:01:06</td><td>2016-02-03 00:01:07</td><td>SDO</td><td>AIA</td><td>FULLDISK</td><td>304.0 .. 304.0</td></tr>\n",
       "<tr><td>2016-02-03 00:01:18</td><td>2016-02-03 00:01:19</td><td>SDO</td><td>AIA</td><td>FULLDISK</td><td>304.0 .. 304.0</td></tr>\n",
       "<tr><td>2016-02-03 00:01:30</td><td>2016-02-03 00:01:31</td><td>SDO</td><td>AIA</td><td>FULLDISK</td><td>304.0 .. 304.0</td></tr>\n",
       "<tr><td>2016-02-03 00:01:42</td><td>2016-02-03 00:01:43</td><td>SDO</td><td>AIA</td><td>FULLDISK</td><td>304.0 .. 304.0</td></tr>\n",
       "<tr><td>...</td><td>...</td><td>...</td><td>...</td><td>...</td><td>...</td></tr>\n",
       "<tr><td>2016-02-03 00:08:06</td><td>2016-02-03 00:08:07</td><td>SDO</td><td>AIA</td><td>FULLDISK</td><td>304.0 .. 304.0</td></tr>\n",
       "<tr><td>2016-02-03 00:08:18</td><td>2016-02-03 00:08:19</td><td>SDO</td><td>AIA</td><td>FULLDISK</td><td>304.0 .. 304.0</td></tr>\n",
       "<tr><td>2016-02-03 00:08:30</td><td>2016-02-03 00:08:31</td><td>SDO</td><td>AIA</td><td>FULLDISK</td><td>304.0 .. 304.0</td></tr>\n",
       "<tr><td>2016-02-03 00:08:42</td><td>2016-02-03 00:08:43</td><td>SDO</td><td>AIA</td><td>FULLDISK</td><td>304.0 .. 304.0</td></tr>\n",
       "<tr><td>2016-02-03 00:08:54</td><td>2016-02-03 00:08:55</td><td>SDO</td><td>AIA</td><td>FULLDISK</td><td>304.0 .. 304.0</td></tr>\n",
       "<tr><td>2016-02-03 00:09:06</td><td>2016-02-03 00:09:07</td><td>SDO</td><td>AIA</td><td>FULLDISK</td><td>304.0 .. 304.0</td></tr>\n",
       "<tr><td>2016-02-03 00:09:18</td><td>2016-02-03 00:09:19</td><td>SDO</td><td>AIA</td><td>FULLDISK</td><td>304.0 .. 304.0</td></tr>\n",
       "<tr><td>2016-02-03 00:09:30</td><td>2016-02-03 00:09:31</td><td>SDO</td><td>AIA</td><td>FULLDISK</td><td>304.0 .. 304.0</td></tr>\n",
       "<tr><td>2016-02-03 00:09:42</td><td>2016-02-03 00:09:43</td><td>SDO</td><td>AIA</td><td>FULLDISK</td><td>304.0 .. 304.0</td></tr>\n",
       "<tr><td>2016-02-03 00:09:54</td><td>2016-02-03 00:09:55</td><td>SDO</td><td>AIA</td><td>FULLDISK</td><td>304.0 .. 304.0</td></tr>\n",
       "</table></br>"
      ],
      "text/plain": [
       "<sunpy.net.fido_factory.UnifiedResponse object at 0x000001E5907EE8D0>\n",
       "Results from 2 Providers:\n",
       "\n",
       "50 Results from the VSOClient:\n",
       "   Start Time [1]       End Time [1]    Source ...   Type   Wavelength [2]\n",
       "                                               ...             Angstrom   \n",
       "       str19               str19         str3  ...   str8      float64    \n",
       "------------------- ------------------- ------ ... -------- --------------\n",
       "2016-02-03 00:00:10 2016-02-03 00:00:11    SDO ... FULLDISK 171.0 .. 171.0\n",
       "2016-02-03 00:00:22 2016-02-03 00:00:23    SDO ... FULLDISK 171.0 .. 171.0\n",
       "2016-02-03 00:00:34 2016-02-03 00:00:35    SDO ... FULLDISK 171.0 .. 171.0\n",
       "2016-02-03 00:00:46 2016-02-03 00:00:47    SDO ... FULLDISK 171.0 .. 171.0\n",
       "2016-02-03 00:00:58 2016-02-03 00:00:59    SDO ... FULLDISK 171.0 .. 171.0\n",
       "2016-02-03 00:01:10 2016-02-03 00:01:11    SDO ... FULLDISK 171.0 .. 171.0\n",
       "2016-02-03 00:01:22 2016-02-03 00:01:23    SDO ... FULLDISK 171.0 .. 171.0\n",
       "2016-02-03 00:01:34 2016-02-03 00:01:35    SDO ... FULLDISK 171.0 .. 171.0\n",
       "2016-02-03 00:01:46 2016-02-03 00:01:47    SDO ... FULLDISK 171.0 .. 171.0\n",
       "                ...                 ...    ... ...      ...            ...\n",
       "2016-02-03 00:08:10 2016-02-03 00:08:11    SDO ... FULLDISK 171.0 .. 171.0\n",
       "2016-02-03 00:08:22 2016-02-03 00:08:23    SDO ... FULLDISK 171.0 .. 171.0\n",
       "2016-02-03 00:08:34 2016-02-03 00:08:35    SDO ... FULLDISK 171.0 .. 171.0\n",
       "2016-02-03 00:08:46 2016-02-03 00:08:47    SDO ... FULLDISK 171.0 .. 171.0\n",
       "2016-02-03 00:08:58 2016-02-03 00:08:59    SDO ... FULLDISK 171.0 .. 171.0\n",
       "2016-02-03 00:09:10 2016-02-03 00:09:11    SDO ... FULLDISK 171.0 .. 171.0\n",
       "2016-02-03 00:09:22 2016-02-03 00:09:23    SDO ... FULLDISK 171.0 .. 171.0\n",
       "2016-02-03 00:09:34 2016-02-03 00:09:35    SDO ... FULLDISK 171.0 .. 171.0\n",
       "2016-02-03 00:09:46 2016-02-03 00:09:47    SDO ... FULLDISK 171.0 .. 171.0\n",
       "2016-02-03 00:09:58 2016-02-03 00:09:59    SDO ... FULLDISK 171.0 .. 171.0\n",
       "\n",
       "50 Results from the VSOClient:\n",
       "   Start Time [1]       End Time [1]    Source ...   Type   Wavelength [2]\n",
       "                                               ...             Angstrom   \n",
       "       str19               str19         str3  ...   str8      float64    \n",
       "------------------- ------------------- ------ ... -------- --------------\n",
       "2016-02-03 00:00:06 2016-02-03 00:00:07    SDO ... FULLDISK 304.0 .. 304.0\n",
       "2016-02-03 00:00:18 2016-02-03 00:00:19    SDO ... FULLDISK 304.0 .. 304.0\n",
       "2016-02-03 00:00:30 2016-02-03 00:00:31    SDO ... FULLDISK 304.0 .. 304.0\n",
       "2016-02-03 00:00:42 2016-02-03 00:00:43    SDO ... FULLDISK 304.0 .. 304.0\n",
       "2016-02-03 00:00:54 2016-02-03 00:00:55    SDO ... FULLDISK 304.0 .. 304.0\n",
       "2016-02-03 00:01:06 2016-02-03 00:01:07    SDO ... FULLDISK 304.0 .. 304.0\n",
       "2016-02-03 00:01:18 2016-02-03 00:01:19    SDO ... FULLDISK 304.0 .. 304.0\n",
       "2016-02-03 00:01:30 2016-02-03 00:01:31    SDO ... FULLDISK 304.0 .. 304.0\n",
       "2016-02-03 00:01:42 2016-02-03 00:01:43    SDO ... FULLDISK 304.0 .. 304.0\n",
       "                ...                 ...    ... ...      ...            ...\n",
       "2016-02-03 00:08:06 2016-02-03 00:08:07    SDO ... FULLDISK 304.0 .. 304.0\n",
       "2016-02-03 00:08:18 2016-02-03 00:08:19    SDO ... FULLDISK 304.0 .. 304.0\n",
       "2016-02-03 00:08:30 2016-02-03 00:08:31    SDO ... FULLDISK 304.0 .. 304.0\n",
       "2016-02-03 00:08:42 2016-02-03 00:08:43    SDO ... FULLDISK 304.0 .. 304.0\n",
       "2016-02-03 00:08:54 2016-02-03 00:08:55    SDO ... FULLDISK 304.0 .. 304.0\n",
       "2016-02-03 00:09:06 2016-02-03 00:09:07    SDO ... FULLDISK 304.0 .. 304.0\n",
       "2016-02-03 00:09:18 2016-02-03 00:09:19    SDO ... FULLDISK 304.0 .. 304.0\n",
       "2016-02-03 00:09:30 2016-02-03 00:09:31    SDO ... FULLDISK 304.0 .. 304.0\n",
       "2016-02-03 00:09:42 2016-02-03 00:09:43    SDO ... FULLDISK 304.0 .. 304.0\n",
       "2016-02-03 00:09:54 2016-02-03 00:09:55    SDO ... FULLDISK 304.0 .. 304.0\n"
      ]
     },
     "execution_count": 5,
     "metadata": {},
     "output_type": "execute_result"
    }
   ],
   "source": [
    "instrument = a.Time('2016/02/03', '2016/02/03 00:10:00') & a.Instrument('AIA')\n",
    "wavelength = a.Wavelength(17.1*u.nm, 17.1*u.nm) | a.Wavelength(304*u.AA)\n",
    "mysearch = instrument & wavelength\n",
    "\n",
    "Fido.search(mysearch)"
   ]
  },
  {
   "cell_type": "markdown",
   "metadata": {},
   "source": [
    "### Multiple Instruments\n",
    "\n",
    "In this example we want to download one image from STEREO A EUVI and one image from SDO AIA as close together in time as we can. To do this we will define a search for the AIA image and a search for the EUVI image then 'or' them together."
   ]
  },
  {
   "cell_type": "code",
   "execution_count": 6,
   "metadata": {},
   "outputs": [
    {
     "name": "stderr",
     "output_type": "stream",
     "text": [
      "WARNING: AstropyDeprecationWarning: The truth value of a Quantity is ambiguous. In the future this will raise a ValueError. [astropy.units.quantity]\n"
     ]
    }
   ],
   "source": [
    "stereo = (a.vso.Source('STEREO_B') & a.Instrument('EUVI') & a.Time('2011-01-01', '2011-01-01 00:10:00'))\n",
    "\n",
    "aia = (a.Instrument('AIA') & a.Sample(24 * u.hour) & a.Time('2011-01-01', '2011-01-02'))\n",
    "\n",
    "wave = a.Wavelength(30*u.nm, 31*u.nm)"
   ]
  },
  {
   "cell_type": "code",
   "execution_count": 7,
   "metadata": {},
   "outputs": [
    {
     "data": {
      "text/html": [
       "Results from 2 Providers:</br></br>1 Results from the VSOClient:</br><i>QTable length=1</i>\n",
       "<table id=\"table2085503079648\" class=\"table-striped table-bordered table-condensed\">\n",
       "<thead><tr><th>Start Time [1]</th><th>End Time [1]</th><th>Source</th><th>Instrument</th><th>Type</th><th>Wavelength [2]</th></tr></thead>\n",
       "<thead><tr><th></th><th></th><th></th><th></th><th></th><th>Angstrom</th></tr></thead>\n",
       "<thead><tr><th>str19</th><th>str19</th><th>str8</th><th>str6</th><th>str8</th><th>float64</th></tr></thead>\n",
       "<tr><td>2011-01-01 00:07:01</td><td>2011-01-01 00:07:05</td><td>STEREO_B</td><td>SECCHI</td><td>FULLDISK</td><td>304.0 .. 304.0</td></tr>\n",
       "</table></br>1 Results from the VSOClient:</br><i>QTable length=1</i>\n",
       "<table id=\"table2085503055464\" class=\"table-striped table-bordered table-condensed\">\n",
       "<thead><tr><th>Start Time [1]</th><th>End Time [1]</th><th>Source</th><th>Instrument</th><th>Type</th><th>Wavelength [2]</th></tr></thead>\n",
       "<thead><tr><th></th><th></th><th></th><th></th><th></th><th>Angstrom</th></tr></thead>\n",
       "<thead><tr><th>str19</th><th>str19</th><th>str3</th><th>str3</th><th>str8</th><th>float64</th></tr></thead>\n",
       "<tr><td>2011-01-01 00:00:08</td><td>2011-01-01 00:00:09</td><td>SDO</td><td>AIA</td><td>FULLDISK</td><td>304.0 .. 304.0</td></tr>\n",
       "</table></br>"
      ],
      "text/plain": [
       "<sunpy.net.fido_factory.UnifiedResponse object at 0x000001E591858EF0>\n",
       "Results from 2 Providers:\n",
       "\n",
       "1 Results from the VSOClient:\n",
       "   Start Time [1]       End Time [1]     Source  ...   Type   Wavelength [2]\n",
       "                                                 ...             Angstrom   \n",
       "       str19               str19          str8   ...   str8      float64    \n",
       "------------------- ------------------- -------- ... -------- --------------\n",
       "2011-01-01 00:07:01 2011-01-01 00:07:05 STEREO_B ... FULLDISK 304.0 .. 304.0\n",
       "\n",
       "1 Results from the VSOClient:\n",
       "   Start Time [1]       End Time [1]    Source ...   Type   Wavelength [2]\n",
       "                                               ...             Angstrom   \n",
       "       str19               str19         str3  ...   str8      float64    \n",
       "------------------- ------------------- ------ ... -------- --------------\n",
       "2011-01-01 00:00:08 2011-01-01 00:00:09    SDO ... FULLDISK 304.0 .. 304.0\n"
      ]
     },
     "execution_count": 7,
     "metadata": {},
     "output_type": "execute_result"
    }
   ],
   "source": [
    "results = Fido.search(stereo | aia, wave)\n",
    "results"
   ]
  },
  {
   "cell_type": "code",
   "execution_count": 8,
   "metadata": {},
   "outputs": [
    {
     "name": "stdout",
     "output_type": "stream",
     "text": [
      "[                                        ========================================\n",
      "[                                        ========================================\n"
     ]
    },
    {
     "data": {
      "text/plain": [
       "['C:\\\\Users\\\\User\\\\sunpy\\\\data\\\\20110101_000615_n4eub.fts',\n",
       " 'C:\\\\Users\\\\User\\\\sunpy\\\\data\\\\aia_lev1_304a_2011_01_01t00_00_08_12z_image_lev1.fits']"
      ]
     },
     "execution_count": 8,
     "metadata": {},
     "output_type": "execute_result"
    }
   ],
   "source": [
    "files = Fido.fetch(results)\n",
    "files"
   ]
  },
  {
   "cell_type": "code",
   "execution_count": 9,
   "metadata": {},
   "outputs": [
    {
     "data": {
      "text/plain": [
       "{'extent',\n",
       " 'fileid',\n",
       " 'info',\n",
       " 'instrument',\n",
       " 'physobs',\n",
       " 'provider',\n",
       " 'size',\n",
       " 'source',\n",
       " 'time',\n",
       " 'wave'}"
      ]
     },
     "execution_count": 9,
     "metadata": {},
     "output_type": "execute_result"
    }
   ],
   "source": [
    "results.response_block_properties()"
   ]
  },
  {
   "cell_type": "markdown",
   "metadata": {},
   "source": [
    "## HEK\n",
    "\n",
    "The Heliophysics Event Knowledgebase (HEK) is a repository of feature and event information about the Sun. Entries are generated both by automated algorithms and human observers.\n",
    "\n",
    "We need to set up HEK:"
   ]
  },
  {
   "cell_type": "code",
   "execution_count": 10,
   "metadata": {},
   "outputs": [],
   "source": [
    "from sunpy.net import hek\n",
    "hek_client = hek.HEKClient()"
   ]
  },
  {
   "cell_type": "markdown",
   "metadata": {},
   "source": [
    "Creating a very similar client as we saw with VSO above.\n",
    "\n",
    "Given that HEK is a database of solar events of interest, the query has different requirements to VSO. It needs start and end times, and an event type. Again time objects can be defined as datetime objects or correctly formatted strings.\n",
    "\n",
    "Event types are specified as uppercase two letter strings found on [the HEK website](http://www.lmsal.com/hek/VOEvent_Spec.html)"
   ]
  },
  {
   "cell_type": "code",
   "execution_count": 12,
   "metadata": {},
   "outputs": [],
   "source": [
    "tstart = '2011-08-09 07:23:56'\n",
    "tend = '2011-08-09 12:40:29'\n",
    "event_type = 'FL'\n",
    "\n",
    "result=hek_client.search(hek.attrs.Time(tstart, tend), hek.attrs.EventType(event_type))"
   ]
  },
  {
   "cell_type": "markdown",
   "metadata": {},
   "source": [
    "Notice that the HEK query is extremely similar to the VSO query style, with our attributes defined accordingly.\n",
    "\n",
    "Instead of returning a list, HEK returns a list of dictionary objects. Each entry in the dictionary sis a pair of key-value pairs that exactly correspond to the parameters. We can return the key words using:"
   ]
  },
  {
   "cell_type": "code",
   "execution_count": 14,
   "metadata": {},
   "outputs": [
    {
     "name": "stdout",
     "output_type": "stream",
     "text": [
      "asainz\n",
      "None\n",
      "asainz\n",
      "None\n",
      "asainz\n",
      "None\n",
      "asainz\n",
      "None\n",
      "asainz\n",
      "None\n",
      "asainz\n",
      "None\n",
      "asainz\n",
      "None\n",
      "SSW Latest Events\n",
      "None\n",
      "SWPC\n",
      "None\n",
      "Flare Detective - Trigger Module\n",
      "2326.86\n",
      "Flare Detective - Trigger Module\n",
      "1698.83\n",
      "SSW Latest Events\n",
      "None\n",
      "SWPC\n",
      "None\n",
      "Flare Detective - Trigger Module\n",
      "2360.49\n",
      "Flare Detective - Trigger Module\n",
      "3242.64\n",
      "Flare Detective - Trigger Module\n",
      "1375.93\n",
      "Flare Detective - Trigger Module\n",
      "6275.98\n",
      "Flare Detective - Trigger Module\n",
      "923.984\n",
      "Flare Detective - Trigger Module\n",
      "1019.83\n"
     ]
    }
   ],
   "source": [
    "for elm in result:\n",
    "    print(elm['frm_name'])\n",
    "    print(elm['fl_peakflux'])"
   ]
  },
  {
   "cell_type": "markdown",
   "metadata": {},
   "source": [
    "Remember, the HEK query we made returns all the flares in the time-range stored in the HEK, regardless of the feature recognition method. The HEK parameter which stores the the feature recognition method is called “frm_name”. Using list comprehensions (which are very cool), it is easy to get a list of the feature recognition methods used to find each of the flares in the result object, for example:"
   ]
  },
  {
   "cell_type": "code",
   "execution_count": null,
   "metadata": {},
   "outputs": [],
   "source": []
  },
  {
   "cell_type": "markdown",
   "metadata": {},
   "source": [
    "This way we can avoid troublesome doubling up of results. We can do the same `help(hek.attrs)` command as VSO to fins out further options. "
   ]
  },
  {
   "cell_type": "markdown",
   "metadata": {},
   "source": [
    "## Aquiring data with AstroQuery\n",
    "\n",
    "Astroquery supports a plethora of [services](https://astroquery.readthedocs.org/en/latest/#using-astroquery), all of which follow roughly the same API (application program interface). In its simplest for the API involves queries based on coordinates or object names e.g. using SIMBAD:"
   ]
  },
  {
   "cell_type": "code",
   "execution_count": 19,
   "metadata": {},
   "outputs": [
    {
     "ename": "ModuleNotFoundError",
     "evalue": "No module named 'astroquery'",
     "output_type": "error",
     "traceback": [
      "\u001b[1;31m---------------------------------------------------------------------------\u001b[0m",
      "\u001b[1;31mModuleNotFoundError\u001b[0m                       Traceback (most recent call last)",
      "\u001b[1;32m<ipython-input-19-d7e8b61f2662>\u001b[0m in \u001b[0;36m<module>\u001b[1;34m()\u001b[0m\n\u001b[1;32m----> 1\u001b[1;33m \u001b[1;32mfrom\u001b[0m \u001b[0mastroquery\u001b[0m\u001b[1;33m.\u001b[0m\u001b[0msimbad\u001b[0m \u001b[1;32mimport\u001b[0m \u001b[0mSimbad\u001b[0m\u001b[1;33m\u001b[0m\u001b[0m\n\u001b[0m",
      "\u001b[1;31mModuleNotFoundError\u001b[0m: No module named 'astroquery'"
     ]
    }
   ],
   "source": [
    "from astroquery.simbad import Simbad"
   ]
  },
  {
   "cell_type": "markdown",
   "metadata": {},
   "source": [
    "In this case the query is looking at a specific set of coordinates"
   ]
  },
  {
   "cell_type": "code",
   "execution_count": null,
   "metadata": {},
   "outputs": [],
   "source": []
  },
  {
   "cell_type": "markdown",
   "metadata": {},
   "source": [
    "These methods can be expanded to all the following modules\n",
    "\n",
    "\n",
    "*    SIMBAD Queries (astroquery.simbad)\n",
    "*    IRSA Dust Extinction Service Queries (astroquery.irsa_dust)\n",
    "*    NED Queries (astroquery.ned)\n",
    "*    Splatalogue Queries (astroquery.splatalogue)\n",
    "*    IRSA Image Server program interface (IBE) Queries (astroquery.ibe)\n",
    "*    IRSA Queries (astroquery.irsa)\n",
    "*    UKIDSS Queries (astroquery.ukidss)\n",
    "*    MAGPIS Queries (astroquery.magpis)\n",
    "*    NRAO Queries (astroquery.nrao)\n",
    "*    Besancon Queries (astroquery.besancon)\n",
    "*    NIST Queries (astroquery.nist)\n",
    "*    NVAS Queries (astroquery.nvas)\n",
    "*    GAMA Queries (astroquery.gama)\n",
    "*    ESO Queries (astroquery.eso)\n",
    "*    Atomic Line List (astroquery.atomic)\n",
    "*    ALMA Queries (astroquery.alma)\n",
    "*    Skyview Queries (astroquery.skyview)\n",
    "*    NASA ADS Queries (astroquery.nasa_ads)\n",
    "*    HEASARC Queries (astroquery.heasarc)\n",
    "\n"
   ]
  },
  {
   "cell_type": "markdown",
   "metadata": {},
   "source": [
    "# Combining Queries and Plotting"
   ]
  },
  {
   "cell_type": "markdown",
   "metadata": {},
   "source": [
    "Using astroquery and wcsaxes together we can download both an image and a star field and over plot them. To download an image we can use the Simbad service:"
   ]
  },
  {
   "cell_type": "code",
   "execution_count": null,
   "metadata": {},
   "outputs": [],
   "source": []
  },
  {
   "cell_type": "code",
   "execution_count": null,
   "metadata": {},
   "outputs": [],
   "source": []
  },
  {
   "cell_type": "code",
   "execution_count": null,
   "metadata": {},
   "outputs": [],
   "source": []
  },
  {
   "cell_type": "markdown",
   "metadata": {},
   "source": [
    "<section class=\"objectives panel panel-success\">\n",
    "<div class=\"panel-heading\">\n",
    "<h2><span class=\"fa fa-pencil\"></span> Plot this image using WCSAxes </h2>\n",
    "</div>\n",
    "<ul>\n",
    "<li>\n",
    "Create a WCS object.\n",
    "</li>\n",
    "<li>\n",
    "Create a figure with the projection set to the WCS object\n",
    "</li>\n",
    "<li>\n",
    "Plot the image.\n",
    "</li>\n",
    "</ul>\n",
    "</section>"
   ]
  },
  {
   "cell_type": "code",
   "execution_count": null,
   "metadata": {},
   "outputs": [],
   "source": []
  },
  {
   "cell_type": "code",
   "execution_count": null,
   "metadata": {},
   "outputs": [],
   "source": []
  },
  {
   "cell_type": "code",
   "execution_count": null,
   "metadata": {},
   "outputs": [],
   "source": []
  },
  {
   "cell_type": "code",
   "execution_count": null,
   "metadata": {},
   "outputs": [],
   "source": []
  },
  {
   "cell_type": "markdown",
   "metadata": {},
   "source": [
    "Download some catalog data:"
   ]
  },
  {
   "cell_type": "code",
   "execution_count": null,
   "metadata": {},
   "outputs": [],
   "source": []
  },
  {
   "cell_type": "code",
   "execution_count": null,
   "metadata": {},
   "outputs": [],
   "source": []
  },
  {
   "cell_type": "code",
   "execution_count": null,
   "metadata": {},
   "outputs": [],
   "source": []
  },
  {
   "cell_type": "code",
   "execution_count": null,
   "metadata": {},
   "outputs": [],
   "source": []
  },
  {
   "cell_type": "code",
   "execution_count": null,
   "metadata": {},
   "outputs": [],
   "source": []
  },
  {
   "cell_type": "code",
   "execution_count": null,
   "metadata": {},
   "outputs": [],
   "source": []
  }
 ],
 "metadata": {
  "kernelspec": {
   "display_name": "Python 3",
   "language": "python",
   "name": "python3"
  },
  "language_info": {
   "codemirror_mode": {
    "name": "ipython",
    "version": 3
   },
   "file_extension": ".py",
   "mimetype": "text/x-python",
   "name": "python",
   "nbconvert_exporter": "python",
   "pygments_lexer": "ipython3",
   "version": "3.6.5"
  }
 },
 "nbformat": 4,
 "nbformat_minor": 1
}
